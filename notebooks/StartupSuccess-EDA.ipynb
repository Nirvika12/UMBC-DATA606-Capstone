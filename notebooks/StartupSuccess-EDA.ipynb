{
 "cells": [
  {
   "cell_type": "markdown",
   "id": "542d7aa6-c3c2-4b93-8755-19e2721c28f6",
   "metadata": {},
   "source": [
    "# UMBC DATA606 Capstone –  Predicting Student Startup Success\n",
    "\n",
    "**Project Title:**  Predicting Student Startup Success Using Team, Innovation, and Support Factors\n",
    "\n",
    "**Prepared for:** Dr. Chaojie (Jay) Wang  \n",
    "\n",
    "**Author:** Nirvika Rajendra\n",
    "\n",
    "**GitHub Repository:** https://github.com/Nirvika12/UMBC-DATA606-Capstone\n",
    "\n",
    "**LinkedIn Profile:** https://www.linkedin.com/in/nirvika-rajendra-70555b2b2/\n",
    "\n",
    "---\n",
    "\n",
    "## Background\n",
    "\n",
    "This project aims to predict the success of student-led startup projects by leveraging a dataset containing key structural, strategic, and support-related factors. The dataset includes 2,100 student startup initiatives from 40 academic institutions spanning 2019–2023. By understanding which internal factors—such as team experience, innovation level, funding, mentorship, and incubation—drive startup success, the study seeks to develop predictive models that can guide educational institutions and incubators in nurturing effective entrepreneurial ventures.\n",
    "\n",
    "### Why it Matters?\n",
    "\n",
    "Student entrepreneurship is an important engine for innovation and economic growth. Successful startup projects lead to job creation, new products and services, and can significantly impact regional economies. This study can help:\n",
    "\n",
    "1. Identify critical factors contributing to student startup success.\n",
    "\n",
    "2. Inform institutional policies on mentorship, funding, and incubation programs.\n",
    "\n",
    "3. Provide actionable insights for educators and startup incubators.\n",
    "\n",
    "4. Enhance resource allocation to maximize the success rates of student ventures.\n",
    "\n",
    "### Research Questions:\n",
    "\n",
    "1. Which project-related factors best predict the success of student-led startups?\n",
    "\n",
    "2. How do team characteristics (size, experience) influence project outcomes?\n",
    "\n",
    "3. What role do innovation and technology maturity play in predicting success?\n",
    "\n",
    "4. How impactful are institutional supports like mentorship and incubation on startup outcomes?\n",
    "\n",
    "5. Can predictive models built on these factors reliably classify successful vs unsuccessful projects\n",
    "\n",
    "\n",
    "---\n",
    "\n",
    "## Data\n",
    "\n",
    "### Data Source\n",
    "\n",
    "Kaggle dataset: [Student Startup Success Dataset](https://www.kaggle.com/datasets/ziya07/student-startup-success-dataset/data)\n",
    "\n",
    "### Data Size and Shape\n",
    "\n",
    "* ~2,100 records, 16 columns.\n",
    "\n",
    "* File size: ~176 KB (CSV).\n",
    "\n",
    "### Time Period\n",
    "\n",
    "* Dataset sourced from 40 academic institution's startup initiatives, 2019–2023.\n",
    "\n",
    "### Unit of Observation\n",
    "Each record corresponds to a single student startup project.\n",
    "\n",
    "* Each row represents a student record, including academic, extracurricular, personal, and entrepreneurial attributes.\n",
    "\n",
    "| Column                   | Type        | Description                                       | Possible Values / Range                          |\n",
    "| ------------------------ | ----------- | ------------------------------------------------- | ------------------------------------------------ |\n",
    "| `project_id`             | String      | Unique project identifier                         | Alphanumeric (e.g., P0001, P0002, etc.)          |\n",
    "| `institution_name`       | Categorical | Name of the institution                           | Multiple university/college names                |\n",
    "| `institution_type`       | Categorical | Type of institution                               | Public, Private, Technical, Non-tech             |\n",
    "| `project_domain`         | Categorical | Startup domain (sector/industry)                  | AgriTech, FinTech, GreenTech, HealthTech, EdTech |\n",
    "| `team_size`              | Integer     | Number of students in the startup team            | 1–10+                                            |\n",
    "| `avg_team_experience`    | Float       | Average years of prior entrepreneurial experience | 0–10                                             |\n",
    "| `innovation_score`       | Float       | Novelty/originality score normalized (0–1)        | 0–1                                              |\n",
    "| `funding_amount_usd`     | Float       | Initial funding received in USD                   | 0 – Millions                                     |\n",
    "| `mentorship_support`     | Binary      | Mentorship received                               | 0 or 1 (1 = Yes, 0 = No)                         |\n",
    "| `incubation_support`     | Binary      | Whether incubated                                 | 0 or 1 (1 = Yes, 0 = No)                         |\n",
    "| `market_readiness_level` | Integer     | Stage of product readiness                        | 1–5 (1 = idea, 5 = market-ready)                 |\n",
    "| `competition_awards`     | Integer     | Number of awards won                              | 0+                                               |\n",
    "| `business_model_score`   | Float       | Clarity and scalability of business model (0–1)   | 0–1                                              |\n",
    "| `technology_maturity`    | Integer     | Maturity level of technology                      | 1–5 (1 = prototype, 5 = production)              |\n",
    "| `year`                   | Integer     | Year project was submitted                        | 2019–2023                                        |\n",
    "| `success_label`          | Binary      | Target variable: success or failure               | 0 or 1 (1 = Success, 0 = Failure)                |\n",
    "\n",
    "### Project Scope and Methodology\n",
    "\n",
    "Target Variable: success_label (binary: 1 = Successful, 0 = Unsuccessful).\n",
    "\n",
    "Features: All other columns (e.g., funding_amount_usd, innovation_score, team_size, etc.).\n",
    "\n",
    "## Steps:\n",
    "1. Exploratory Data Analysis (EDA):\n",
    "\n",
    "* Analyze feature distributions, missing values, and correlations with success.\n",
    "* Visualize patterns and trends.\n",
    "\n",
    "2. Feature Engineering:\n",
    "\n",
    "* Create new features (e.g., team dynamics, support systems, innovation metrics).\n",
    "* Normalize/scale continuous features.\n",
    "\n",
    "3. Model Selection & Training:\n",
    "\n",
    "* Models: Random Forest, XGBoost, Logistic Regression.\n",
    "* Tune models with cross-validation.\n",
    "\n",
    "4. Model Evaluation:\n",
    "\n",
    "* Evaluate using accuracy, precision, recall, F1-score.\n",
    "* Compare performance of models.\n",
    "\n",
    "5. Feature Importance Analysis:\n",
    "\n",
    "* Identify most influential features (e.g., funding, mentorship support).\n",
    "\n",
    "6. Practical Implications:\n",
    "\n",
    "* Insights for universities, incubators to enhance startup support systems.\n",
    "\n",
    "7. Frontend Application:\n",
    "\n",
    "* Deploy the model via Streamlit for real-time success predictions and insights.\n"
   ]
  },
  {
   "cell_type": "markdown",
   "id": "f34350a7-8e07-45cc-9266-b4389eb2c322",
   "metadata": {},
   "source": [
    "## 1: Importing Libraries\n"
   ]
  },
  {
   "cell_type": "code",
   "execution_count": 4,
   "id": "6c0b767f-f08a-4f0d-a1a0-47f49dc0215b",
   "metadata": {},
   "outputs": [],
   "source": [
    "import pandas as pd\n",
    "import plotly.express as px\n",
    "import seaborn as sns\n",
    "import matplotlib.pyplot as plt\n",
    "import plotly.graph_objects as go \n",
    "from plotly.subplots import make_subplots"
   ]
  },
  {
   "cell_type": "markdown",
   "id": "28ff913f-c099-4589-9ac7-47ee458916cc",
   "metadata": {},
   "source": [
    "## 2: Reading and Understanding Data"
   ]
  },
  {
   "cell_type": "code",
   "execution_count": 5,
   "id": "558f5d72-b948-4bc6-8a5d-33eef070b920",
   "metadata": {},
   "outputs": [],
   "source": [
    "df = pd.read_csv('student_startup_success_dataset-df.csv')"
   ]
  },
  {
   "cell_type": "code",
   "execution_count": 6,
   "id": "d3bfa0be-eecd-4486-9396-fb934d1ab408",
   "metadata": {},
   "outputs": [
    {
     "name": "stdout",
     "output_type": "stream",
     "text": [
      "Initial data shape: (2100, 16)\n"
     ]
    },
    {
     "data": {
      "text/html": [
       "<div>\n",
       "<style scoped>\n",
       "    .dataframe tbody tr th:only-of-type {\n",
       "        vertical-align: middle;\n",
       "    }\n",
       "\n",
       "    .dataframe tbody tr th {\n",
       "        vertical-align: top;\n",
       "    }\n",
       "\n",
       "    .dataframe thead th {\n",
       "        text-align: right;\n",
       "    }\n",
       "</style>\n",
       "<table border=\"1\" class=\"dataframe\">\n",
       "  <thead>\n",
       "    <tr style=\"text-align: right;\">\n",
       "      <th></th>\n",
       "      <th>project_id</th>\n",
       "      <th>institution_name</th>\n",
       "      <th>institution_type</th>\n",
       "      <th>project_domain</th>\n",
       "      <th>team_size</th>\n",
       "      <th>avg_team_experience</th>\n",
       "      <th>innovation_score</th>\n",
       "      <th>funding_amount_usd</th>\n",
       "      <th>mentorship_support</th>\n",
       "      <th>incubation_support</th>\n",
       "      <th>market_readiness_level</th>\n",
       "      <th>competition_awards</th>\n",
       "      <th>business_model_score</th>\n",
       "      <th>technology_maturity</th>\n",
       "      <th>year</th>\n",
       "      <th>success_label</th>\n",
       "    </tr>\n",
       "  </thead>\n",
       "  <tbody>\n",
       "    <tr>\n",
       "      <th>0</th>\n",
       "      <td>P0001</td>\n",
       "      <td>Institution_39</td>\n",
       "      <td>Non-technical</td>\n",
       "      <td>AgriTech</td>\n",
       "      <td>3</td>\n",
       "      <td>1.35</td>\n",
       "      <td>0.75</td>\n",
       "      <td>48336.75</td>\n",
       "      <td>1</td>\n",
       "      <td>1</td>\n",
       "      <td>3</td>\n",
       "      <td>3</td>\n",
       "      <td>0.86</td>\n",
       "      <td>4</td>\n",
       "      <td>2023</td>\n",
       "      <td>1</td>\n",
       "    </tr>\n",
       "    <tr>\n",
       "      <th>1</th>\n",
       "      <td>P0002</td>\n",
       "      <td>Institution_29</td>\n",
       "      <td>Technical</td>\n",
       "      <td>FinTech</td>\n",
       "      <td>4</td>\n",
       "      <td>1.57</td>\n",
       "      <td>0.38</td>\n",
       "      <td>30601.34</td>\n",
       "      <td>0</td>\n",
       "      <td>0</td>\n",
       "      <td>5</td>\n",
       "      <td>0</td>\n",
       "      <td>0.39</td>\n",
       "      <td>5</td>\n",
       "      <td>2023</td>\n",
       "      <td>0</td>\n",
       "    </tr>\n",
       "    <tr>\n",
       "      <th>2</th>\n",
       "      <td>P0003</td>\n",
       "      <td>Institution_15</td>\n",
       "      <td>Non-technical</td>\n",
       "      <td>AgriTech</td>\n",
       "      <td>3</td>\n",
       "      <td>2.19</td>\n",
       "      <td>0.61</td>\n",
       "      <td>37712.58</td>\n",
       "      <td>1</td>\n",
       "      <td>1</td>\n",
       "      <td>1</td>\n",
       "      <td>0</td>\n",
       "      <td>0.38</td>\n",
       "      <td>2</td>\n",
       "      <td>2019</td>\n",
       "      <td>1</td>\n",
       "    </tr>\n",
       "    <tr>\n",
       "      <th>3</th>\n",
       "      <td>P0004</td>\n",
       "      <td>Institution_8</td>\n",
       "      <td>Private</td>\n",
       "      <td>GreenTech</td>\n",
       "      <td>7</td>\n",
       "      <td>0.72</td>\n",
       "      <td>0.98</td>\n",
       "      <td>46881.00</td>\n",
       "      <td>1</td>\n",
       "      <td>1</td>\n",
       "      <td>5</td>\n",
       "      <td>1</td>\n",
       "      <td>0.69</td>\n",
       "      <td>5</td>\n",
       "      <td>2021</td>\n",
       "      <td>1</td>\n",
       "    </tr>\n",
       "    <tr>\n",
       "      <th>4</th>\n",
       "      <td>P0005</td>\n",
       "      <td>Institution_21</td>\n",
       "      <td>Public</td>\n",
       "      <td>HealthTech</td>\n",
       "      <td>7</td>\n",
       "      <td>2.64</td>\n",
       "      <td>0.33</td>\n",
       "      <td>29988.37</td>\n",
       "      <td>0</td>\n",
       "      <td>0</td>\n",
       "      <td>4</td>\n",
       "      <td>2</td>\n",
       "      <td>0.85</td>\n",
       "      <td>2</td>\n",
       "      <td>2020</td>\n",
       "      <td>0</td>\n",
       "    </tr>\n",
       "  </tbody>\n",
       "</table>\n",
       "</div>"
      ],
      "text/plain": [
       "  project_id institution_name institution_type project_domain  team_size  \\\n",
       "0      P0001   Institution_39    Non-technical       AgriTech          3   \n",
       "1      P0002   Institution_29        Technical        FinTech          4   \n",
       "2      P0003   Institution_15    Non-technical       AgriTech          3   \n",
       "3      P0004    Institution_8          Private      GreenTech          7   \n",
       "4      P0005   Institution_21           Public     HealthTech          7   \n",
       "\n",
       "   avg_team_experience  innovation_score  funding_amount_usd  \\\n",
       "0                 1.35              0.75            48336.75   \n",
       "1                 1.57              0.38            30601.34   \n",
       "2                 2.19              0.61            37712.58   \n",
       "3                 0.72              0.98            46881.00   \n",
       "4                 2.64              0.33            29988.37   \n",
       "\n",
       "   mentorship_support  incubation_support  market_readiness_level  \\\n",
       "0                   1                   1                       3   \n",
       "1                   0                   0                       5   \n",
       "2                   1                   1                       1   \n",
       "3                   1                   1                       5   \n",
       "4                   0                   0                       4   \n",
       "\n",
       "   competition_awards  business_model_score  technology_maturity  year  \\\n",
       "0                   3                  0.86                    4  2023   \n",
       "1                   0                  0.39                    5  2023   \n",
       "2                   0                  0.38                    2  2019   \n",
       "3                   1                  0.69                    5  2021   \n",
       "4                   2                  0.85                    2  2020   \n",
       "\n",
       "   success_label  \n",
       "0              1  \n",
       "1              0  \n",
       "2              1  \n",
       "3              1  \n",
       "4              0  "
      ]
     },
     "execution_count": 6,
     "metadata": {},
     "output_type": "execute_result"
    }
   ],
   "source": [
    "print(\"Initial data shape:\", df.shape)\n",
    "df.head()"
   ]
  },
  {
   "cell_type": "code",
   "execution_count": 7,
   "id": "0056d687-0818-44de-94d4-40b9642c3dcc",
   "metadata": {},
   "outputs": [
    {
     "name": "stdout",
     "output_type": "stream",
     "text": [
      "\n",
      "Columns and Data Types:\n",
      "project_id                 object\n",
      "institution_name           object\n",
      "institution_type           object\n",
      "project_domain             object\n",
      "team_size                   int64\n",
      "avg_team_experience       float64\n",
      "innovation_score          float64\n",
      "funding_amount_usd        float64\n",
      "mentorship_support          int64\n",
      "incubation_support          int64\n",
      "market_readiness_level      int64\n",
      "competition_awards          int64\n",
      "business_model_score      float64\n",
      "technology_maturity         int64\n",
      "year                        int64\n",
      "success_label               int64\n",
      "dtype: object\n"
     ]
    }
   ],
   "source": [
    "print(\"\\nColumns and Data Types:\")\n",
    "print(df.dtypes)"
   ]
  },
  {
   "cell_type": "code",
   "execution_count": 8,
   "id": "44b2bfd0-7c47-40f2-8c3d-027689423d52",
   "metadata": {},
   "outputs": [
    {
     "name": "stdout",
     "output_type": "stream",
     "text": [
      "\n",
      "Unique Values for each Column:\n"
     ]
    },
    {
     "data": {
      "text/plain": [
       "project_id                2100\n",
       "institution_name            40\n",
       "institution_type             4\n",
       "project_domain               5\n",
       "team_size                    6\n",
       "avg_team_experience        351\n",
       "innovation_score            71\n",
       "funding_amount_usd        2100\n",
       "mentorship_support           2\n",
       "incubation_support           2\n",
       "market_readiness_level       5\n",
       "competition_awards           5\n",
       "business_model_score        81\n",
       "technology_maturity          5\n",
       "year                         5\n",
       "success_label                2\n",
       "dtype: int64"
      ]
     },
     "execution_count": 8,
     "metadata": {},
     "output_type": "execute_result"
    }
   ],
   "source": [
    "print(\"\\nUnique Values for each Column:\")\n",
    "df.nunique()"
   ]
  },
  {
   "cell_type": "code",
   "execution_count": 9,
   "id": "ba5dde8d-cc25-4eb4-9ee4-7ee8a521c2ef",
   "metadata": {},
   "outputs": [
    {
     "name": "stdout",
     "output_type": "stream",
     "text": [
      "Number of duplicate rows: 0\n"
     ]
    }
   ],
   "source": [
    "duplicate_rows = df[df.duplicated()]\n",
    "print(\"Number of duplicate rows:\", duplicate_rows.shape[0])"
   ]
  },
  {
   "cell_type": "markdown",
   "id": "f332e51a-9b68-4931-a069-ddcc9f210a23",
   "metadata": {},
   "source": [
    "## 3: Handling Missing values"
   ]
  },
  {
   "cell_type": "code",
   "execution_count": 10,
   "id": "070fa7a8-2baa-4fd0-a9e0-5eb424b4d828",
   "metadata": {},
   "outputs": [
    {
     "data": {
      "text/plain": [
       "project_id                0\n",
       "institution_name          0\n",
       "institution_type          0\n",
       "project_domain            0\n",
       "team_size                 0\n",
       "avg_team_experience       0\n",
       "innovation_score          0\n",
       "funding_amount_usd        0\n",
       "mentorship_support        0\n",
       "incubation_support        0\n",
       "market_readiness_level    0\n",
       "competition_awards        0\n",
       "business_model_score      0\n",
       "technology_maturity       0\n",
       "year                      0\n",
       "success_label             0\n",
       "dtype: int64"
      ]
     },
     "execution_count": 10,
     "metadata": {},
     "output_type": "execute_result"
    }
   ],
   "source": [
    "df.isnull().sum()"
   ]
  },
  {
   "cell_type": "markdown",
   "id": "7aa263e2-223b-438d-ac06-c7e085754a05",
   "metadata": {},
   "source": [
    "> No missing values are present in any of the columns."
   ]
  },
  {
   "cell_type": "markdown",
   "id": "261bd68a-5514-4de3-a29e-e15e1b5c9f50",
   "metadata": {},
   "source": [
    "## 4: Exploratory Data Analysis - EDA"
   ]
  },
  {
   "cell_type": "code",
   "execution_count": 11,
   "id": "7b6c17ea-a33c-4b32-b051-1f6a02efc5ae",
   "metadata": {},
   "outputs": [
    {
     "data": {
      "text/html": [
       "<div>\n",
       "<style scoped>\n",
       "    .dataframe tbody tr th:only-of-type {\n",
       "        vertical-align: middle;\n",
       "    }\n",
       "\n",
       "    .dataframe tbody tr th {\n",
       "        vertical-align: top;\n",
       "    }\n",
       "\n",
       "    .dataframe thead th {\n",
       "        text-align: right;\n",
       "    }\n",
       "</style>\n",
       "<table border=\"1\" class=\"dataframe\">\n",
       "  <thead>\n",
       "    <tr style=\"text-align: right;\">\n",
       "      <th></th>\n",
       "      <th>project_id</th>\n",
       "      <th>institution_name</th>\n",
       "      <th>institution_type</th>\n",
       "      <th>project_domain</th>\n",
       "      <th>team_size</th>\n",
       "      <th>avg_team_experience</th>\n",
       "      <th>innovation_score</th>\n",
       "      <th>funding_amount_usd</th>\n",
       "      <th>mentorship_support</th>\n",
       "      <th>incubation_support</th>\n",
       "      <th>market_readiness_level</th>\n",
       "      <th>competition_awards</th>\n",
       "      <th>business_model_score</th>\n",
       "      <th>technology_maturity</th>\n",
       "      <th>year</th>\n",
       "      <th>success_label</th>\n",
       "    </tr>\n",
       "  </thead>\n",
       "  <tbody>\n",
       "    <tr>\n",
       "      <th>0</th>\n",
       "      <td>P0001</td>\n",
       "      <td>Institution_39</td>\n",
       "      <td>Non-technical</td>\n",
       "      <td>AgriTech</td>\n",
       "      <td>3</td>\n",
       "      <td>1.35</td>\n",
       "      <td>0.75</td>\n",
       "      <td>48336.75</td>\n",
       "      <td>1</td>\n",
       "      <td>1</td>\n",
       "      <td>3</td>\n",
       "      <td>3</td>\n",
       "      <td>0.86</td>\n",
       "      <td>4</td>\n",
       "      <td>2023</td>\n",
       "      <td>1</td>\n",
       "    </tr>\n",
       "    <tr>\n",
       "      <th>1</th>\n",
       "      <td>P0002</td>\n",
       "      <td>Institution_29</td>\n",
       "      <td>Technical</td>\n",
       "      <td>FinTech</td>\n",
       "      <td>4</td>\n",
       "      <td>1.57</td>\n",
       "      <td>0.38</td>\n",
       "      <td>30601.34</td>\n",
       "      <td>0</td>\n",
       "      <td>0</td>\n",
       "      <td>5</td>\n",
       "      <td>0</td>\n",
       "      <td>0.39</td>\n",
       "      <td>5</td>\n",
       "      <td>2023</td>\n",
       "      <td>0</td>\n",
       "    </tr>\n",
       "    <tr>\n",
       "      <th>2</th>\n",
       "      <td>P0003</td>\n",
       "      <td>Institution_15</td>\n",
       "      <td>Non-technical</td>\n",
       "      <td>AgriTech</td>\n",
       "      <td>3</td>\n",
       "      <td>2.19</td>\n",
       "      <td>0.61</td>\n",
       "      <td>37712.58</td>\n",
       "      <td>1</td>\n",
       "      <td>1</td>\n",
       "      <td>1</td>\n",
       "      <td>0</td>\n",
       "      <td>0.38</td>\n",
       "      <td>2</td>\n",
       "      <td>2019</td>\n",
       "      <td>1</td>\n",
       "    </tr>\n",
       "    <tr>\n",
       "      <th>3</th>\n",
       "      <td>P0004</td>\n",
       "      <td>Institution_8</td>\n",
       "      <td>Private</td>\n",
       "      <td>GreenTech</td>\n",
       "      <td>7</td>\n",
       "      <td>0.72</td>\n",
       "      <td>0.98</td>\n",
       "      <td>46881.00</td>\n",
       "      <td>1</td>\n",
       "      <td>1</td>\n",
       "      <td>5</td>\n",
       "      <td>1</td>\n",
       "      <td>0.69</td>\n",
       "      <td>5</td>\n",
       "      <td>2021</td>\n",
       "      <td>1</td>\n",
       "    </tr>\n",
       "    <tr>\n",
       "      <th>4</th>\n",
       "      <td>P0005</td>\n",
       "      <td>Institution_21</td>\n",
       "      <td>Public</td>\n",
       "      <td>HealthTech</td>\n",
       "      <td>7</td>\n",
       "      <td>2.64</td>\n",
       "      <td>0.33</td>\n",
       "      <td>29988.37</td>\n",
       "      <td>0</td>\n",
       "      <td>0</td>\n",
       "      <td>4</td>\n",
       "      <td>2</td>\n",
       "      <td>0.85</td>\n",
       "      <td>2</td>\n",
       "      <td>2020</td>\n",
       "      <td>0</td>\n",
       "    </tr>\n",
       "  </tbody>\n",
       "</table>\n",
       "</div>"
      ],
      "text/plain": [
       "  project_id institution_name institution_type project_domain  team_size  \\\n",
       "0      P0001   Institution_39    Non-technical       AgriTech          3   \n",
       "1      P0002   Institution_29        Technical        FinTech          4   \n",
       "2      P0003   Institution_15    Non-technical       AgriTech          3   \n",
       "3      P0004    Institution_8          Private      GreenTech          7   \n",
       "4      P0005   Institution_21           Public     HealthTech          7   \n",
       "\n",
       "   avg_team_experience  innovation_score  funding_amount_usd  \\\n",
       "0                 1.35              0.75            48336.75   \n",
       "1                 1.57              0.38            30601.34   \n",
       "2                 2.19              0.61            37712.58   \n",
       "3                 0.72              0.98            46881.00   \n",
       "4                 2.64              0.33            29988.37   \n",
       "\n",
       "   mentorship_support  incubation_support  market_readiness_level  \\\n",
       "0                   1                   1                       3   \n",
       "1                   0                   0                       5   \n",
       "2                   1                   1                       1   \n",
       "3                   1                   1                       5   \n",
       "4                   0                   0                       4   \n",
       "\n",
       "   competition_awards  business_model_score  technology_maturity  year  \\\n",
       "0                   3                  0.86                    4  2023   \n",
       "1                   0                  0.39                    5  2023   \n",
       "2                   0                  0.38                    2  2019   \n",
       "3                   1                  0.69                    5  2021   \n",
       "4                   2                  0.85                    2  2020   \n",
       "\n",
       "   success_label  \n",
       "0              1  \n",
       "1              0  \n",
       "2              1  \n",
       "3              1  \n",
       "4              0  "
      ]
     },
     "execution_count": 11,
     "metadata": {},
     "output_type": "execute_result"
    }
   ],
   "source": [
    "df.head()"
   ]
  },
  {
   "cell_type": "markdown",
   "id": "5dede144-2f12-41d0-a952-fcdba3e0c24c",
   "metadata": {},
   "source": [
    "| **Group Name**                            | **Columns**                                                           | **What They Represent**                                                           |\n",
    "| ----------------------------------------- | --------------------------------------------------------------------- | ---------------------------------------------------------------------------------------------- |\n",
    "|  **Identifiers**                        | `project_id`, `institution_name`                                      | Uniquely identify projects and institutions.                  |\n",
    "|  **Institution Attributes**             | `institution_type`, `project_domain`                                  | Describe the nature and focus of the institution/project. |\n",
    "|  **Team Characteristics**               | `team_size`, `avg_team_experience`                                    | Capture human/team factors that may influence project success.                                 |\n",
    "|  **Performance & Innovation Metrics**   | `innovation_score`, `business_model_score`                            | Reflect creativity, business soundness, or project quality.                                    |\n",
    "|  **Financial & Support Features**       | `funding_amount_usd`, `mentorship_support`, `incubation_support`      | Represent resource availability or institutional backing.                                      |\n",
    "|  **Readiness & Achievement Indicators** | `market_readiness_level`, `technology_maturity`, `competition_awards` | Show progress or recognition levels.                                                           |\n",
    "|  **Time Dimension**                     | `year`                                                                | Enables trend analysis over time.                                                              |\n",
    "|  **Target Variable**                    | `success_label`                                                       | The outcome variable                                        |\n"
   ]
  },
  {
   "cell_type": "code",
   "execution_count": 12,
   "id": "c73461b0-ee63-477c-90fb-440ec38a454a",
   "metadata": {},
   "outputs": [
    {
     "name": "stdout",
     "output_type": "stream",
     "text": [
      "Categorical variables:\n",
      "Index(['project_id', 'institution_name', 'institution_type', 'project_domain'], dtype='object')\n",
      "\n",
      "Numerical variables:\n",
      "Index(['team_size', 'avg_team_experience', 'innovation_score',\n",
      "       'funding_amount_usd', 'mentorship_support', 'incubation_support',\n",
      "       'market_readiness_level', 'competition_awards', 'business_model_score',\n",
      "       'technology_maturity', 'year', 'success_label'],\n",
      "      dtype='object')\n"
     ]
    }
   ],
   "source": [
    "categorical_vars = df.select_dtypes(include=['object']).columns\n",
    "numerical_vars = df.select_dtypes(include=['float64', 'int64']).columns\n",
    "\n",
    "print(\"Categorical variables:\")\n",
    "print(categorical_vars)\n",
    "\n",
    "print(\"\\nNumerical variables:\")\n",
    "print(numerical_vars)"
   ]
  },
  {
   "cell_type": "code",
   "execution_count": 13,
   "id": "c39e92d7-ee6a-44c0-913c-d68dc60d6897",
   "metadata": {},
   "outputs": [
    {
     "name": "stdout",
     "output_type": "stream",
     "text": [
      "\n",
      "Statistical Summary of the Dataset:\n"
     ]
    },
    {
     "data": {
      "text/html": [
       "<div>\n",
       "<style scoped>\n",
       "    .dataframe tbody tr th:only-of-type {\n",
       "        vertical-align: middle;\n",
       "    }\n",
       "\n",
       "    .dataframe tbody tr th {\n",
       "        vertical-align: top;\n",
       "    }\n",
       "\n",
       "    .dataframe thead th {\n",
       "        text-align: right;\n",
       "    }\n",
       "</style>\n",
       "<table border=\"1\" class=\"dataframe\">\n",
       "  <thead>\n",
       "    <tr style=\"text-align: right;\">\n",
       "      <th></th>\n",
       "      <th>team_size</th>\n",
       "      <th>avg_team_experience</th>\n",
       "      <th>innovation_score</th>\n",
       "      <th>funding_amount_usd</th>\n",
       "      <th>mentorship_support</th>\n",
       "      <th>incubation_support</th>\n",
       "      <th>market_readiness_level</th>\n",
       "      <th>competition_awards</th>\n",
       "      <th>business_model_score</th>\n",
       "      <th>technology_maturity</th>\n",
       "      <th>year</th>\n",
       "      <th>success_label</th>\n",
       "    </tr>\n",
       "  </thead>\n",
       "  <tbody>\n",
       "    <tr>\n",
       "      <th>count</th>\n",
       "      <td>2100.000000</td>\n",
       "      <td>2100.000000</td>\n",
       "      <td>2100.000000</td>\n",
       "      <td>2100.000000</td>\n",
       "      <td>2100.000000</td>\n",
       "      <td>2100.000000</td>\n",
       "      <td>2100.000000</td>\n",
       "      <td>2100.000000</td>\n",
       "      <td>2100.000000</td>\n",
       "      <td>2100.000000</td>\n",
       "      <td>2100.000000</td>\n",
       "      <td>2100.000000</td>\n",
       "    </tr>\n",
       "    <tr>\n",
       "      <th>mean</th>\n",
       "      <td>4.472381</td>\n",
       "      <td>2.271671</td>\n",
       "      <td>0.650124</td>\n",
       "      <td>25372.473505</td>\n",
       "      <td>0.494762</td>\n",
       "      <td>0.506190</td>\n",
       "      <td>2.962381</td>\n",
       "      <td>1.947143</td>\n",
       "      <td>0.598343</td>\n",
       "      <td>3.062381</td>\n",
       "      <td>2021.062857</td>\n",
       "      <td>0.419524</td>\n",
       "    </tr>\n",
       "    <tr>\n",
       "      <th>std</th>\n",
       "      <td>1.709403</td>\n",
       "      <td>1.004748</td>\n",
       "      <td>0.202946</td>\n",
       "      <td>14141.821776</td>\n",
       "      <td>0.500092</td>\n",
       "      <td>0.500081</td>\n",
       "      <td>1.427963</td>\n",
       "      <td>1.391654</td>\n",
       "      <td>0.233342</td>\n",
       "      <td>1.417045</td>\n",
       "      <td>1.460567</td>\n",
       "      <td>0.493599</td>\n",
       "    </tr>\n",
       "    <tr>\n",
       "      <th>min</th>\n",
       "      <td>2.000000</td>\n",
       "      <td>0.500000</td>\n",
       "      <td>0.300000</td>\n",
       "      <td>1050.090000</td>\n",
       "      <td>0.000000</td>\n",
       "      <td>0.000000</td>\n",
       "      <td>1.000000</td>\n",
       "      <td>0.000000</td>\n",
       "      <td>0.200000</td>\n",
       "      <td>1.000000</td>\n",
       "      <td>2019.000000</td>\n",
       "      <td>0.000000</td>\n",
       "    </tr>\n",
       "    <tr>\n",
       "      <th>25%</th>\n",
       "      <td>3.000000</td>\n",
       "      <td>1.437500</td>\n",
       "      <td>0.480000</td>\n",
       "      <td>13532.472500</td>\n",
       "      <td>0.000000</td>\n",
       "      <td>0.000000</td>\n",
       "      <td>2.000000</td>\n",
       "      <td>1.000000</td>\n",
       "      <td>0.390000</td>\n",
       "      <td>2.000000</td>\n",
       "      <td>2020.000000</td>\n",
       "      <td>0.000000</td>\n",
       "    </tr>\n",
       "    <tr>\n",
       "      <th>50%</th>\n",
       "      <td>4.000000</td>\n",
       "      <td>2.290000</td>\n",
       "      <td>0.650000</td>\n",
       "      <td>25216.430000</td>\n",
       "      <td>0.000000</td>\n",
       "      <td>1.000000</td>\n",
       "      <td>3.000000</td>\n",
       "      <td>2.000000</td>\n",
       "      <td>0.600000</td>\n",
       "      <td>3.000000</td>\n",
       "      <td>2021.000000</td>\n",
       "      <td>0.000000</td>\n",
       "    </tr>\n",
       "    <tr>\n",
       "      <th>75%</th>\n",
       "      <td>6.000000</td>\n",
       "      <td>3.120000</td>\n",
       "      <td>0.830000</td>\n",
       "      <td>37403.670000</td>\n",
       "      <td>1.000000</td>\n",
       "      <td>1.000000</td>\n",
       "      <td>4.000000</td>\n",
       "      <td>3.000000</td>\n",
       "      <td>0.800000</td>\n",
       "      <td>4.000000</td>\n",
       "      <td>2022.000000</td>\n",
       "      <td>1.000000</td>\n",
       "    </tr>\n",
       "    <tr>\n",
       "      <th>max</th>\n",
       "      <td>7.000000</td>\n",
       "      <td>4.000000</td>\n",
       "      <td>1.000000</td>\n",
       "      <td>49982.150000</td>\n",
       "      <td>1.000000</td>\n",
       "      <td>1.000000</td>\n",
       "      <td>5.000000</td>\n",
       "      <td>4.000000</td>\n",
       "      <td>1.000000</td>\n",
       "      <td>5.000000</td>\n",
       "      <td>2023.000000</td>\n",
       "      <td>1.000000</td>\n",
       "    </tr>\n",
       "  </tbody>\n",
       "</table>\n",
       "</div>"
      ],
      "text/plain": [
       "         team_size  avg_team_experience  innovation_score  funding_amount_usd  \\\n",
       "count  2100.000000          2100.000000       2100.000000         2100.000000   \n",
       "mean      4.472381             2.271671          0.650124        25372.473505   \n",
       "std       1.709403             1.004748          0.202946        14141.821776   \n",
       "min       2.000000             0.500000          0.300000         1050.090000   \n",
       "25%       3.000000             1.437500          0.480000        13532.472500   \n",
       "50%       4.000000             2.290000          0.650000        25216.430000   \n",
       "75%       6.000000             3.120000          0.830000        37403.670000   \n",
       "max       7.000000             4.000000          1.000000        49982.150000   \n",
       "\n",
       "       mentorship_support  incubation_support  market_readiness_level  \\\n",
       "count         2100.000000         2100.000000             2100.000000   \n",
       "mean             0.494762            0.506190                2.962381   \n",
       "std              0.500092            0.500081                1.427963   \n",
       "min              0.000000            0.000000                1.000000   \n",
       "25%              0.000000            0.000000                2.000000   \n",
       "50%              0.000000            1.000000                3.000000   \n",
       "75%              1.000000            1.000000                4.000000   \n",
       "max              1.000000            1.000000                5.000000   \n",
       "\n",
       "       competition_awards  business_model_score  technology_maturity  \\\n",
       "count         2100.000000           2100.000000          2100.000000   \n",
       "mean             1.947143              0.598343             3.062381   \n",
       "std              1.391654              0.233342             1.417045   \n",
       "min              0.000000              0.200000             1.000000   \n",
       "25%              1.000000              0.390000             2.000000   \n",
       "50%              2.000000              0.600000             3.000000   \n",
       "75%              3.000000              0.800000             4.000000   \n",
       "max              4.000000              1.000000             5.000000   \n",
       "\n",
       "              year  success_label  \n",
       "count  2100.000000    2100.000000  \n",
       "mean   2021.062857       0.419524  \n",
       "std       1.460567       0.493599  \n",
       "min    2019.000000       0.000000  \n",
       "25%    2020.000000       0.000000  \n",
       "50%    2021.000000       0.000000  \n",
       "75%    2022.000000       1.000000  \n",
       "max    2023.000000       1.000000  "
      ]
     },
     "execution_count": 13,
     "metadata": {},
     "output_type": "execute_result"
    }
   ],
   "source": [
    "print(\"\\nStatistical Summary of the Dataset:\")\n",
    "df.describe()"
   ]
  },
  {
   "cell_type": "markdown",
   "id": "8fda431b-c974-4091-baf6-ae5252ca4781",
   "metadata": {},
   "source": [
    "### 4.2: Visual Data Exploration"
   ]
  },
  {
   "cell_type": "code",
   "execution_count": 14,
   "id": "5e61b7c1-b202-466e-8375-d9f78925b74e",
   "metadata": {},
   "outputs": [
    {
     "data": {
      "application/vnd.plotly.v1+json": {
       "config": {
        "plotlyServerURL": "https://plot.ly"
       },
       "data": [
        {
         "bingroup": "x",
         "hovertemplate": "Startup Outcome (0 = Fail, 1 = Success)=%{x}<br>count=%{y}<extra></extra>",
         "legendgroup": "1",
         "marker": {
          "color": "lightgreen",
          "pattern": {
           "shape": ""
          }
         },
         "name": "1",
         "orientation": "v",
         "showlegend": true,
         "type": "histogram",
         "x": {
          "bdata": "AQEBAQEBAQEBAQEBAQEBAQEBAQEBAQEBAQEBAQEBAQEBAQEBAQEBAQEBAQEBAQEBAQEBAQEBAQEBAQEBAQEBAQEBAQEBAQEBAQEBAQEBAQEBAQEBAQEBAQEBAQEBAQEBAQEBAQEBAQEBAQEBAQEBAQEBAQEBAQEBAQEBAQEBAQEBAQEBAQEBAQEBAQEBAQEBAQEBAQEBAQEBAQEBAQEBAQEBAQEBAQEBAQEBAQEBAQEBAQEBAQEBAQEBAQEBAQEBAQEBAQEBAQEBAQEBAQEBAQEBAQEBAQEBAQEBAQEBAQEBAQEBAQEBAQEBAQEBAQEBAQEBAQEBAQEBAQEBAQEBAQEBAQEBAQEBAQEBAQEBAQEBAQEBAQEBAQEBAQEBAQEBAQEBAQEBAQEBAQEBAQEBAQEBAQEBAQEBAQEBAQEBAQEBAQEBAQEBAQEBAQEBAQEBAQEBAQEBAQEBAQEBAQEBAQEBAQEBAQEBAQEBAQEBAQEBAQEBAQEBAQEBAQEBAQEBAQEBAQEBAQEBAQEBAQEBAQEBAQEBAQEBAQEBAQEBAQEBAQEBAQEBAQEBAQEBAQEBAQEBAQEBAQEBAQEBAQEBAQEBAQEBAQEBAQEBAQEBAQEBAQEBAQEBAQEBAQEBAQEBAQEBAQEBAQEBAQEBAQEBAQEBAQEBAQEBAQEBAQEBAQEBAQEBAQEBAQEBAQEBAQEBAQEBAQEBAQEBAQEBAQEBAQEBAQEBAQEBAQEBAQEBAQEBAQEBAQEBAQEBAQEBAQEBAQEBAQEBAQEBAQEBAQEBAQEBAQEBAQEBAQEBAQEBAQEBAQEBAQEBAQEBAQEBAQEBAQEBAQEBAQEBAQEBAQEBAQEBAQEBAQEBAQEBAQEBAQEBAQEBAQEBAQEBAQEBAQEBAQEBAQEBAQEBAQEBAQEBAQEBAQEBAQEBAQEBAQEBAQEBAQEBAQEBAQEBAQEBAQEBAQEBAQEBAQEBAQEBAQEBAQEBAQEBAQEBAQEBAQEBAQEBAQEBAQEBAQEBAQEBAQEBAQEBAQEBAQEBAQEBAQEBAQEBAQEBAQEBAQEBAQEBAQEBAQEBAQEBAQEBAQEBAQEBAQEBAQEBAQEBAQEBAQEBAQEBAQEBAQEBAQEBAQEBAQEBAQEBAQEBAQEBAQEBAQEBAQEBAQEBAQEBAQEBAQEBAQE=",
          "dtype": "i1"
         },
         "xaxis": "x",
         "yaxis": "y"
        },
        {
         "bingroup": "x",
         "hovertemplate": "Startup Outcome (0 = Fail, 1 = Success)=%{x}<br>count=%{y}<extra></extra>",
         "legendgroup": "0",
         "marker": {
          "color": "lightcoral",
          "pattern": {
           "shape": ""
          }
         },
         "name": "0",
         "orientation": "v",
         "showlegend": true,
         "type": "histogram",
         "x": {
          "bdata": "AAAAAAAAAAAAAAAAAAAAAAAAAAAAAAAAAAAAAAAAAAAAAAAAAAAAAAAAAAAAAAAAAAAAAAAAAAAAAAAAAAAAAAAAAAAAAAAAAAAAAAAAAAAAAAAAAAAAAAAAAAAAAAAAAAAAAAAAAAAAAAAAAAAAAAAAAAAAAAAAAAAAAAAAAAAAAAAAAAAAAAAAAAAAAAAAAAAAAAAAAAAAAAAAAAAAAAAAAAAAAAAAAAAAAAAAAAAAAAAAAAAAAAAAAAAAAAAAAAAAAAAAAAAAAAAAAAAAAAAAAAAAAAAAAAAAAAAAAAAAAAAAAAAAAAAAAAAAAAAAAAAAAAAAAAAAAAAAAAAAAAAAAAAAAAAAAAAAAAAAAAAAAAAAAAAAAAAAAAAAAAAAAAAAAAAAAAAAAAAAAAAAAAAAAAAAAAAAAAAAAAAAAAAAAAAAAAAAAAAAAAAAAAAAAAAAAAAAAAAAAAAAAAAAAAAAAAAAAAAAAAAAAAAAAAAAAAAAAAAAAAAAAAAAAAAAAAAAAAAAAAAAAAAAAAAAAAAAAAAAAAAAAAAAAAAAAAAAAAAAAAAAAAAAAAAAAAAAAAAAAAAAAAAAAAAAAAAAAAAAAAAAAAAAAAAAAAAAAAAAAAAAAAAAAAAAAAAAAAAAAAAAAAAAAAAAAAAAAAAAAAAAAAAAAAAAAAAAAAAAAAAAAAAAAAAAAAAAAAAAAAAAAAAAAAAAAAAAAAAAAAAAAAAAAAAAAAAAAAAAAAAAAAAAAAAAAAAAAAAAAAAAAAAAAAAAAAAAAAAAAAAAAAAAAAAAAAAAAAAAAAAAAAAAAAAAAAAAAAAAAAAAAAAAAAAAAAAAAAAAAAAAAAAAAAAAAAAAAAAAAAAAAAAAAAAAAAAAAAAAAAAAAAAAAAAAAAAAAAAAAAAAAAAAAAAAAAAAAAAAAAAAAAAAAAAAAAAAAAAAAAAAAAAAAAAAAAAAAAAAAAAAAAAAAAAAAAAAAAAAAAAAAAAAAAAAAAAAAAAAAAAAAAAAAAAAAAAAAAAAAAAAAAAAAAAAAAAAAAAAAAAAAAAAAAAAAAAAAAAAAAAAAAAAAAAAAAAAAAAAAAAAAAAAAAAAAAAAAAAAAAAAAAAAAAAAAAAAAAAAAAAAAAAAAAAAAAAAAAAAAAAAAAAAAAAAAAAAAAAAAAAAAAAAAAAAAAAAAAAAAAAAAAAAAAAAAAAAAAAAAAAAAAAAAAAAAAAAAAAAAAAAAAAAAAAAAAAAAAAAAAAAAAAAAAAAAAAAAAAAAAAAAAAAAAAAAAAAAAAAAAAAAAAAAAAAAAAAAAAAAAAAAAAAAAAAAAAAAAAAAAAAAAAAAAAAAAAAAAAAAAAAAAAAAAAAAAAAAAAAAAAAAAAAAAAAAAAAAAAAAAAAAAAAAAAAAAAAAAAAAAAAAAAAAAAAAAAAAAAAAAAAAAAAAAAAAAAAAAAAAAAAAAAAAAAAAAAAAAAAAAAAAAAAAAAAAAAAAAAAAAAAAAAAAAAAAAAAAAAAAAAAAAAAAAAAAAAAAAAAAAAAAAAAAAAAAAAAAAAAAAAAAAAAAAAAAAAAAAAAAAAAAAAAAAAAAAAAAAAAAAAAAAAAAAAAAAAAAAAAAAAAAAAAAAAAAAAAAAAAAAAAAA==",
          "dtype": "i1"
         },
         "xaxis": "x",
         "yaxis": "y"
        }
       ],
       "layout": {
        "barmode": "relative",
        "legend": {
         "title": {
          "text": "Startup Outcome (0 = Fail, 1 = Success)"
         },
         "tracegroupgap": 0
        },
        "template": {
         "data": {
          "bar": [
           {
            "error_x": {
             "color": "#2a3f5f"
            },
            "error_y": {
             "color": "#2a3f5f"
            },
            "marker": {
             "line": {
              "color": "#E5ECF6",
              "width": 0.5
             },
             "pattern": {
              "fillmode": "overlay",
              "size": 10,
              "solidity": 0.2
             }
            },
            "type": "bar"
           }
          ],
          "barpolar": [
           {
            "marker": {
             "line": {
              "color": "#E5ECF6",
              "width": 0.5
             },
             "pattern": {
              "fillmode": "overlay",
              "size": 10,
              "solidity": 0.2
             }
            },
            "type": "barpolar"
           }
          ],
          "carpet": [
           {
            "aaxis": {
             "endlinecolor": "#2a3f5f",
             "gridcolor": "white",
             "linecolor": "white",
             "minorgridcolor": "white",
             "startlinecolor": "#2a3f5f"
            },
            "baxis": {
             "endlinecolor": "#2a3f5f",
             "gridcolor": "white",
             "linecolor": "white",
             "minorgridcolor": "white",
             "startlinecolor": "#2a3f5f"
            },
            "type": "carpet"
           }
          ],
          "choropleth": [
           {
            "colorbar": {
             "outlinewidth": 0,
             "ticks": ""
            },
            "type": "choropleth"
           }
          ],
          "contour": [
           {
            "colorbar": {
             "outlinewidth": 0,
             "ticks": ""
            },
            "colorscale": [
             [
              0,
              "#0d0887"
             ],
             [
              0.1111111111111111,
              "#46039f"
             ],
             [
              0.2222222222222222,
              "#7201a8"
             ],
             [
              0.3333333333333333,
              "#9c179e"
             ],
             [
              0.4444444444444444,
              "#bd3786"
             ],
             [
              0.5555555555555556,
              "#d8576b"
             ],
             [
              0.6666666666666666,
              "#ed7953"
             ],
             [
              0.7777777777777778,
              "#fb9f3a"
             ],
             [
              0.8888888888888888,
              "#fdca26"
             ],
             [
              1,
              "#f0f921"
             ]
            ],
            "type": "contour"
           }
          ],
          "contourcarpet": [
           {
            "colorbar": {
             "outlinewidth": 0,
             "ticks": ""
            },
            "type": "contourcarpet"
           }
          ],
          "heatmap": [
           {
            "colorbar": {
             "outlinewidth": 0,
             "ticks": ""
            },
            "colorscale": [
             [
              0,
              "#0d0887"
             ],
             [
              0.1111111111111111,
              "#46039f"
             ],
             [
              0.2222222222222222,
              "#7201a8"
             ],
             [
              0.3333333333333333,
              "#9c179e"
             ],
             [
              0.4444444444444444,
              "#bd3786"
             ],
             [
              0.5555555555555556,
              "#d8576b"
             ],
             [
              0.6666666666666666,
              "#ed7953"
             ],
             [
              0.7777777777777778,
              "#fb9f3a"
             ],
             [
              0.8888888888888888,
              "#fdca26"
             ],
             [
              1,
              "#f0f921"
             ]
            ],
            "type": "heatmap"
           }
          ],
          "histogram": [
           {
            "marker": {
             "pattern": {
              "fillmode": "overlay",
              "size": 10,
              "solidity": 0.2
             }
            },
            "type": "histogram"
           }
          ],
          "histogram2d": [
           {
            "colorbar": {
             "outlinewidth": 0,
             "ticks": ""
            },
            "colorscale": [
             [
              0,
              "#0d0887"
             ],
             [
              0.1111111111111111,
              "#46039f"
             ],
             [
              0.2222222222222222,
              "#7201a8"
             ],
             [
              0.3333333333333333,
              "#9c179e"
             ],
             [
              0.4444444444444444,
              "#bd3786"
             ],
             [
              0.5555555555555556,
              "#d8576b"
             ],
             [
              0.6666666666666666,
              "#ed7953"
             ],
             [
              0.7777777777777778,
              "#fb9f3a"
             ],
             [
              0.8888888888888888,
              "#fdca26"
             ],
             [
              1,
              "#f0f921"
             ]
            ],
            "type": "histogram2d"
           }
          ],
          "histogram2dcontour": [
           {
            "colorbar": {
             "outlinewidth": 0,
             "ticks": ""
            },
            "colorscale": [
             [
              0,
              "#0d0887"
             ],
             [
              0.1111111111111111,
              "#46039f"
             ],
             [
              0.2222222222222222,
              "#7201a8"
             ],
             [
              0.3333333333333333,
              "#9c179e"
             ],
             [
              0.4444444444444444,
              "#bd3786"
             ],
             [
              0.5555555555555556,
              "#d8576b"
             ],
             [
              0.6666666666666666,
              "#ed7953"
             ],
             [
              0.7777777777777778,
              "#fb9f3a"
             ],
             [
              0.8888888888888888,
              "#fdca26"
             ],
             [
              1,
              "#f0f921"
             ]
            ],
            "type": "histogram2dcontour"
           }
          ],
          "mesh3d": [
           {
            "colorbar": {
             "outlinewidth": 0,
             "ticks": ""
            },
            "type": "mesh3d"
           }
          ],
          "parcoords": [
           {
            "line": {
             "colorbar": {
              "outlinewidth": 0,
              "ticks": ""
             }
            },
            "type": "parcoords"
           }
          ],
          "pie": [
           {
            "automargin": true,
            "type": "pie"
           }
          ],
          "scatter": [
           {
            "fillpattern": {
             "fillmode": "overlay",
             "size": 10,
             "solidity": 0.2
            },
            "type": "scatter"
           }
          ],
          "scatter3d": [
           {
            "line": {
             "colorbar": {
              "outlinewidth": 0,
              "ticks": ""
             }
            },
            "marker": {
             "colorbar": {
              "outlinewidth": 0,
              "ticks": ""
             }
            },
            "type": "scatter3d"
           }
          ],
          "scattercarpet": [
           {
            "marker": {
             "colorbar": {
              "outlinewidth": 0,
              "ticks": ""
             }
            },
            "type": "scattercarpet"
           }
          ],
          "scattergeo": [
           {
            "marker": {
             "colorbar": {
              "outlinewidth": 0,
              "ticks": ""
             }
            },
            "type": "scattergeo"
           }
          ],
          "scattergl": [
           {
            "marker": {
             "colorbar": {
              "outlinewidth": 0,
              "ticks": ""
             }
            },
            "type": "scattergl"
           }
          ],
          "scattermap": [
           {
            "marker": {
             "colorbar": {
              "outlinewidth": 0,
              "ticks": ""
             }
            },
            "type": "scattermap"
           }
          ],
          "scattermapbox": [
           {
            "marker": {
             "colorbar": {
              "outlinewidth": 0,
              "ticks": ""
             }
            },
            "type": "scattermapbox"
           }
          ],
          "scatterpolar": [
           {
            "marker": {
             "colorbar": {
              "outlinewidth": 0,
              "ticks": ""
             }
            },
            "type": "scatterpolar"
           }
          ],
          "scatterpolargl": [
           {
            "marker": {
             "colorbar": {
              "outlinewidth": 0,
              "ticks": ""
             }
            },
            "type": "scatterpolargl"
           }
          ],
          "scatterternary": [
           {
            "marker": {
             "colorbar": {
              "outlinewidth": 0,
              "ticks": ""
             }
            },
            "type": "scatterternary"
           }
          ],
          "surface": [
           {
            "colorbar": {
             "outlinewidth": 0,
             "ticks": ""
            },
            "colorscale": [
             [
              0,
              "#0d0887"
             ],
             [
              0.1111111111111111,
              "#46039f"
             ],
             [
              0.2222222222222222,
              "#7201a8"
             ],
             [
              0.3333333333333333,
              "#9c179e"
             ],
             [
              0.4444444444444444,
              "#bd3786"
             ],
             [
              0.5555555555555556,
              "#d8576b"
             ],
             [
              0.6666666666666666,
              "#ed7953"
             ],
             [
              0.7777777777777778,
              "#fb9f3a"
             ],
             [
              0.8888888888888888,
              "#fdca26"
             ],
             [
              1,
              "#f0f921"
             ]
            ],
            "type": "surface"
           }
          ],
          "table": [
           {
            "cells": {
             "fill": {
              "color": "#EBF0F8"
             },
             "line": {
              "color": "white"
             }
            },
            "header": {
             "fill": {
              "color": "#C8D4E3"
             },
             "line": {
              "color": "white"
             }
            },
            "type": "table"
           }
          ]
         },
         "layout": {
          "annotationdefaults": {
           "arrowcolor": "#2a3f5f",
           "arrowhead": 0,
           "arrowwidth": 1
          },
          "autotypenumbers": "strict",
          "coloraxis": {
           "colorbar": {
            "outlinewidth": 0,
            "ticks": ""
           }
          },
          "colorscale": {
           "diverging": [
            [
             0,
             "#8e0152"
            ],
            [
             0.1,
             "#c51b7d"
            ],
            [
             0.2,
             "#de77ae"
            ],
            [
             0.3,
             "#f1b6da"
            ],
            [
             0.4,
             "#fde0ef"
            ],
            [
             0.5,
             "#f7f7f7"
            ],
            [
             0.6,
             "#e6f5d0"
            ],
            [
             0.7,
             "#b8e186"
            ],
            [
             0.8,
             "#7fbc41"
            ],
            [
             0.9,
             "#4d9221"
            ],
            [
             1,
             "#276419"
            ]
           ],
           "sequential": [
            [
             0,
             "#0d0887"
            ],
            [
             0.1111111111111111,
             "#46039f"
            ],
            [
             0.2222222222222222,
             "#7201a8"
            ],
            [
             0.3333333333333333,
             "#9c179e"
            ],
            [
             0.4444444444444444,
             "#bd3786"
            ],
            [
             0.5555555555555556,
             "#d8576b"
            ],
            [
             0.6666666666666666,
             "#ed7953"
            ],
            [
             0.7777777777777778,
             "#fb9f3a"
            ],
            [
             0.8888888888888888,
             "#fdca26"
            ],
            [
             1,
             "#f0f921"
            ]
           ],
           "sequentialminus": [
            [
             0,
             "#0d0887"
            ],
            [
             0.1111111111111111,
             "#46039f"
            ],
            [
             0.2222222222222222,
             "#7201a8"
            ],
            [
             0.3333333333333333,
             "#9c179e"
            ],
            [
             0.4444444444444444,
             "#bd3786"
            ],
            [
             0.5555555555555556,
             "#d8576b"
            ],
            [
             0.6666666666666666,
             "#ed7953"
            ],
            [
             0.7777777777777778,
             "#fb9f3a"
            ],
            [
             0.8888888888888888,
             "#fdca26"
            ],
            [
             1,
             "#f0f921"
            ]
           ]
          },
          "colorway": [
           "#636efa",
           "#EF553B",
           "#00cc96",
           "#ab63fa",
           "#FFA15A",
           "#19d3f3",
           "#FF6692",
           "#B6E880",
           "#FF97FF",
           "#FECB52"
          ],
          "font": {
           "color": "#2a3f5f"
          },
          "geo": {
           "bgcolor": "white",
           "lakecolor": "white",
           "landcolor": "#E5ECF6",
           "showlakes": true,
           "showland": true,
           "subunitcolor": "white"
          },
          "hoverlabel": {
           "align": "left"
          },
          "hovermode": "closest",
          "mapbox": {
           "style": "light"
          },
          "paper_bgcolor": "white",
          "plot_bgcolor": "#E5ECF6",
          "polar": {
           "angularaxis": {
            "gridcolor": "white",
            "linecolor": "white",
            "ticks": ""
           },
           "bgcolor": "#E5ECF6",
           "radialaxis": {
            "gridcolor": "white",
            "linecolor": "white",
            "ticks": ""
           }
          },
          "scene": {
           "xaxis": {
            "backgroundcolor": "#E5ECF6",
            "gridcolor": "white",
            "gridwidth": 2,
            "linecolor": "white",
            "showbackground": true,
            "ticks": "",
            "zerolinecolor": "white"
           },
           "yaxis": {
            "backgroundcolor": "#E5ECF6",
            "gridcolor": "white",
            "gridwidth": 2,
            "linecolor": "white",
            "showbackground": true,
            "ticks": "",
            "zerolinecolor": "white"
           },
           "zaxis": {
            "backgroundcolor": "#E5ECF6",
            "gridcolor": "white",
            "gridwidth": 2,
            "linecolor": "white",
            "showbackground": true,
            "ticks": "",
            "zerolinecolor": "white"
           }
          },
          "shapedefaults": {
           "line": {
            "color": "#2a3f5f"
           }
          },
          "ternary": {
           "aaxis": {
            "gridcolor": "white",
            "linecolor": "white",
            "ticks": ""
           },
           "baxis": {
            "gridcolor": "white",
            "linecolor": "white",
            "ticks": ""
           },
           "bgcolor": "#E5ECF6",
           "caxis": {
            "gridcolor": "white",
            "linecolor": "white",
            "ticks": ""
           }
          },
          "title": {
           "x": 0.05
          },
          "xaxis": {
           "automargin": true,
           "gridcolor": "white",
           "linecolor": "white",
           "ticks": "",
           "title": {
            "standoff": 15
           },
           "zerolinecolor": "white",
           "zerolinewidth": 2
          },
          "yaxis": {
           "automargin": true,
           "gridcolor": "white",
           "linecolor": "white",
           "ticks": "",
           "title": {
            "standoff": 15
           },
           "zerolinecolor": "white",
           "zerolinewidth": 2
          }
         }
        },
        "title": {
         "text": "Distribution of Startup Success"
        },
        "xaxis": {
         "anchor": "y",
         "categoryarray": [
          1,
          0
         ],
         "categoryorder": "array",
         "domain": [
          0,
          1
         ],
         "tickmode": "array",
         "ticktext": [
          "Fail (0)",
          "Success (1)"
         ],
         "tickvals": [
          0,
          1
         ],
         "title": {
          "text": "Startup Outcome"
         }
        },
        "yaxis": {
         "anchor": "x",
         "domain": [
          0,
          1
         ],
         "title": {
          "text": "Number of Students"
         }
        }
       }
      },
      "image/png": "[encoded data removed]"
     },
     "metadata": {},
     "output_type": "display_data"
    }
   ],
   "source": [
    "fig = px.histogram(df, x='success_label', color='success_label',\n",
    "                   title='Distribution of Startup Success',\n",
    "                   labels={'success_label': 'Startup Outcome (0 = Fail, 1 = Success)', 'count': 'Number of Students'},\n",
    "                   color_discrete_map={0: 'lightcoral', 1: 'lightgreen'})  \n",
    "\n",
    "fig.update_layout(\n",
    "    xaxis_title=\"Startup Outcome\",\n",
    "    yaxis_title=\"Number of Students\",\n",
    "    xaxis=dict(tickmode='array', tickvals=[0, 1], ticktext=['Fail (0)', 'Success (1)'])\n",
    ")\n",
    "fig.show()"
   ]
  },
  {
   "cell_type": "code",
   "execution_count": 15,
   "id": "75328440-ddcc-41ee-b545-a3ef8636fe2b",
   "metadata": {},
   "outputs": [
    {
     "data": {
      "application/vnd.plotly.v1+json": {
       "config": {
        "plotlyServerURL": "https://plot.ly"
       },
       "data": [
        {
         "bingroup": "x",
         "hovertemplate": "Startup Outcome (0 = Fail, 1 = Success)=1<br>Institution Type=%{x}<br>count=%{y}<extra></extra>",
         "legendgroup": "1",
         "marker": {
          "color": "#8fbc8f",
          "pattern": {
           "shape": ""
          }
         },
         "name": "1",
         "orientation": "v",
         "showlegend": true,
         "type": "histogram",
         "x": [
          "Non-technical",
          "Non-technical",
          "Private",
          "Technical",
          "Private",
          "Non-technical",
          "Private",
          "Public",
          "Private",
          "Public",
          "Technical",
          "Private",
          "Non-technical",
          "Private",
          "Technical",
          "Technical",
          "Public",
          "Public",
          "Non-technical",
          "Non-technical",
          "Technical",
          "Non-technical",
          "Public",
          "Non-technical",
          "Non-technical",
          "Public",
          "Public",
          "Private",
          "Private",
          "Non-technical",
          "Public",
          "Technical",
          "Private",
          "Private",
          "Private",
          "Technical",
          "Public",
          "Technical",
          "Technical",
          "Technical",
          "Non-technical",
          "Technical",
          "Technical",
          "Non-technical",
          "Non-technical",
          "Public",
          "Technical",
          "Public",
          "Technical",
          "Non-technical",
          "Non-technical",
          "Non-technical",
          "Private",
          "Private",
          "Technical",
          "Private",
          "Non-technical",
          "Public",
          "Technical",
          "Technical",
          "Non-technical",
          "Public",
          "Private",
          "Technical",
          "Private",
          "Private",
          "Private",
          "Non-technical",
          "Public",
          "Private",
          "Private",
          "Public",
          "Public",
          "Public",
          "Public",
          "Public",
          "Non-technical",
          "Public",
          "Technical",
          "Public",
          "Private",
          "Private",
          "Non-technical",
          "Non-technical",
          "Private",
          "Non-technical",
          "Technical",
          "Non-technical",
          "Private",
          "Private",
          "Private",
          "Public",
          "Public",
          "Public",
          "Public",
          "Public",
          "Public",
          "Public",
          "Non-technical",
          "Public",
          "Private",
          "Non-technical",
          "Non-technical",
          "Public",
          "Technical",
          "Non-technical",
          "Public",
          "Non-technical",
          "Non-technical",
          "Public",
          "Technical",
          "Public",
          "Non-technical",
          "Technical",
          "Public",
          "Technical",
          "Non-technical",
          "Non-technical",
          "Public",
          "Public",
          "Non-technical",
          "Non-technical",
          "Technical",
          "Technical",
          "Non-technical",
          "Technical",
          "Public",
          "Private",
          "Non-technical",
          "Private",
          "Private",
          "Non-technical",
          "Public",
          "Non-technical",
          "Private",
          "Technical",
          "Private",
          "Technical",
          "Non-technical",
          "Private",
          "Public",
          "Public",
          "Private",
          "Private",
          "Public",
          "Non-technical",
          "Non-technical",
          "Non-technical",
          "Private",
          "Public",
          "Non-technical",
          "Technical",
          "Public",
          "Non-technical",
          "Private",
          "Non-technical",
          "Private",
          "Public",
          "Public",
          "Non-technical",
          "Technical",
          "Technical",
          "Public",
          "Private",
          "Public",
          "Private",
          "Public",
          "Technical",
          "Non-technical",
          "Technical",
          "Private",
          "Private",
          "Private",
          "Non-technical",
          "Private",
          "Public",
          "Technical",
          "Non-technical",
          "Technical",
          "Non-technical",
          "Public",
          "Technical",
          "Private",
          "Technical",
          "Public",
          "Private",
          "Non-technical",
          "Public",
          "Non-technical",
          "Non-technical",
          "Public",
          "Technical",
          "Non-technical",
          "Technical",
          "Non-technical",
          "Private",
          "Technical",
          "Non-technical",
          "Private",
          "Public",
          "Non-technical",
          "Non-technical",
          "Private",
          "Private",
          "Private",
          "Private",
          "Public",
          "Non-technical",
          "Technical",
          "Non-technical",
          "Technical",
          "Private",
          "Non-technical",
          "Private",
          "Non-technical",
          "Technical",
          "Public",
          "Non-technical",
          "Non-technical",
          "Technical",
          "Private",
          "Public",
          "Private",
          "Non-technical",
          "Public",
          "Private",
          "Non-technical",
          "Public",
          "Public",
          "Non-technical",
          "Non-technical",
          "Non-technical",
          "Non-technical",
          "Non-technical",
          "Private",
          "Private",
          "Technical",
          "Public",
          "Technical",
          "Private",
          "Private",
          "Private",
          "Public",
          "Technical",
          "Technical",
          "Non-technical",
          "Public",
          "Non-technical",
          "Technical",
          "Public",
          "Technical",
          "Technical",
          "Non-technical",
          "Technical",
          "Technical",
          "Non-technical",
          "Public",
          "Non-technical",
          "Technical",
          "Technical",
          "Technical",
          "Private",
          "Public",
          "Public",
          "Private",
          "Private",
          "Technical",
          "Public",
          "Private",
          "Public",
          "Private",
          "Public",
          "Public",
          "Non-technical",
          "Private",
          "Public",
          "Non-technical",
          "Private",
          "Non-technical",
          "Technical",
          "Technical",
          "Public",
          "Non-technical",
          "Non-technical",
          "Non-technical",
          "Public",
          "Technical",
          "Non-technical",
          "Public",
          "Non-technical",
          "Public",
          "Private",
          "Private",
          "Non-technical",
          "Technical",
          "Non-technical",
          "Non-technical",
          "Non-technical",
          "Technical",
          "Private",
          "Public",
          "Public",
          "Non-technical",
          "Private",
          "Public",
          "Technical",
          "Technical",
          "Technical",
          "Technical",
          "Non-technical",
          "Non-technical",
          "Private",
          "Non-technical",
          "Non-technical",
          "Non-technical",
          "Public",
          "Private",
          "Private",
          "Public",
          "Technical",
          "Public",
          "Public",
          "Technical",
          "Public",
          "Public",
          "Non-technical",
          "Public",
          "Non-technical",
          "Technical",
          "Private",
          "Technical",
          "Private",
          "Public",
          "Technical",
          "Private",
          "Public",
          "Private",
          "Private",
          "Non-technical",
          "Public",
          "Private",
          "Private",
          "Non-technical",
          "Technical",
          "Private",
          "Non-technical",
          "Technical",
          "Public",
          "Non-technical",
          "Technical",
          "Technical",
          "Technical",
          "Non-technical",
          "Technical",
          "Private",
          "Non-technical",
          "Private",
          "Public",
          "Public",
          "Private",
          "Public",
          "Non-technical",
          "Public",
          "Technical",
          "Technical",
          "Public",
          "Technical",
          "Private",
          "Technical",
          "Technical",
          "Private",
          "Non-technical",
          "Public",
          "Public",
          "Technical",
          "Technical",
          "Non-technical",
          "Private",
          "Non-technical",
          "Non-technical",
          "Non-technical",
          "Non-technical",
          "Public",
          "Non-technical",
          "Public",
          "Non-technical",
          "Private",
          "Public",
          "Technical",
          "Technical",
          "Non-technical",
          "Technical",
          "Public",
          "Non-technical",
          "Private",
          "Private",
          "Technical",
          "Public",
          "Public",
          "Public",
          "Non-technical",
          "Public",
          "Non-technical",
          "Public",
          "Private",
          "Technical",
          "Non-technical",
          "Public",
          "Non-technical",
          "Non-technical",
          "Public",
          "Public",
          "Non-technical",
          "Technical",
          "Non-technical",
          "Non-technical",
          "Non-technical",
          "Non-technical",
          "Public",
          "Public",
          "Technical",
          "Private",
          "Technical",
          "Technical",
          "Technical",
          "Private",
          "Non-technical",
          "Non-technical",
          "Non-technical",
          "Private",
          "Non-technical",
          "Technical",
          "Non-technical",
          "Non-technical",
          "Technical",
          "Non-technical",
          "Non-technical",
          "Public",
          "Non-technical",
          "Private",
          "Public",
          "Technical",
          "Non-technical",
          "Private",
          "Public",
          "Technical",
          "Private",
          "Private",
          "Public",
          "Technical",
          "Technical",
          "Technical",
          "Technical",
          "Non-technical",
          "Non-technical",
          "Private",
          "Public",
          "Technical",
          "Private",
          "Technical",
          "Public",
          "Technical",
          "Public",
          "Public",
          "Technical",
          "Private",
          "Public",
          "Public",
          "Non-technical",
          "Private",
          "Public",
          "Non-technical",
          "Public",
          "Technical",
          "Public",
          "Public",
          "Technical",
          "Public",
          "Non-technical",
          "Non-technical",
          "Non-technical",
          "Public",
          "Public",
          "Technical",
          "Public",
          "Private",
          "Private",
          "Non-technical",
          "Private",
          "Private",
          "Public",
          "Technical",
          "Public",
          "Non-technical",
          "Public",
          "Public",
          "Public",
          "Non-technical",
          "Technical",
          "Non-technical",
          "Public",
          "Technical",
          "Private",
          "Private",
          "Technical",
          "Non-technical",
          "Private",
          "Technical",
          "Public",
          "Non-technical",
          "Non-technical",
          "Private",
          "Public",
          "Non-technical",
          "Technical",
          "Private",
          "Private",
          "Public",
          "Non-technical",
          "Private",
          "Technical",
          "Non-technical",
          "Technical",
          "Public",
          "Public",
          "Non-technical",
          "Technical",
          "Non-technical",
          "Public",
          "Public",
          "Public",
          "Technical",
          "Public",
          "Public",
          "Non-technical",
          "Private",
          "Private",
          "Private",
          "Private",
          "Public",
          "Technical",
          "Technical",
          "Non-technical",
          "Technical",
          "Technical",
          "Public",
          "Private",
          "Technical",
          "Non-technical",
          "Non-technical",
          "Public",
          "Public",
          "Non-technical",
          "Public",
          "Technical",
          "Non-technical",
          "Private",
          "Private",
          "Technical",
          "Technical",
          "Technical",
          "Private",
          "Private",
          "Private",
          "Public",
          "Technical",
          "Technical",
          "Public",
          "Technical",
          "Public",
          "Public",
          "Private",
          "Private",
          "Non-technical",
          "Non-technical",
          "Public",
          "Non-technical",
          "Non-technical",
          "Public",
          "Private",
          "Technical",
          "Private",
          "Technical",
          "Public",
          "Private",
          "Technical",
          "Non-technical",
          "Technical",
          "Public",
          "Non-technical",
          "Non-technical",
          "Private",
          "Technical",
          "Non-technical",
          "Non-technical",
          "Public",
          "Technical",
          "Non-technical",
          "Non-technical",
          "Private",
          "Private",
          "Public",
          "Non-technical",
          "Technical",
          "Non-technical",
          "Public",
          "Technical",
          "Non-technical",
          "Public",
          "Public",
          "Technical",
          "Private",
          "Non-technical",
          "Technical",
          "Technical",
          "Public",
          "Public",
          "Non-technical",
          "Non-technical",
          "Private",
          "Non-technical",
          "Public",
          "Private",
          "Technical",
          "Public",
          "Private",
          "Private",
          "Private",
          "Private",
          "Public",
          "Private",
          "Private",
          "Public",
          "Technical",
          "Technical",
          "Public",
          "Public",
          "Private",
          "Non-technical",
          "Public",
          "Public",
          "Public",
          "Public",
          "Technical",
          "Technical",
          "Technical",
          "Public",
          "Private",
          "Technical",
          "Public",
          "Technical",
          "Technical",
          "Technical",
          "Non-technical",
          "Public",
          "Private",
          "Non-technical",
          "Non-technical",
          "Technical",
          "Public",
          "Public",
          "Non-technical",
          "Non-technical",
          "Public",
          "Public",
          "Private",
          "Technical",
          "Non-technical",
          "Technical",
          "Technical",
          "Non-technical",
          "Technical",
          "Public",
          "Public",
          "Non-technical",
          "Private",
          "Private",
          "Technical",
          "Technical",
          "Non-technical",
          "Non-technical",
          "Technical",
          "Technical",
          "Public",
          "Technical",
          "Technical",
          "Technical",
          "Technical",
          "Technical",
          "Technical",
          "Non-technical",
          "Technical",
          "Public",
          "Public",
          "Public",
          "Non-technical",
          "Non-technical",
          "Technical",
          "Technical",
          "Private",
          "Technical",
          "Private",
          "Private",
          "Technical",
          "Non-technical",
          "Private",
          "Public",
          "Technical",
          "Private",
          "Non-technical",
          "Private",
          "Public",
          "Non-technical",
          "Technical",
          "Technical",
          "Public",
          "Public",
          "Public",
          "Non-technical",
          "Non-technical",
          "Non-technical",
          "Public",
          "Public",
          "Non-technical",
          "Private",
          "Non-technical",
          "Private",
          "Private",
          "Non-technical",
          "Non-technical",
          "Technical",
          "Non-technical",
          "Non-technical",
          "Technical",
          "Non-technical",
          "Private",
          "Non-technical",
          "Private",
          "Private",
          "Public",
          "Non-technical",
          "Non-technical",
          "Private",
          "Technical",
          "Technical",
          "Non-technical",
          "Technical",
          "Non-technical",
          "Technical",
          "Public",
          "Public",
          "Private",
          "Public",
          "Public",
          "Public",
          "Public",
          "Technical",
          "Technical",
          "Non-technical",
          "Private",
          "Private",
          "Non-technical",
          "Private",
          "Non-technical",
          "Non-technical",
          "Private",
          "Private",
          "Non-technical",
          "Private",
          "Non-technical",
          "Technical",
          "Private",
          "Technical",
          "Non-technical",
          "Non-technical",
          "Technical",
          "Technical",
          "Private",
          "Private",
          "Private",
          "Public",
          "Technical",
          "Private",
          "Non-technical",
          "Private",
          "Private",
          "Private",
          "Non-technical",
          "Public",
          "Public",
          "Technical",
          "Public",
          "Public",
          "Technical",
          "Private",
          "Non-technical",
          "Non-technical",
          "Non-technical",
          "Public",
          "Technical",
          "Public",
          "Non-technical",
          "Technical",
          "Technical",
          "Public",
          "Technical",
          "Public",
          "Non-technical",
          "Technical",
          "Non-technical",
          "Public",
          "Non-technical",
          "Technical",
          "Technical",
          "Non-technical",
          "Private",
          "Private",
          "Non-technical",
          "Technical",
          "Non-technical",
          "Non-technical",
          "Private",
          "Non-technical",
          "Private",
          "Technical",
          "Public",
          "Public",
          "Private",
          "Non-technical",
          "Private",
          "Non-technical",
          "Public",
          "Non-technical",
          "Non-technical",
          "Private",
          "Non-technical",
          "Non-technical",
          "Private",
          "Private",
          "Public",
          "Non-technical",
          "Non-technical",
          "Public",
          "Public",
          "Non-technical",
          "Public",
          "Public",
          "Public",
          "Public",
          "Non-technical",
          "Technical",
          "Public",
          "Technical",
          "Non-technical",
          "Private",
          "Non-technical",
          "Technical",
          "Non-technical",
          "Technical",
          "Non-technical",
          "Private",
          "Technical",
          "Private",
          "Private",
          "Public",
          "Public",
          "Technical",
          "Private",
          "Technical",
          "Non-technical",
          "Public",
          "Private",
          "Non-technical",
          "Technical",
          "Technical",
          "Technical",
          "Non-technical",
          "Technical",
          "Technical",
          "Non-technical",
          "Public"
         ],
         "xaxis": "x",
         "yaxis": "y"
        },
        {
         "bingroup": "x",
         "hovertemplate": "Startup Outcome (0 = Fail, 1 = Success)=0<br>Institution Type=%{x}<br>count=%{y}<extra></extra>",
         "legendgroup": "0",
         "marker": {
          "color": "#e56060",
          "pattern": {
           "shape": ""
          }
         },
         "name": "0",
         "orientation": "v",
         "showlegend": true,
         "type": "histogram",
         "x": [
          "Technical",
          "Public",
          "Technical",
          "Public",
          "Private",
          "Technical",
          "Private",
          "Technical",
          "Private",
          "Private",
          "Non-technical",
          "Private",
          "Public",
          "Public",
          "Non-technical",
          "Private",
          "Public",
          "Private",
          "Public",
          "Non-technical",
          "Public",
          "Private",
          "Public",
          "Private",
          "Public",
          "Private",
          "Public",
          "Non-technical",
          "Non-technical",
          "Non-technical",
          "Non-technical",
          "Technical",
          "Private",
          "Non-technical",
          "Private",
          "Non-technical",
          "Technical",
          "Non-technical",
          "Public",
          "Technical",
          "Private",
          "Technical",
          "Technical",
          "Technical",
          "Technical",
          "Private",
          "Public",
          "Private",
          "Public",
          "Technical",
          "Non-technical",
          "Technical",
          "Public",
          "Public",
          "Public",
          "Private",
          "Private",
          "Non-technical",
          "Non-technical",
          "Non-technical",
          "Non-technical",
          "Public",
          "Non-technical",
          "Public",
          "Non-technical",
          "Technical",
          "Technical",
          "Public",
          "Non-technical",
          "Technical",
          "Private",
          "Private",
          "Technical",
          "Public",
          "Public",
          "Private",
          "Private",
          "Private",
          "Technical",
          "Public",
          "Private",
          "Technical",
          "Public",
          "Technical",
          "Technical",
          "Public",
          "Public",
          "Public",
          "Private",
          "Non-technical",
          "Public",
          "Technical",
          "Non-technical",
          "Technical",
          "Public",
          "Non-technical",
          "Non-technical",
          "Technical",
          "Private",
          "Non-technical",
          "Non-technical",
          "Public",
          "Public",
          "Public",
          "Public",
          "Non-technical",
          "Non-technical",
          "Private",
          "Non-technical",
          "Public",
          "Private",
          "Private",
          "Non-technical",
          "Non-technical",
          "Technical",
          "Private",
          "Technical",
          "Private",
          "Non-technical",
          "Public",
          "Technical",
          "Public",
          "Non-technical",
          "Technical",
          "Non-technical",
          "Public",
          "Technical",
          "Non-technical",
          "Public",
          "Public",
          "Technical",
          "Public",
          "Technical",
          "Public",
          "Non-technical",
          "Private",
          "Technical",
          "Private",
          "Non-technical",
          "Technical",
          "Technical",
          "Technical",
          "Technical",
          "Private",
          "Public",
          "Private",
          "Non-technical",
          "Non-technical",
          "Technical",
          "Non-technical",
          "Non-technical",
          "Technical",
          "Non-technical",
          "Non-technical",
          "Public",
          "Public",
          "Public",
          "Non-technical",
          "Private",
          "Public",
          "Technical",
          "Private",
          "Technical",
          "Private",
          "Non-technical",
          "Technical",
          "Non-technical",
          "Private",
          "Private",
          "Public",
          "Public",
          "Technical",
          "Non-technical",
          "Non-technical",
          "Non-technical",
          "Technical",
          "Private",
          "Technical",
          "Private",
          "Public",
          "Technical",
          "Private",
          "Public",
          "Private",
          "Non-technical",
          "Private",
          "Non-technical",
          "Non-technical",
          "Non-technical",
          "Technical",
          "Private",
          "Public",
          "Private",
          "Non-technical",
          "Private",
          "Technical",
          "Public",
          "Non-technical",
          "Technical",
          "Public",
          "Private",
          "Non-technical",
          "Private",
          "Non-technical",
          "Private",
          "Technical",
          "Non-technical",
          "Non-technical",
          "Technical",
          "Public",
          "Public",
          "Public",
          "Private",
          "Public",
          "Private",
          "Technical",
          "Technical",
          "Technical",
          "Technical",
          "Non-technical",
          "Public",
          "Private",
          "Technical",
          "Public",
          "Public",
          "Non-technical",
          "Technical",
          "Technical",
          "Technical",
          "Technical",
          "Non-technical",
          "Public",
          "Technical",
          "Non-technical",
          "Private",
          "Private",
          "Non-technical",
          "Public",
          "Public",
          "Non-technical",
          "Non-technical",
          "Private",
          "Public",
          "Private",
          "Public",
          "Private",
          "Technical",
          "Technical",
          "Technical",
          "Non-technical",
          "Public",
          "Public",
          "Private",
          "Private",
          "Private",
          "Non-technical",
          "Public",
          "Public",
          "Private",
          "Public",
          "Technical",
          "Technical",
          "Technical",
          "Public",
          "Non-technical",
          "Private",
          "Private",
          "Private",
          "Public",
          "Technical",
          "Private",
          "Private",
          "Non-technical",
          "Public",
          "Non-technical",
          "Technical",
          "Technical",
          "Public",
          "Private",
          "Technical",
          "Public",
          "Private",
          "Technical",
          "Non-technical",
          "Private",
          "Non-technical",
          "Private",
          "Technical",
          "Technical",
          "Non-technical",
          "Non-technical",
          "Technical",
          "Private",
          "Non-technical",
          "Public",
          "Non-technical",
          "Private",
          "Non-technical",
          "Non-technical",
          "Private",
          "Public",
          "Private",
          "Technical",
          "Non-technical",
          "Public",
          "Technical",
          "Public",
          "Private",
          "Public",
          "Public",
          "Private",
          "Non-technical",
          "Non-technical",
          "Technical",
          "Private",
          "Technical",
          "Private",
          "Non-technical",
          "Technical",
          "Public",
          "Non-technical",
          "Public",
          "Non-technical",
          "Technical",
          "Public",
          "Private",
          "Private",
          "Public",
          "Technical",
          "Technical",
          "Public",
          "Technical",
          "Private",
          "Technical",
          "Private",
          "Private",
          "Technical",
          "Public",
          "Public",
          "Non-technical",
          "Public",
          "Public",
          "Non-technical",
          "Private",
          "Private",
          "Technical",
          "Private",
          "Public",
          "Non-technical",
          "Private",
          "Public",
          "Private",
          "Private",
          "Non-technical",
          "Non-technical",
          "Non-technical",
          "Non-technical",
          "Private",
          "Private",
          "Technical",
          "Technical",
          "Private",
          "Non-technical",
          "Private",
          "Private",
          "Public",
          "Public",
          "Private",
          "Non-technical",
          "Non-technical",
          "Technical",
          "Non-technical",
          "Private",
          "Technical",
          "Public",
          "Non-technical",
          "Private",
          "Public",
          "Private",
          "Technical",
          "Private",
          "Non-technical",
          "Non-technical",
          "Non-technical",
          "Technical",
          "Technical",
          "Public",
          "Private",
          "Private",
          "Public",
          "Public",
          "Technical",
          "Private",
          "Non-technical",
          "Technical",
          "Non-technical",
          "Public",
          "Public",
          "Public",
          "Private",
          "Public",
          "Technical",
          "Private",
          "Public",
          "Public",
          "Public",
          "Non-technical",
          "Public",
          "Public",
          "Private",
          "Non-technical",
          "Technical",
          "Public",
          "Private",
          "Private",
          "Private",
          "Public",
          "Private",
          "Public",
          "Public",
          "Private",
          "Private",
          "Private",
          "Non-technical",
          "Public",
          "Technical",
          "Non-technical",
          "Non-technical",
          "Technical",
          "Non-technical",
          "Private",
          "Non-technical",
          "Technical",
          "Private",
          "Technical",
          "Technical",
          "Non-technical",
          "Public",
          "Non-technical",
          "Private",
          "Non-technical",
          "Private",
          "Non-technical",
          "Private",
          "Non-technical",
          "Public",
          "Non-technical",
          "Technical",
          "Non-technical",
          "Private",
          "Non-technical",
          "Public",
          "Technical",
          "Private",
          "Private",
          "Technical",
          "Non-technical",
          "Non-technical",
          "Private",
          "Non-technical",
          "Private",
          "Technical",
          "Non-technical",
          "Public",
          "Technical",
          "Technical",
          "Non-technical",
          "Non-technical",
          "Non-technical",
          "Non-technical",
          "Non-technical",
          "Non-technical",
          "Public",
          "Non-technical",
          "Technical",
          "Public",
          "Private",
          "Private",
          "Non-technical",
          "Non-technical",
          "Private",
          "Private",
          "Technical",
          "Technical",
          "Public",
          "Technical",
          "Technical",
          "Private",
          "Technical",
          "Private",
          "Public",
          "Non-technical",
          "Technical",
          "Non-technical",
          "Non-technical",
          "Public",
          "Non-technical",
          "Non-technical",
          "Technical",
          "Private",
          "Private",
          "Private",
          "Technical",
          "Non-technical",
          "Non-technical",
          "Private",
          "Public",
          "Technical",
          "Public",
          "Public",
          "Private",
          "Public",
          "Private",
          "Non-technical",
          "Technical",
          "Technical",
          "Non-technical",
          "Technical",
          "Technical",
          "Non-technical",
          "Private",
          "Private",
          "Private",
          "Private",
          "Public",
          "Technical",
          "Public",
          "Public",
          "Non-technical",
          "Private",
          "Private",
          "Non-technical",
          "Technical",
          "Private",
          "Technical",
          "Private",
          "Private",
          "Non-technical",
          "Private",
          "Private",
          "Public",
          "Private",
          "Private",
          "Non-technical",
          "Public",
          "Technical",
          "Private",
          "Private",
          "Public",
          "Non-technical",
          "Non-technical",
          "Public",
          "Public",
          "Technical",
          "Private",
          "Technical",
          "Technical",
          "Technical",
          "Public",
          "Public",
          "Private",
          "Technical",
          "Non-technical",
          "Non-technical",
          "Technical",
          "Private",
          "Public",
          "Non-technical",
          "Public",
          "Technical",
          "Technical",
          "Technical",
          "Private",
          "Technical",
          "Private",
          "Technical",
          "Technical",
          "Public",
          "Technical",
          "Public",
          "Public",
          "Public",
          "Private",
          "Non-technical",
          "Non-technical",
          "Technical",
          "Public",
          "Public",
          "Technical",
          "Technical",
          "Private",
          "Technical",
          "Technical",
          "Technical",
          "Technical",
          "Private",
          "Non-technical",
          "Private",
          "Non-technical",
          "Non-technical",
          "Private",
          "Private",
          "Private",
          "Public",
          "Public",
          "Non-technical",
          "Private",
          "Private",
          "Technical",
          "Private",
          "Non-technical",
          "Technical",
          "Private",
          "Technical",
          "Non-technical",
          "Non-technical",
          "Public",
          "Private",
          "Technical",
          "Technical",
          "Non-technical",
          "Technical",
          "Non-technical",
          "Technical",
          "Non-technical",
          "Private",
          "Non-technical",
          "Non-technical",
          "Public",
          "Non-technical",
          "Public",
          "Non-technical",
          "Private",
          "Technical",
          "Private",
          "Private",
          "Technical",
          "Non-technical",
          "Private",
          "Private",
          "Private",
          "Public",
          "Non-technical",
          "Technical",
          "Technical",
          "Non-technical",
          "Public",
          "Non-technical",
          "Technical",
          "Technical",
          "Non-technical",
          "Public",
          "Non-technical",
          "Technical",
          "Non-technical",
          "Public",
          "Public",
          "Public",
          "Public",
          "Public",
          "Private",
          "Non-technical",
          "Public",
          "Non-technical",
          "Technical",
          "Non-technical",
          "Non-technical",
          "Non-technical",
          "Technical",
          "Technical",
          "Public",
          "Private",
          "Public",
          "Non-technical",
          "Public",
          "Private",
          "Non-technical",
          "Public",
          "Technical",
          "Non-technical",
          "Technical",
          "Technical",
          "Non-technical",
          "Private",
          "Non-technical",
          "Public",
          "Technical",
          "Private",
          "Non-technical",
          "Non-technical",
          "Private",
          "Technical",
          "Technical",
          "Public",
          "Private",
          "Private",
          "Public",
          "Public",
          "Private",
          "Non-technical",
          "Private",
          "Public",
          "Public",
          "Public",
          "Technical",
          "Private",
          "Public",
          "Non-technical",
          "Non-technical",
          "Public",
          "Public",
          "Private",
          "Public",
          "Private",
          "Private",
          "Non-technical",
          "Technical",
          "Non-technical",
          "Non-technical",
          "Private",
          "Public",
          "Technical",
          "Public",
          "Public",
          "Non-technical",
          "Public",
          "Public",
          "Public",
          "Non-technical",
          "Public",
          "Technical",
          "Technical",
          "Technical",
          "Public",
          "Public",
          "Private",
          "Technical",
          "Technical",
          "Public",
          "Public",
          "Non-technical",
          "Non-technical",
          "Non-technical",
          "Public",
          "Public",
          "Non-technical",
          "Public",
          "Private",
          "Non-technical",
          "Private",
          "Public",
          "Public",
          "Technical",
          "Technical",
          "Public",
          "Public",
          "Non-technical",
          "Private",
          "Non-technical",
          "Non-technical",
          "Private",
          "Public",
          "Technical",
          "Non-technical",
          "Non-technical",
          "Non-technical",
          "Public",
          "Non-technical",
          "Private",
          "Technical",
          "Technical",
          "Private",
          "Technical",
          "Public",
          "Private",
          "Technical",
          "Technical",
          "Public",
          "Private",
          "Private",
          "Private",
          "Technical",
          "Public",
          "Public",
          "Technical",
          "Technical",
          "Private",
          "Technical",
          "Public",
          "Private",
          "Private",
          "Technical",
          "Private",
          "Private",
          "Public",
          "Non-technical",
          "Technical",
          "Technical",
          "Public",
          "Public",
          "Technical",
          "Public",
          "Public",
          "Private",
          "Public",
          "Technical",
          "Technical",
          "Non-technical",
          "Public",
          "Private",
          "Non-technical",
          "Public",
          "Private",
          "Technical",
          "Public",
          "Public",
          "Private",
          "Private",
          "Private",
          "Non-technical",
          "Technical",
          "Technical",
          "Technical",
          "Technical",
          "Non-technical",
          "Technical",
          "Public",
          "Non-technical",
          "Non-technical",
          "Private",
          "Non-technical",
          "Non-technical",
          "Public",
          "Non-technical",
          "Technical",
          "Public",
          "Private",
          "Non-technical",
          "Technical",
          "Technical",
          "Technical",
          "Private",
          "Technical",
          "Private",
          "Non-technical",
          "Public",
          "Private",
          "Non-technical",
          "Non-technical",
          "Non-technical",
          "Public",
          "Technical",
          "Public",
          "Private",
          "Public",
          "Non-technical",
          "Non-technical",
          "Technical",
          "Technical",
          "Non-technical",
          "Technical",
          "Private",
          "Technical",
          "Non-technical",
          "Technical",
          "Private",
          "Technical",
          "Technical",
          "Technical",
          "Public",
          "Private",
          "Public",
          "Public",
          "Private",
          "Non-technical",
          "Public",
          "Private",
          "Non-technical",
          "Private",
          "Non-technical",
          "Public",
          "Public",
          "Technical",
          "Technical",
          "Non-technical",
          "Public",
          "Public",
          "Non-technical",
          "Private",
          "Non-technical",
          "Public",
          "Public",
          "Private",
          "Private",
          "Public",
          "Technical",
          "Private",
          "Private",
          "Non-technical",
          "Public",
          "Technical",
          "Private",
          "Public",
          "Non-technical",
          "Non-technical",
          "Technical",
          "Non-technical",
          "Public",
          "Non-technical",
          "Non-technical",
          "Public",
          "Technical",
          "Public",
          "Technical",
          "Private",
          "Technical",
          "Technical",
          "Public",
          "Technical",
          "Non-technical",
          "Private",
          "Public",
          "Private",
          "Technical",
          "Public",
          "Non-technical",
          "Technical",
          "Public",
          "Private",
          "Private",
          "Public",
          "Technical",
          "Private",
          "Public",
          "Private",
          "Technical",
          "Non-technical",
          "Non-technical",
          "Public",
          "Private",
          "Non-technical",
          "Public",
          "Private",
          "Non-technical",
          "Non-technical",
          "Non-technical",
          "Private",
          "Private",
          "Non-technical",
          "Private",
          "Technical",
          "Private",
          "Non-technical",
          "Technical",
          "Technical",
          "Non-technical",
          "Public",
          "Private",
          "Public",
          "Public",
          "Private",
          "Private",
          "Non-technical",
          "Technical",
          "Technical",
          "Technical",
          "Public",
          "Technical",
          "Non-technical",
          "Technical",
          "Non-technical",
          "Non-technical",
          "Public",
          "Public",
          "Public",
          "Technical",
          "Private",
          "Technical",
          "Public",
          "Public",
          "Technical",
          "Public",
          "Technical",
          "Non-technical",
          "Private",
          "Non-technical",
          "Public",
          "Technical",
          "Private",
          "Private",
          "Private",
          "Private",
          "Public",
          "Non-technical",
          "Non-technical",
          "Public",
          "Non-technical",
          "Technical",
          "Non-technical",
          "Private",
          "Private",
          "Technical",
          "Technical",
          "Private",
          "Technical",
          "Non-technical",
          "Public",
          "Public",
          "Technical",
          "Public",
          "Public",
          "Non-technical",
          "Technical",
          "Technical",
          "Technical",
          "Technical",
          "Public",
          "Private",
          "Private",
          "Technical",
          "Private",
          "Technical",
          "Technical",
          "Private",
          "Public",
          "Public",
          "Non-technical",
          "Private",
          "Public",
          "Public",
          "Technical",
          "Private",
          "Non-technical",
          "Private",
          "Public",
          "Technical",
          "Private",
          "Non-technical",
          "Non-technical",
          "Private",
          "Private",
          "Technical",
          "Technical",
          "Private",
          "Private",
          "Technical",
          "Private",
          "Public",
          "Technical",
          "Public",
          "Technical",
          "Public",
          "Public",
          "Public",
          "Technical",
          "Public",
          "Technical",
          "Private",
          "Technical",
          "Private",
          "Non-technical",
          "Non-technical",
          "Private",
          "Non-technical",
          "Public",
          "Private",
          "Technical",
          "Non-technical",
          "Public",
          "Technical",
          "Private",
          "Private",
          "Non-technical",
          "Technical",
          "Technical",
          "Non-technical",
          "Public",
          "Public",
          "Technical",
          "Public",
          "Public",
          "Private",
          "Private",
          "Public",
          "Technical",
          "Non-technical",
          "Public",
          "Private",
          "Non-technical",
          "Non-technical",
          "Public",
          "Non-technical",
          "Public",
          "Technical",
          "Technical",
          "Non-technical",
          "Non-technical",
          "Private",
          "Technical",
          "Technical",
          "Public",
          "Technical",
          "Public",
          "Private",
          "Non-technical",
          "Technical",
          "Public",
          "Public",
          "Private",
          "Technical",
          "Private",
          "Public",
          "Non-technical",
          "Private",
          "Technical",
          "Public",
          "Public",
          "Public",
          "Non-technical",
          "Public",
          "Technical",
          "Public",
          "Private",
          "Public",
          "Public",
          "Public",
          "Public",
          "Public",
          "Technical",
          "Technical",
          "Non-technical",
          "Technical",
          "Non-technical",
          "Public",
          "Non-technical",
          "Public",
          "Private",
          "Public",
          "Non-technical",
          "Technical",
          "Public",
          "Public",
          "Private",
          "Technical",
          "Non-technical",
          "Private",
          "Public",
          "Technical",
          "Public",
          "Public",
          "Private",
          "Public",
          "Technical",
          "Non-technical",
          "Technical",
          "Private",
          "Non-technical",
          "Public",
          "Non-technical",
          "Non-technical",
          "Public",
          "Technical",
          "Technical",
          "Public",
          "Private",
          "Private",
          "Private",
          "Public",
          "Technical",
          "Private",
          "Private",
          "Private",
          "Non-technical",
          "Private",
          "Private",
          "Private",
          "Private",
          "Technical",
          "Private",
          "Public",
          "Non-technical",
          "Public",
          "Public",
          "Non-technical",
          "Private",
          "Private",
          "Private",
          "Public",
          "Non-technical",
          "Non-technical",
          "Technical",
          "Public",
          "Non-technical",
          "Non-technical",
          "Non-technical",
          "Private",
          "Public",
          "Private",
          "Technical",
          "Technical",
          "Public",
          "Private",
          "Public",
          "Technical",
          "Non-technical",
          "Non-technical",
          "Public",
          "Non-technical",
          "Non-technical",
          "Technical",
          "Public",
          "Non-technical",
          "Public",
          "Non-technical",
          "Public",
          "Non-technical",
          "Public",
          "Public",
          "Non-technical"
         ],
         "xaxis": "x",
         "yaxis": "y"
        }
       ],
       "layout": {
        "barmode": "relative",
        "legend": {
         "title": {
          "text": "Startup Outcome (0 = Fail, 1 = Success)"
         },
         "tracegroupgap": 0
        },
        "template": {
         "data": {
          "bar": [
           {
            "error_x": {
             "color": "#2a3f5f"
            },
            "error_y": {
             "color": "#2a3f5f"
            },
            "marker": {
             "line": {
              "color": "#E5ECF6",
              "width": 0.5
             },
             "pattern": {
              "fillmode": "overlay",
              "size": 10,
              "solidity": 0.2
             }
            },
            "type": "bar"
           }
          ],
          "barpolar": [
           {
            "marker": {
             "line": {
              "color": "#E5ECF6",
              "width": 0.5
             },
             "pattern": {
              "fillmode": "overlay",
              "size": 10,
              "solidity": 0.2
             }
            },
            "type": "barpolar"
           }
          ],
          "carpet": [
           {
            "aaxis": {
             "endlinecolor": "#2a3f5f",
             "gridcolor": "white",
             "linecolor": "white",
             "minorgridcolor": "white",
             "startlinecolor": "#2a3f5f"
            },
            "baxis": {
             "endlinecolor": "#2a3f5f",
             "gridcolor": "white",
             "linecolor": "white",
             "minorgridcolor": "white",
             "startlinecolor": "#2a3f5f"
            },
            "type": "carpet"
           }
          ],
          "choropleth": [
           {
            "colorbar": {
             "outlinewidth": 0,
             "ticks": ""
            },
            "type": "choropleth"
           }
          ],
          "contour": [
           {
            "colorbar": {
             "outlinewidth": 0,
             "ticks": ""
            },
            "colorscale": [
             [
              0,
              "#0d0887"
             ],
             [
              0.1111111111111111,
              "#46039f"
             ],
             [
              0.2222222222222222,
              "#7201a8"
             ],
             [
              0.3333333333333333,
              "#9c179e"
             ],
             [
              0.4444444444444444,
              "#bd3786"
             ],
             [
              0.5555555555555556,
              "#d8576b"
             ],
             [
              0.6666666666666666,
              "#ed7953"
             ],
             [
              0.7777777777777778,
              "#fb9f3a"
             ],
             [
              0.8888888888888888,
              "#fdca26"
             ],
             [
              1,
              "#f0f921"
             ]
            ],
            "type": "contour"
           }
          ],
          "contourcarpet": [
           {
            "colorbar": {
             "outlinewidth": 0,
             "ticks": ""
            },
            "type": "contourcarpet"
           }
          ],
          "heatmap": [
           {
            "colorbar": {
             "outlinewidth": 0,
             "ticks": ""
            },
            "colorscale": [
             [
              0,
              "#0d0887"
             ],
             [
              0.1111111111111111,
              "#46039f"
             ],
             [
              0.2222222222222222,
              "#7201a8"
             ],
             [
              0.3333333333333333,
              "#9c179e"
             ],
             [
              0.4444444444444444,
              "#bd3786"
             ],
             [
              0.5555555555555556,
              "#d8576b"
             ],
             [
              0.6666666666666666,
              "#ed7953"
             ],
             [
              0.7777777777777778,
              "#fb9f3a"
             ],
             [
              0.8888888888888888,
              "#fdca26"
             ],
             [
              1,
              "#f0f921"
             ]
            ],
            "type": "heatmap"
           }
          ],
          "histogram": [
           {
            "marker": {
             "pattern": {
              "fillmode": "overlay",
              "size": 10,
              "solidity": 0.2
             }
            },
            "type": "histogram"
           }
          ],
          "histogram2d": [
           {
            "colorbar": {
             "outlinewidth": 0,
             "ticks": ""
            },
            "colorscale": [
             [
              0,
              "#0d0887"
             ],
             [
              0.1111111111111111,
              "#46039f"
             ],
             [
              0.2222222222222222,
              "#7201a8"
             ],
             [
              0.3333333333333333,
              "#9c179e"
             ],
             [
              0.4444444444444444,
              "#bd3786"
             ],
             [
              0.5555555555555556,
              "#d8576b"
             ],
             [
              0.6666666666666666,
              "#ed7953"
             ],
             [
              0.7777777777777778,
              "#fb9f3a"
             ],
             [
              0.8888888888888888,
              "#fdca26"
             ],
             [
              1,
              "#f0f921"
             ]
            ],
            "type": "histogram2d"
           }
          ],
          "histogram2dcontour": [
           {
            "colorbar": {
             "outlinewidth": 0,
             "ticks": ""
            },
            "colorscale": [
             [
              0,
              "#0d0887"
             ],
             [
              0.1111111111111111,
              "#46039f"
             ],
             [
              0.2222222222222222,
              "#7201a8"
             ],
             [
              0.3333333333333333,
              "#9c179e"
             ],
             [
              0.4444444444444444,
              "#bd3786"
             ],
             [
              0.5555555555555556,
              "#d8576b"
             ],
             [
              0.6666666666666666,
              "#ed7953"
             ],
             [
              0.7777777777777778,
              "#fb9f3a"
             ],
             [
              0.8888888888888888,
              "#fdca26"
             ],
             [
              1,
              "#f0f921"
             ]
            ],
            "type": "histogram2dcontour"
           }
          ],
          "mesh3d": [
           {
            "colorbar": {
             "outlinewidth": 0,
             "ticks": ""
            },
            "type": "mesh3d"
           }
          ],
          "parcoords": [
           {
            "line": {
             "colorbar": {
              "outlinewidth": 0,
              "ticks": ""
             }
            },
            "type": "parcoords"
           }
          ],
          "pie": [
           {
            "automargin": true,
            "type": "pie"
           }
          ],
          "scatter": [
           {
            "fillpattern": {
             "fillmode": "overlay",
             "size": 10,
             "solidity": 0.2
            },
            "type": "scatter"
           }
          ],
          "scatter3d": [
           {
            "line": {
             "colorbar": {
              "outlinewidth": 0,
              "ticks": ""
             }
            },
            "marker": {
             "colorbar": {
              "outlinewidth": 0,
              "ticks": ""
             }
            },
            "type": "scatter3d"
           }
          ],
          "scattercarpet": [
           {
            "marker": {
             "colorbar": {
              "outlinewidth": 0,
              "ticks": ""
             }
            },
            "type": "scattercarpet"
           }
          ],
          "scattergeo": [
           {
            "marker": {
             "colorbar": {
              "outlinewidth": 0,
              "ticks": ""
             }
            },
            "type": "scattergeo"
           }
          ],
          "scattergl": [
           {
            "marker": {
             "colorbar": {
              "outlinewidth": 0,
              "ticks": ""
             }
            },
            "type": "scattergl"
           }
          ],
          "scattermap": [
           {
            "marker": {
             "colorbar": {
              "outlinewidth": 0,
              "ticks": ""
             }
            },
            "type": "scattermap"
           }
          ],
          "scattermapbox": [
           {
            "marker": {
             "colorbar": {
              "outlinewidth": 0,
              "ticks": ""
             }
            },
            "type": "scattermapbox"
           }
          ],
          "scatterpolar": [
           {
            "marker": {
             "colorbar": {
              "outlinewidth": 0,
              "ticks": ""
             }
            },
            "type": "scatterpolar"
           }
          ],
          "scatterpolargl": [
           {
            "marker": {
             "colorbar": {
              "outlinewidth": 0,
              "ticks": ""
             }
            },
            "type": "scatterpolargl"
           }
          ],
          "scatterternary": [
           {
            "marker": {
             "colorbar": {
              "outlinewidth": 0,
              "ticks": ""
             }
            },
            "type": "scatterternary"
           }
          ],
          "surface": [
           {
            "colorbar": {
             "outlinewidth": 0,
             "ticks": ""
            },
            "colorscale": [
             [
              0,
              "#0d0887"
             ],
             [
              0.1111111111111111,
              "#46039f"
             ],
             [
              0.2222222222222222,
              "#7201a8"
             ],
             [
              0.3333333333333333,
              "#9c179e"
             ],
             [
              0.4444444444444444,
              "#bd3786"
             ],
             [
              0.5555555555555556,
              "#d8576b"
             ],
             [
              0.6666666666666666,
              "#ed7953"
             ],
             [
              0.7777777777777778,
              "#fb9f3a"
             ],
             [
              0.8888888888888888,
              "#fdca26"
             ],
             [
              1,
              "#f0f921"
             ]
            ],
            "type": "surface"
           }
          ],
          "table": [
           {
            "cells": {
             "fill": {
              "color": "#EBF0F8"
             },
             "line": {
              "color": "white"
             }
            },
            "header": {
             "fill": {
              "color": "#C8D4E3"
             },
             "line": {
              "color": "white"
             }
            },
            "type": "table"
           }
          ]
         },
         "layout": {
          "annotationdefaults": {
           "arrowcolor": "#2a3f5f",
           "arrowhead": 0,
           "arrowwidth": 1
          },
          "autotypenumbers": "strict",
          "coloraxis": {
           "colorbar": {
            "outlinewidth": 0,
            "ticks": ""
           }
          },
          "colorscale": {
           "diverging": [
            [
             0,
             "#8e0152"
            ],
            [
             0.1,
             "#c51b7d"
            ],
            [
             0.2,
             "#de77ae"
            ],
            [
             0.3,
             "#f1b6da"
            ],
            [
             0.4,
             "#fde0ef"
            ],
            [
             0.5,
             "#f7f7f7"
            ],
            [
             0.6,
             "#e6f5d0"
            ],
            [
             0.7,
             "#b8e186"
            ],
            [
             0.8,
             "#7fbc41"
            ],
            [
             0.9,
             "#4d9221"
            ],
            [
             1,
             "#276419"
            ]
           ],
           "sequential": [
            [
             0,
             "#0d0887"
            ],
            [
             0.1111111111111111,
             "#46039f"
            ],
            [
             0.2222222222222222,
             "#7201a8"
            ],
            [
             0.3333333333333333,
             "#9c179e"
            ],
            [
             0.4444444444444444,
             "#bd3786"
            ],
            [
             0.5555555555555556,
             "#d8576b"
            ],
            [
             0.6666666666666666,
             "#ed7953"
            ],
            [
             0.7777777777777778,
             "#fb9f3a"
            ],
            [
             0.8888888888888888,
             "#fdca26"
            ],
            [
             1,
             "#f0f921"
            ]
           ],
           "sequentialminus": [
            [
             0,
             "#0d0887"
            ],
            [
             0.1111111111111111,
             "#46039f"
            ],
            [
             0.2222222222222222,
             "#7201a8"
            ],
            [
             0.3333333333333333,
             "#9c179e"
            ],
            [
             0.4444444444444444,
             "#bd3786"
            ],
            [
             0.5555555555555556,
             "#d8576b"
            ],
            [
             0.6666666666666666,
             "#ed7953"
            ],
            [
             0.7777777777777778,
             "#fb9f3a"
            ],
            [
             0.8888888888888888,
             "#fdca26"
            ],
            [
             1,
             "#f0f921"
            ]
           ]
          },
          "colorway": [
           "#636efa",
           "#EF553B",
           "#00cc96",
           "#ab63fa",
           "#FFA15A",
           "#19d3f3",
           "#FF6692",
           "#B6E880",
           "#FF97FF",
           "#FECB52"
          ],
          "font": {
           "color": "#2a3f5f"
          },
          "geo": {
           "bgcolor": "white",
           "lakecolor": "white",
           "landcolor": "#E5ECF6",
           "showlakes": true,
           "showland": true,
           "subunitcolor": "white"
          },
          "hoverlabel": {
           "align": "left"
          },
          "hovermode": "closest",
          "mapbox": {
           "style": "light"
          },
          "paper_bgcolor": "white",
          "plot_bgcolor": "#E5ECF6",
          "polar": {
           "angularaxis": {
            "gridcolor": "white",
            "linecolor": "white",
            "ticks": ""
           },
           "bgcolor": "#E5ECF6",
           "radialaxis": {
            "gridcolor": "white",
            "linecolor": "white",
            "ticks": ""
           }
          },
          "scene": {
           "xaxis": {
            "backgroundcolor": "#E5ECF6",
            "gridcolor": "white",
            "gridwidth": 2,
            "linecolor": "white",
            "showbackground": true,
            "ticks": "",
            "zerolinecolor": "white"
           },
           "yaxis": {
            "backgroundcolor": "#E5ECF6",
            "gridcolor": "white",
            "gridwidth": 2,
            "linecolor": "white",
            "showbackground": true,
            "ticks": "",
            "zerolinecolor": "white"
           },
           "zaxis": {
            "backgroundcolor": "#E5ECF6",
            "gridcolor": "white",
            "gridwidth": 2,
            "linecolor": "white",
            "showbackground": true,
            "ticks": "",
            "zerolinecolor": "white"
           }
          },
          "shapedefaults": {
           "line": {
            "color": "#2a3f5f"
           }
          },
          "ternary": {
           "aaxis": {
            "gridcolor": "white",
            "linecolor": "white",
            "ticks": ""
           },
           "baxis": {
            "gridcolor": "white",
            "linecolor": "white",
            "ticks": ""
           },
           "bgcolor": "#E5ECF6",
           "caxis": {
            "gridcolor": "white",
            "linecolor": "white",
            "ticks": ""
           }
          },
          "title": {
           "x": 0.05
          },
          "xaxis": {
           "automargin": true,
           "gridcolor": "white",
           "linecolor": "white",
           "ticks": "",
           "title": {
            "standoff": 15
           },
           "zerolinecolor": "white",
           "zerolinewidth": 2
          },
          "yaxis": {
           "automargin": true,
           "gridcolor": "white",
           "linecolor": "white",
           "ticks": "",
           "title": {
            "standoff": 15
           },
           "zerolinecolor": "white",
           "zerolinewidth": 2
          }
         }
        },
        "title": {
         "text": "Distribution of Institution Type by Startup Success"
        },
        "xaxis": {
         "anchor": "y",
         "categoryarray": [
          "Non-technical",
          "Public",
          "Technical",
          "Private"
         ],
         "categoryorder": "array",
         "domain": [
          0,
          1
         ],
         "tickmode": "array",
         "tickvals": [
          "Non-technical",
          "Public",
          "Technical",
          "Private"
         ],
         "title": {
          "text": "Institution Type"
         }
        },
        "yaxis": {
         "anchor": "x",
         "domain": [
          0,
          1
         ],
         "title": {
          "text": "Number of Students"
         }
        }
       }
      }
     },
     "metadata": {},
     "output_type": "display_data"
    }
   ],
   "source": [
    "sorted_institution_types = df['institution_type'].value_counts().index\n",
    "\n",
    "fig1 = px.histogram(df, \n",
    "                    x='institution_type', \n",
    "                    color='success_label',\n",
    "                    title='Distribution of Institution Type by Startup Success',\n",
    "                    labels={'institution_type': 'Institution Type', \n",
    "                            'success_label': 'Startup Outcome (0 = Fail, 1 = Success)', \n",
    "                            'count': 'Number of Students'},\n",
    "                    color_discrete_map={0: '#e56060', 1: '#8fbc8f'},\n",
    "                    category_orders={'institution_type': sorted_institution_types})  # Sorted by counts\n",
    "\n",
    "fig1.update_layout(\n",
    "    xaxis_title=\"Institution Type\",\n",
    "    yaxis_title=\"Number of Students\",\n",
    "    xaxis=dict(tickmode='array', tickvals=sorted_institution_types)\n",
    ")\n",
    "\n",
    "fig1.show()"
   ]
  },
  {
   "cell_type": "code",
   "execution_count": 16,
   "id": "34d22d9f-4478-4b86-85ff-19d24126a900",
   "metadata": {},
   "outputs": [
    {
     "data": {
      "application/vnd.plotly.v1+json": {
       "config": {
        "plotlyServerURL": "https://plot.ly"
       },
       "data": [
        {
         "alignmentgroup": "True",
         "bingroup": "x",
         "hovertemplate": "Startup Outcome (0 = Fail, 1 = Success)=1<br>Project Domain=%{x}<br>count=%{y}<extra></extra>",
         "legendgroup": "1",
         "marker": {
          "color": "#49ab81",
          "pattern": {
           "shape": ""
          }
         },
         "name": "1",
         "offsetgroup": "1",
         "orientation": "v",
         "showlegend": true,
         "type": "histogram",
         "x": [
          "AgriTech",
          "AgriTech",
          "GreenTech",
          "EdTech",
          "FinTech",
          "EdTech",
          "AgriTech",
          "FinTech",
          "HealthTech",
          "AgriTech",
          "FinTech",
          "EdTech",
          "HealthTech",
          "AgriTech",
          "AgriTech",
          "GreenTech",
          "AgriTech",
          "AgriTech",
          "HealthTech",
          "HealthTech",
          "EdTech",
          "EdTech",
          "HealthTech",
          "EdTech",
          "GreenTech",
          "HealthTech",
          "EdTech",
          "EdTech",
          "GreenTech",
          "GreenTech",
          "AgriTech",
          "GreenTech",
          "EdTech",
          "FinTech",
          "HealthTech",
          "FinTech",
          "FinTech",
          "AgriTech",
          "GreenTech",
          "EdTech",
          "EdTech",
          "AgriTech",
          "GreenTech",
          "AgriTech",
          "EdTech",
          "HealthTech",
          "GreenTech",
          "GreenTech",
          "EdTech",
          "FinTech",
          "AgriTech",
          "FinTech",
          "EdTech",
          "FinTech",
          "FinTech",
          "GreenTech",
          "FinTech",
          "FinTech",
          "EdTech",
          "GreenTech",
          "EdTech",
          "GreenTech",
          "HealthTech",
          "FinTech",
          "AgriTech",
          "HealthTech",
          "GreenTech",
          "HealthTech",
          "GreenTech",
          "AgriTech",
          "HealthTech",
          "AgriTech",
          "EdTech",
          "HealthTech",
          "GreenTech",
          "FinTech",
          "GreenTech",
          "EdTech",
          "HealthTech",
          "FinTech",
          "EdTech",
          "AgriTech",
          "HealthTech",
          "GreenTech",
          "EdTech",
          "HealthTech",
          "HealthTech",
          "HealthTech",
          "FinTech",
          "GreenTech",
          "AgriTech",
          "GreenTech",
          "AgriTech",
          "FinTech",
          "AgriTech",
          "GreenTech",
          "FinTech",
          "EdTech",
          "GreenTech",
          "FinTech",
          "FinTech",
          "HealthTech",
          "AgriTech",
          "FinTech",
          "AgriTech",
          "AgriTech",
          "EdTech",
          "HealthTech",
          "HealthTech",
          "GreenTech",
          "FinTech",
          "GreenTech",
          "HealthTech",
          "GreenTech",
          "FinTech",
          "HealthTech",
          "EdTech",
          "GreenTech",
          "FinTech",
          "FinTech",
          "FinTech",
          "GreenTech",
          "EdTech",
          "HealthTech",
          "AgriTech",
          "AgriTech",
          "FinTech",
          "HealthTech",
          "EdTech",
          "AgriTech",
          "EdTech",
          "AgriTech",
          "HealthTech",
          "FinTech",
          "GreenTech",
          "HealthTech",
          "HealthTech",
          "HealthTech",
          "FinTech",
          "HealthTech",
          "HealthTech",
          "EdTech",
          "GreenTech",
          "AgriTech",
          "GreenTech",
          "GreenTech",
          "FinTech",
          "EdTech",
          "FinTech",
          "AgriTech",
          "AgriTech",
          "AgriTech",
          "HealthTech",
          "EdTech",
          "FinTech",
          "AgriTech",
          "HealthTech",
          "HealthTech",
          "AgriTech",
          "FinTech",
          "AgriTech",
          "FinTech",
          "HealthTech",
          "AgriTech",
          "AgriTech",
          "AgriTech",
          "EdTech",
          "AgriTech",
          "AgriTech",
          "FinTech",
          "HealthTech",
          "GreenTech",
          "GreenTech",
          "AgriTech",
          "AgriTech",
          "GreenTech",
          "EdTech",
          "FinTech",
          "HealthTech",
          "GreenTech",
          "GreenTech",
          "EdTech",
          "GreenTech",
          "HealthTech",
          "GreenTech",
          "EdTech",
          "FinTech",
          "HealthTech",
          "HealthTech",
          "EdTech",
          "FinTech",
          "EdTech",
          "AgriTech",
          "GreenTech",
          "FinTech",
          "HealthTech",
          "FinTech",
          "EdTech",
          "EdTech",
          "HealthTech",
          "FinTech",
          "AgriTech",
          "EdTech",
          "FinTech",
          "HealthTech",
          "EdTech",
          "GreenTech",
          "AgriTech",
          "FinTech",
          "EdTech",
          "HealthTech",
          "HealthTech",
          "HealthTech",
          "HealthTech",
          "HealthTech",
          "FinTech",
          "AgriTech",
          "EdTech",
          "HealthTech",
          "EdTech",
          "HealthTech",
          "EdTech",
          "EdTech",
          "AgriTech",
          "AgriTech",
          "GreenTech",
          "GreenTech",
          "HealthTech",
          "EdTech",
          "HealthTech",
          "EdTech",
          "FinTech",
          "GreenTech",
          "FinTech",
          "AgriTech",
          "AgriTech",
          "HealthTech",
          "AgriTech",
          "EdTech",
          "AgriTech",
          "EdTech",
          "HealthTech",
          "AgriTech",
          "AgriTech",
          "HealthTech",
          "GreenTech",
          "AgriTech",
          "HealthTech",
          "FinTech",
          "FinTech",
          "HealthTech",
          "EdTech",
          "GreenTech",
          "AgriTech",
          "AgriTech",
          "EdTech",
          "FinTech",
          "EdTech",
          "EdTech",
          "HealthTech",
          "FinTech",
          "AgriTech",
          "HealthTech",
          "GreenTech",
          "GreenTech",
          "HealthTech",
          "GreenTech",
          "EdTech",
          "GreenTech",
          "AgriTech",
          "AgriTech",
          "HealthTech",
          "FinTech",
          "HealthTech",
          "HealthTech",
          "EdTech",
          "HealthTech",
          "HealthTech",
          "GreenTech",
          "GreenTech",
          "HealthTech",
          "GreenTech",
          "EdTech",
          "GreenTech",
          "GreenTech",
          "GreenTech",
          "HealthTech",
          "GreenTech",
          "GreenTech",
          "FinTech",
          "EdTech",
          "HealthTech",
          "EdTech",
          "EdTech",
          "FinTech",
          "EdTech",
          "AgriTech",
          "AgriTech",
          "AgriTech",
          "GreenTech",
          "AgriTech",
          "EdTech",
          "EdTech",
          "EdTech",
          "EdTech",
          "GreenTech",
          "GreenTech",
          "HealthTech",
          "HealthTech",
          "EdTech",
          "GreenTech",
          "AgriTech",
          "HealthTech",
          "AgriTech",
          "GreenTech",
          "GreenTech",
          "AgriTech",
          "FinTech",
          "HealthTech",
          "FinTech",
          "GreenTech",
          "HealthTech",
          "AgriTech",
          "AgriTech",
          "HealthTech",
          "GreenTech",
          "GreenTech",
          "GreenTech",
          "EdTech",
          "FinTech",
          "HealthTech",
          "EdTech",
          "GreenTech",
          "FinTech",
          "GreenTech",
          "AgriTech",
          "GreenTech",
          "AgriTech",
          "AgriTech",
          "AgriTech",
          "AgriTech",
          "EdTech",
          "FinTech",
          "FinTech",
          "HealthTech",
          "AgriTech",
          "AgriTech",
          "FinTech",
          "AgriTech",
          "FinTech",
          "EdTech",
          "FinTech",
          "EdTech",
          "EdTech",
          "FinTech",
          "EdTech",
          "GreenTech",
          "AgriTech",
          "HealthTech",
          "FinTech",
          "HealthTech",
          "EdTech",
          "EdTech",
          "HealthTech",
          "HealthTech",
          "GreenTech",
          "FinTech",
          "GreenTech",
          "EdTech",
          "GreenTech",
          "FinTech",
          "FinTech",
          "HealthTech",
          "GreenTech",
          "GreenTech",
          "FinTech",
          "EdTech",
          "HealthTech",
          "AgriTech",
          "HealthTech",
          "FinTech",
          "AgriTech",
          "GreenTech",
          "GreenTech",
          "AgriTech",
          "FinTech",
          "HealthTech",
          "EdTech",
          "AgriTech",
          "GreenTech",
          "GreenTech",
          "FinTech",
          "GreenTech",
          "EdTech",
          "AgriTech",
          "HealthTech",
          "FinTech",
          "GreenTech",
          "AgriTech",
          "AgriTech",
          "GreenTech",
          "FinTech",
          "GreenTech",
          "EdTech",
          "AgriTech",
          "GreenTech",
          "HealthTech",
          "HealthTech",
          "HealthTech",
          "FinTech",
          "HealthTech",
          "FinTech",
          "EdTech",
          "EdTech",
          "EdTech",
          "AgriTech",
          "FinTech",
          "AgriTech",
          "GreenTech",
          "GreenTech",
          "EdTech",
          "HealthTech",
          "FinTech",
          "AgriTech",
          "GreenTech",
          "FinTech",
          "GreenTech",
          "FinTech",
          "EdTech",
          "HealthTech",
          "GreenTech",
          "HealthTech",
          "GreenTech",
          "EdTech",
          "EdTech",
          "EdTech",
          "FinTech",
          "EdTech",
          "EdTech",
          "FinTech",
          "GreenTech",
          "GreenTech",
          "EdTech",
          "EdTech",
          "FinTech",
          "EdTech",
          "EdTech",
          "GreenTech",
          "HealthTech",
          "EdTech",
          "AgriTech",
          "HealthTech",
          "GreenTech",
          "HealthTech",
          "EdTech",
          "GreenTech",
          "AgriTech",
          "AgriTech",
          "FinTech",
          "AgriTech",
          "HealthTech",
          "HealthTech",
          "GreenTech",
          "FinTech",
          "HealthTech",
          "AgriTech",
          "FinTech",
          "AgriTech",
          "GreenTech",
          "HealthTech",
          "AgriTech",
          "AgriTech",
          "HealthTech",
          "GreenTech",
          "GreenTech",
          "HealthTech",
          "HealthTech",
          "FinTech",
          "FinTech",
          "EdTech",
          "EdTech",
          "FinTech",
          "FinTech",
          "HealthTech",
          "EdTech",
          "AgriTech",
          "EdTech",
          "AgriTech",
          "FinTech",
          "HealthTech",
          "GreenTech",
          "EdTech",
          "EdTech",
          "GreenTech",
          "GreenTech",
          "GreenTech",
          "FinTech",
          "HealthTech",
          "FinTech",
          "GreenTech",
          "FinTech",
          "HealthTech",
          "AgriTech",
          "HealthTech",
          "HealthTech",
          "AgriTech",
          "HealthTech",
          "AgriTech",
          "HealthTech",
          "EdTech",
          "GreenTech",
          "HealthTech",
          "FinTech",
          "HealthTech",
          "AgriTech",
          "FinTech",
          "FinTech",
          "FinTech",
          "HealthTech",
          "AgriTech",
          "EdTech",
          "GreenTech",
          "FinTech",
          "AgriTech",
          "EdTech",
          "AgriTech",
          "FinTech",
          "HealthTech",
          "FinTech",
          "FinTech",
          "EdTech",
          "EdTech",
          "EdTech",
          "AgriTech",
          "AgriTech",
          "GreenTech",
          "AgriTech",
          "AgriTech",
          "HealthTech",
          "EdTech",
          "FinTech",
          "AgriTech",
          "GreenTech",
          "HealthTech",
          "HealthTech",
          "GreenTech",
          "HealthTech",
          "FinTech",
          "HealthTech",
          "HealthTech",
          "EdTech",
          "HealthTech",
          "AgriTech",
          "EdTech",
          "FinTech",
          "EdTech",
          "HealthTech",
          "GreenTech",
          "EdTech",
          "GreenTech",
          "GreenTech",
          "GreenTech",
          "GreenTech",
          "AgriTech",
          "EdTech",
          "HealthTech",
          "FinTech",
          "AgriTech",
          "HealthTech",
          "EdTech",
          "HealthTech",
          "GreenTech",
          "AgriTech",
          "EdTech",
          "HealthTech",
          "GreenTech",
          "HealthTech",
          "AgriTech",
          "GreenTech",
          "HealthTech",
          "EdTech",
          "EdTech",
          "FinTech",
          "AgriTech",
          "FinTech",
          "FinTech",
          "EdTech",
          "GreenTech",
          "AgriTech",
          "FinTech",
          "GreenTech",
          "EdTech",
          "AgriTech",
          "FinTech",
          "FinTech",
          "EdTech",
          "GreenTech",
          "EdTech",
          "HealthTech",
          "GreenTech",
          "AgriTech",
          "HealthTech",
          "AgriTech",
          "EdTech",
          "EdTech",
          "GreenTech",
          "GreenTech",
          "AgriTech",
          "GreenTech",
          "GreenTech",
          "EdTech",
          "EdTech",
          "EdTech",
          "HealthTech",
          "GreenTech",
          "AgriTech",
          "AgriTech",
          "HealthTech",
          "AgriTech",
          "FinTech",
          "AgriTech",
          "EdTech",
          "FinTech",
          "HealthTech",
          "HealthTech",
          "AgriTech",
          "FinTech",
          "EdTech",
          "EdTech",
          "EdTech",
          "AgriTech",
          "EdTech",
          "AgriTech",
          "GreenTech",
          "HealthTech",
          "EdTech",
          "HealthTech",
          "AgriTech",
          "HealthTech",
          "GreenTech",
          "FinTech",
          "EdTech",
          "AgriTech",
          "FinTech",
          "FinTech",
          "GreenTech",
          "EdTech",
          "FinTech",
          "GreenTech",
          "GreenTech",
          "GreenTech",
          "GreenTech",
          "AgriTech",
          "AgriTech",
          "FinTech",
          "EdTech",
          "EdTech",
          "GreenTech",
          "EdTech",
          "GreenTech",
          "GreenTech",
          "FinTech",
          "FinTech",
          "FinTech",
          "FinTech",
          "AgriTech",
          "FinTech",
          "FinTech",
          "HealthTech",
          "EdTech",
          "GreenTech",
          "EdTech",
          "EdTech",
          "HealthTech",
          "FinTech",
          "EdTech",
          "GreenTech",
          "AgriTech",
          "GreenTech",
          "EdTech",
          "EdTech",
          "HealthTech",
          "GreenTech",
          "FinTech",
          "HealthTech",
          "AgriTech",
          "FinTech",
          "EdTech",
          "FinTech",
          "AgriTech",
          "GreenTech",
          "AgriTech",
          "HealthTech",
          "FinTech",
          "FinTech",
          "GreenTech",
          "EdTech",
          "EdTech",
          "GreenTech",
          "HealthTech",
          "AgriTech",
          "EdTech",
          "EdTech",
          "HealthTech",
          "EdTech",
          "EdTech",
          "EdTech",
          "FinTech",
          "GreenTech",
          "FinTech",
          "FinTech",
          "GreenTech",
          "GreenTech",
          "EdTech",
          "EdTech",
          "EdTech",
          "GreenTech",
          "HealthTech",
          "HealthTech",
          "GreenTech",
          "FinTech",
          "AgriTech",
          "AgriTech",
          "AgriTech",
          "FinTech",
          "AgriTech",
          "GreenTech",
          "GreenTech",
          "HealthTech",
          "HealthTech",
          "GreenTech",
          "FinTech",
          "HealthTech",
          "FinTech",
          "GreenTech",
          "GreenTech",
          "AgriTech",
          "HealthTech",
          "FinTech",
          "AgriTech",
          "GreenTech",
          "FinTech",
          "AgriTech",
          "HealthTech",
          "EdTech",
          "GreenTech",
          "HealthTech",
          "EdTech",
          "GreenTech",
          "GreenTech",
          "AgriTech",
          "FinTech",
          "FinTech",
          "AgriTech",
          "AgriTech",
          "GreenTech",
          "GreenTech",
          "FinTech",
          "HealthTech",
          "FinTech",
          "FinTech",
          "GreenTech",
          "AgriTech",
          "EdTech",
          "EdTech",
          "AgriTech",
          "AgriTech",
          "GreenTech",
          "FinTech",
          "AgriTech",
          "AgriTech",
          "FinTech",
          "AgriTech",
          "AgriTech",
          "FinTech",
          "HealthTech",
          "EdTech",
          "HealthTech",
          "AgriTech",
          "FinTech",
          "FinTech",
          "EdTech",
          "GreenTech",
          "GreenTech",
          "HealthTech",
          "GreenTech",
          "AgriTech",
          "HealthTech",
          "FinTech",
          "GreenTech",
          "HealthTech",
          "EdTech",
          "HealthTech",
          "FinTech",
          "AgriTech",
          "AgriTech",
          "GreenTech",
          "FinTech",
          "EdTech",
          "GreenTech",
          "EdTech",
          "AgriTech",
          "FinTech",
          "HealthTech",
          "GreenTech",
          "EdTech",
          "FinTech",
          "EdTech",
          "FinTech",
          "EdTech",
          "AgriTech",
          "FinTech",
          "EdTech",
          "FinTech",
          "AgriTech",
          "AgriTech",
          "FinTech",
          "FinTech",
          "GreenTech",
          "AgriTech",
          "AgriTech",
          "EdTech",
          "HealthTech",
          "FinTech",
          "FinTech",
          "EdTech",
          "HealthTech",
          "EdTech",
          "GreenTech",
          "GreenTech",
          "EdTech",
          "GreenTech",
          "GreenTech",
          "HealthTech",
          "EdTech",
          "GreenTech",
          "EdTech",
          "GreenTech",
          "EdTech",
          "HealthTech",
          "FinTech",
          "EdTech",
          "AgriTech",
          "FinTech",
          "FinTech",
          "HealthTech",
          "AgriTech",
          "FinTech",
          "EdTech",
          "GreenTech",
          "EdTech",
          "GreenTech",
          "AgriTech",
          "GreenTech",
          "AgriTech",
          "AgriTech",
          "FinTech",
          "GreenTech",
          "FinTech",
          "FinTech",
          "AgriTech",
          "FinTech",
          "HealthTech",
          "EdTech",
          "FinTech",
          "HealthTech",
          "HealthTech",
          "FinTech",
          "EdTech",
          "HealthTech",
          "FinTech",
          "HealthTech",
          "AgriTech",
          "FinTech",
          "AgriTech",
          "FinTech",
          "FinTech",
          "AgriTech",
          "FinTech",
          "FinTech",
          "HealthTech"
         ],
         "xaxis": "x",
         "yaxis": "y"
        },
        {
         "alignmentgroup": "True",
         "bingroup": "x",
         "hovertemplate": "Startup Outcome (0 = Fail, 1 = Success)=0<br>Project Domain=%{x}<br>count=%{y}<extra></extra>",
         "legendgroup": "0",
         "marker": {
          "color": "lightcoral",
          "pattern": {
           "shape": ""
          }
         },
         "name": "0",
         "offsetgroup": "0",
         "orientation": "v",
         "showlegend": true,
         "type": "histogram",
         "x": [
          "FinTech",
          "HealthTech",
          "GreenTech",
          "EdTech",
          "FinTech",
          "GreenTech",
          "FinTech",
          "FinTech",
          "EdTech",
          "HealthTech",
          "GreenTech",
          "FinTech",
          "EdTech",
          "HealthTech",
          "EdTech",
          "EdTech",
          "HealthTech",
          "EdTech",
          "GreenTech",
          "AgriTech",
          "GreenTech",
          "FinTech",
          "FinTech",
          "HealthTech",
          "FinTech",
          "FinTech",
          "HealthTech",
          "FinTech",
          "FinTech",
          "HealthTech",
          "AgriTech",
          "EdTech",
          "AgriTech",
          "EdTech",
          "GreenTech",
          "GreenTech",
          "GreenTech",
          "EdTech",
          "GreenTech",
          "AgriTech",
          "FinTech",
          "AgriTech",
          "FinTech",
          "HealthTech",
          "HealthTech",
          "AgriTech",
          "FinTech",
          "AgriTech",
          "FinTech",
          "AgriTech",
          "EdTech",
          "HealthTech",
          "HealthTech",
          "AgriTech",
          "EdTech",
          "FinTech",
          "FinTech",
          "GreenTech",
          "AgriTech",
          "AgriTech",
          "EdTech",
          "EdTech",
          "HealthTech",
          "AgriTech",
          "HealthTech",
          "GreenTech",
          "HealthTech",
          "GreenTech",
          "EdTech",
          "AgriTech",
          "FinTech",
          "EdTech",
          "AgriTech",
          "AgriTech",
          "GreenTech",
          "AgriTech",
          "GreenTech",
          "GreenTech",
          "EdTech",
          "FinTech",
          "HealthTech",
          "EdTech",
          "AgriTech",
          "HealthTech",
          "AgriTech",
          "FinTech",
          "FinTech",
          "AgriTech",
          "EdTech",
          "FinTech",
          "GreenTech",
          "AgriTech",
          "FinTech",
          "EdTech",
          "HealthTech",
          "EdTech",
          "EdTech",
          "GreenTech",
          "FinTech",
          "AgriTech",
          "HealthTech",
          "EdTech",
          "GreenTech",
          "GreenTech",
          "AgriTech",
          "EdTech",
          "AgriTech",
          "GreenTech",
          "FinTech",
          "EdTech",
          "EdTech",
          "GreenTech",
          "GreenTech",
          "HealthTech",
          "FinTech",
          "EdTech",
          "GreenTech",
          "HealthTech",
          "AgriTech",
          "AgriTech",
          "GreenTech",
          "FinTech",
          "EdTech",
          "GreenTech",
          "EdTech",
          "FinTech",
          "AgriTech",
          "GreenTech",
          "GreenTech",
          "HealthTech",
          "HealthTech",
          "GreenTech",
          "GreenTech",
          "AgriTech",
          "AgriTech",
          "FinTech",
          "AgriTech",
          "FinTech",
          "HealthTech",
          "GreenTech",
          "EdTech",
          "GreenTech",
          "HealthTech",
          "AgriTech",
          "GreenTech",
          "GreenTech",
          "AgriTech",
          "EdTech",
          "HealthTech",
          "HealthTech",
          "EdTech",
          "HealthTech",
          "FinTech",
          "HealthTech",
          "AgriTech",
          "GreenTech",
          "AgriTech",
          "HealthTech",
          "EdTech",
          "AgriTech",
          "HealthTech",
          "HealthTech",
          "EdTech",
          "HealthTech",
          "HealthTech",
          "FinTech",
          "FinTech",
          "GreenTech",
          "AgriTech",
          "HealthTech",
          "HealthTech",
          "GreenTech",
          "HealthTech",
          "HealthTech",
          "AgriTech",
          "FinTech",
          "EdTech",
          "HealthTech",
          "FinTech",
          "EdTech",
          "GreenTech",
          "GreenTech",
          "AgriTech",
          "HealthTech",
          "HealthTech",
          "AgriTech",
          "GreenTech",
          "GreenTech",
          "AgriTech",
          "GreenTech",
          "AgriTech",
          "AgriTech",
          "EdTech",
          "HealthTech",
          "FinTech",
          "FinTech",
          "EdTech",
          "AgriTech",
          "GreenTech",
          "EdTech",
          "FinTech",
          "FinTech",
          "HealthTech",
          "HealthTech",
          "FinTech",
          "GreenTech",
          "GreenTech",
          "HealthTech",
          "HealthTech",
          "FinTech",
          "HealthTech",
          "EdTech",
          "HealthTech",
          "AgriTech",
          "GreenTech",
          "FinTech",
          "AgriTech",
          "GreenTech",
          "FinTech",
          "EdTech",
          "EdTech",
          "HealthTech",
          "HealthTech",
          "EdTech",
          "EdTech",
          "HealthTech",
          "EdTech",
          "FinTech",
          "EdTech",
          "HealthTech",
          "AgriTech",
          "HealthTech",
          "FinTech",
          "AgriTech",
          "AgriTech",
          "EdTech",
          "EdTech",
          "AgriTech",
          "EdTech",
          "AgriTech",
          "AgriTech",
          "FinTech",
          "AgriTech",
          "FinTech",
          "AgriTech",
          "GreenTech",
          "EdTech",
          "AgriTech",
          "AgriTech",
          "HealthTech",
          "HealthTech",
          "AgriTech",
          "FinTech",
          "GreenTech",
          "HealthTech",
          "AgriTech",
          "EdTech",
          "GreenTech",
          "AgriTech",
          "AgriTech",
          "GreenTech",
          "FinTech",
          "GreenTech",
          "FinTech",
          "HealthTech",
          "FinTech",
          "GreenTech",
          "EdTech",
          "AgriTech",
          "FinTech",
          "HealthTech",
          "FinTech",
          "FinTech",
          "AgriTech",
          "AgriTech",
          "AgriTech",
          "FinTech",
          "AgriTech",
          "HealthTech",
          "HealthTech",
          "EdTech",
          "GreenTech",
          "HealthTech",
          "HealthTech",
          "HealthTech",
          "GreenTech",
          "EdTech",
          "GreenTech",
          "EdTech",
          "AgriTech",
          "EdTech",
          "EdTech",
          "EdTech",
          "FinTech",
          "AgriTech",
          "GreenTech",
          "AgriTech",
          "EdTech",
          "HealthTech",
          "HealthTech",
          "GreenTech",
          "HealthTech",
          "EdTech",
          "AgriTech",
          "GreenTech",
          "EdTech",
          "FinTech",
          "FinTech",
          "EdTech",
          "AgriTech",
          "GreenTech",
          "FinTech",
          "EdTech",
          "AgriTech",
          "GreenTech",
          "FinTech",
          "GreenTech",
          "AgriTech",
          "FinTech",
          "HealthTech",
          "EdTech",
          "HealthTech",
          "GreenTech",
          "EdTech",
          "FinTech",
          "AgriTech",
          "FinTech",
          "FinTech",
          "GreenTech",
          "FinTech",
          "FinTech",
          "FinTech",
          "AgriTech",
          "EdTech",
          "HealthTech",
          "GreenTech",
          "GreenTech",
          "EdTech",
          "GreenTech",
          "GreenTech",
          "FinTech",
          "EdTech",
          "EdTech",
          "GreenTech",
          "HealthTech",
          "AgriTech",
          "AgriTech",
          "HealthTech",
          "FinTech",
          "AgriTech",
          "HealthTech",
          "HealthTech",
          "GreenTech",
          "FinTech",
          "EdTech",
          "HealthTech",
          "AgriTech",
          "EdTech",
          "AgriTech",
          "AgriTech",
          "FinTech",
          "HealthTech",
          "EdTech",
          "FinTech",
          "FinTech",
          "HealthTech",
          "HealthTech",
          "HealthTech",
          "AgriTech",
          "HealthTech",
          "GreenTech",
          "EdTech",
          "AgriTech",
          "GreenTech",
          "HealthTech",
          "GreenTech",
          "GreenTech",
          "HealthTech",
          "GreenTech",
          "EdTech",
          "GreenTech",
          "GreenTech",
          "EdTech",
          "AgriTech",
          "HealthTech",
          "HealthTech",
          "HealthTech",
          "HealthTech",
          "AgriTech",
          "GreenTech",
          "EdTech",
          "HealthTech",
          "HealthTech",
          "HealthTech",
          "FinTech",
          "AgriTech",
          "AgriTech",
          "EdTech",
          "HealthTech",
          "AgriTech",
          "AgriTech",
          "HealthTech",
          "EdTech",
          "AgriTech",
          "FinTech",
          "FinTech",
          "FinTech",
          "HealthTech",
          "HealthTech",
          "GreenTech",
          "EdTech",
          "GreenTech",
          "EdTech",
          "AgriTech",
          "AgriTech",
          "AgriTech",
          "FinTech",
          "AgriTech",
          "FinTech",
          "FinTech",
          "AgriTech",
          "EdTech",
          "HealthTech",
          "HealthTech",
          "EdTech",
          "GreenTech",
          "FinTech",
          "HealthTech",
          "EdTech",
          "EdTech",
          "GreenTech",
          "GreenTech",
          "EdTech",
          "FinTech",
          "HealthTech",
          "GreenTech",
          "GreenTech",
          "HealthTech",
          "FinTech",
          "GreenTech",
          "HealthTech",
          "AgriTech",
          "GreenTech",
          "EdTech",
          "GreenTech",
          "GreenTech",
          "GreenTech",
          "AgriTech",
          "GreenTech",
          "AgriTech",
          "EdTech",
          "EdTech",
          "FinTech",
          "AgriTech",
          "EdTech",
          "EdTech",
          "FinTech",
          "AgriTech",
          "EdTech",
          "HealthTech",
          "AgriTech",
          "AgriTech",
          "GreenTech",
          "AgriTech",
          "FinTech",
          "EdTech",
          "GreenTech",
          "FinTech",
          "EdTech",
          "GreenTech",
          "FinTech",
          "FinTech",
          "HealthTech",
          "GreenTech",
          "GreenTech",
          "AgriTech",
          "GreenTech",
          "GreenTech",
          "EdTech",
          "EdTech",
          "AgriTech",
          "GreenTech",
          "AgriTech",
          "FinTech",
          "AgriTech",
          "GreenTech",
          "AgriTech",
          "GreenTech",
          "EdTech",
          "GreenTech",
          "AgriTech",
          "AgriTech",
          "GreenTech",
          "HealthTech",
          "AgriTech",
          "FinTech",
          "AgriTech",
          "AgriTech",
          "AgriTech",
          "GreenTech",
          "AgriTech",
          "EdTech",
          "FinTech",
          "AgriTech",
          "AgriTech",
          "GreenTech",
          "EdTech",
          "AgriTech",
          "HealthTech",
          "GreenTech",
          "AgriTech",
          "AgriTech",
          "EdTech",
          "GreenTech",
          "AgriTech",
          "AgriTech",
          "EdTech",
          "FinTech",
          "GreenTech",
          "EdTech",
          "FinTech",
          "HealthTech",
          "EdTech",
          "FinTech",
          "HealthTech",
          "AgriTech",
          "AgriTech",
          "AgriTech",
          "EdTech",
          "GreenTech",
          "FinTech",
          "AgriTech",
          "HealthTech",
          "EdTech",
          "AgriTech",
          "HealthTech",
          "GreenTech",
          "FinTech",
          "HealthTech",
          "AgriTech",
          "FinTech",
          "FinTech",
          "EdTech",
          "GreenTech",
          "EdTech",
          "EdTech",
          "AgriTech",
          "FinTech",
          "FinTech",
          "EdTech",
          "HealthTech",
          "FinTech",
          "AgriTech",
          "AgriTech",
          "AgriTech",
          "GreenTech",
          "HealthTech",
          "AgriTech",
          "AgriTech",
          "GreenTech",
          "HealthTech",
          "GreenTech",
          "FinTech",
          "FinTech",
          "FinTech",
          "HealthTech",
          "EdTech",
          "AgriTech",
          "AgriTech",
          "FinTech",
          "EdTech",
          "AgriTech",
          "EdTech",
          "FinTech",
          "GreenTech",
          "FinTech",
          "AgriTech",
          "GreenTech",
          "HealthTech",
          "FinTech",
          "AgriTech",
          "GreenTech",
          "FinTech",
          "HealthTech",
          "FinTech",
          "GreenTech",
          "FinTech",
          "FinTech",
          "EdTech",
          "AgriTech",
          "GreenTech",
          "AgriTech",
          "FinTech",
          "FinTech",
          "HealthTech",
          "HealthTech",
          "EdTech",
          "HealthTech",
          "EdTech",
          "GreenTech",
          "HealthTech",
          "FinTech",
          "EdTech",
          "HealthTech",
          "FinTech",
          "AgriTech",
          "GreenTech",
          "EdTech",
          "HealthTech",
          "FinTech",
          "FinTech",
          "FinTech",
          "HealthTech",
          "EdTech",
          "GreenTech",
          "GreenTech",
          "HealthTech",
          "GreenTech",
          "AgriTech",
          "HealthTech",
          "FinTech",
          "EdTech",
          "FinTech",
          "GreenTech",
          "AgriTech",
          "FinTech",
          "GreenTech",
          "EdTech",
          "GreenTech",
          "EdTech",
          "AgriTech",
          "FinTech",
          "AgriTech",
          "FinTech",
          "GreenTech",
          "EdTech",
          "GreenTech",
          "GreenTech",
          "HealthTech",
          "GreenTech",
          "HealthTech",
          "FinTech",
          "HealthTech",
          "GreenTech",
          "HealthTech",
          "EdTech",
          "GreenTech",
          "AgriTech",
          "GreenTech",
          "GreenTech",
          "HealthTech",
          "HealthTech",
          "EdTech",
          "EdTech",
          "GreenTech",
          "AgriTech",
          "GreenTech",
          "HealthTech",
          "AgriTech",
          "EdTech",
          "FinTech",
          "FinTech",
          "HealthTech",
          "HealthTech",
          "HealthTech",
          "FinTech",
          "AgriTech",
          "EdTech",
          "FinTech",
          "HealthTech",
          "GreenTech",
          "HealthTech",
          "FinTech",
          "AgriTech",
          "EdTech",
          "AgriTech",
          "AgriTech",
          "HealthTech",
          "EdTech",
          "GreenTech",
          "GreenTech",
          "GreenTech",
          "GreenTech",
          "AgriTech",
          "HealthTech",
          "HealthTech",
          "AgriTech",
          "AgriTech",
          "AgriTech",
          "GreenTech",
          "AgriTech",
          "EdTech",
          "AgriTech",
          "AgriTech",
          "EdTech",
          "GreenTech",
          "AgriTech",
          "EdTech",
          "FinTech",
          "EdTech",
          "HealthTech",
          "HealthTech",
          "FinTech",
          "FinTech",
          "FinTech",
          "AgriTech",
          "EdTech",
          "EdTech",
          "HealthTech",
          "EdTech",
          "FinTech",
          "FinTech",
          "AgriTech",
          "HealthTech",
          "GreenTech",
          "HealthTech",
          "EdTech",
          "AgriTech",
          "EdTech",
          "HealthTech",
          "FinTech",
          "EdTech",
          "AgriTech",
          "FinTech",
          "HealthTech",
          "GreenTech",
          "FinTech",
          "EdTech",
          "EdTech",
          "FinTech",
          "FinTech",
          "HealthTech",
          "HealthTech",
          "EdTech",
          "EdTech",
          "FinTech",
          "FinTech",
          "GreenTech",
          "FinTech",
          "GreenTech",
          "EdTech",
          "EdTech",
          "GreenTech",
          "GreenTech",
          "FinTech",
          "FinTech",
          "AgriTech",
          "GreenTech",
          "AgriTech",
          "AgriTech",
          "EdTech",
          "HealthTech",
          "FinTech",
          "AgriTech",
          "GreenTech",
          "GreenTech",
          "AgriTech",
          "GreenTech",
          "HealthTech",
          "FinTech",
          "AgriTech",
          "AgriTech",
          "FinTech",
          "FinTech",
          "EdTech",
          "GreenTech",
          "GreenTech",
          "GreenTech",
          "FinTech",
          "EdTech",
          "GreenTech",
          "EdTech",
          "FinTech",
          "FinTech",
          "HealthTech",
          "HealthTech",
          "HealthTech",
          "HealthTech",
          "EdTech",
          "EdTech",
          "GreenTech",
          "HealthTech",
          "GreenTech",
          "HealthTech",
          "HealthTech",
          "GreenTech",
          "HealthTech",
          "GreenTech",
          "AgriTech",
          "GreenTech",
          "AgriTech",
          "GreenTech",
          "GreenTech",
          "FinTech",
          "EdTech",
          "HealthTech",
          "EdTech",
          "EdTech",
          "GreenTech",
          "FinTech",
          "AgriTech",
          "EdTech",
          "FinTech",
          "HealthTech",
          "HealthTech",
          "GreenTech",
          "AgriTech",
          "FinTech",
          "AgriTech",
          "HealthTech",
          "AgriTech",
          "AgriTech",
          "AgriTech",
          "FinTech",
          "GreenTech",
          "HealthTech",
          "EdTech",
          "HealthTech",
          "AgriTech",
          "GreenTech",
          "FinTech",
          "GreenTech",
          "FinTech",
          "AgriTech",
          "AgriTech",
          "EdTech",
          "FinTech",
          "EdTech",
          "GreenTech",
          "EdTech",
          "GreenTech",
          "FinTech",
          "EdTech",
          "GreenTech",
          "FinTech",
          "FinTech",
          "GreenTech",
          "EdTech",
          "EdTech",
          "FinTech",
          "AgriTech",
          "AgriTech",
          "EdTech",
          "HealthTech",
          "FinTech",
          "FinTech",
          "HealthTech",
          "AgriTech",
          "GreenTech",
          "HealthTech",
          "AgriTech",
          "GreenTech",
          "AgriTech",
          "HealthTech",
          "FinTech",
          "HealthTech",
          "EdTech",
          "HealthTech",
          "AgriTech",
          "EdTech",
          "GreenTech",
          "GreenTech",
          "HealthTech",
          "FinTech",
          "EdTech",
          "GreenTech",
          "HealthTech",
          "HealthTech",
          "HealthTech",
          "HealthTech",
          "FinTech",
          "EdTech",
          "AgriTech",
          "AgriTech",
          "GreenTech",
          "GreenTech",
          "EdTech",
          "FinTech",
          "HealthTech",
          "EdTech",
          "AgriTech",
          "AgriTech",
          "AgriTech",
          "EdTech",
          "GreenTech",
          "AgriTech",
          "EdTech",
          "FinTech",
          "AgriTech",
          "EdTech",
          "FinTech",
          "FinTech",
          "EdTech",
          "AgriTech",
          "AgriTech",
          "AgriTech",
          "HealthTech",
          "GreenTech",
          "HealthTech",
          "FinTech",
          "GreenTech",
          "GreenTech",
          "FinTech",
          "FinTech",
          "EdTech",
          "FinTech",
          "FinTech",
          "GreenTech",
          "GreenTech",
          "FinTech",
          "FinTech",
          "AgriTech",
          "GreenTech",
          "EdTech",
          "GreenTech",
          "GreenTech",
          "FinTech",
          "GreenTech",
          "HealthTech",
          "FinTech",
          "GreenTech",
          "FinTech",
          "AgriTech",
          "AgriTech",
          "HealthTech",
          "AgriTech",
          "HealthTech",
          "FinTech",
          "EdTech",
          "GreenTech",
          "FinTech",
          "AgriTech",
          "EdTech",
          "FinTech",
          "GreenTech",
          "FinTech",
          "GreenTech",
          "EdTech",
          "AgriTech",
          "AgriTech",
          "HealthTech",
          "GreenTech",
          "EdTech",
          "AgriTech",
          "FinTech",
          "EdTech",
          "FinTech",
          "AgriTech",
          "HealthTech",
          "AgriTech",
          "GreenTech",
          "EdTech",
          "EdTech",
          "FinTech",
          "HealthTech",
          "FinTech",
          "HealthTech",
          "GreenTech",
          "EdTech",
          "EdTech",
          "FinTech",
          "AgriTech",
          "EdTech",
          "EdTech",
          "AgriTech",
          "AgriTech",
          "FinTech",
          "AgriTech",
          "EdTech",
          "AgriTech",
          "EdTech",
          "HealthTech",
          "EdTech",
          "FinTech",
          "HealthTech",
          "FinTech",
          "HealthTech",
          "HealthTech",
          "EdTech",
          "GreenTech",
          "GreenTech",
          "FinTech",
          "EdTech",
          "AgriTech",
          "HealthTech",
          "EdTech",
          "HealthTech",
          "FinTech",
          "FinTech",
          "EdTech",
          "HealthTech",
          "HealthTech",
          "EdTech",
          "FinTech",
          "FinTech",
          "HealthTech",
          "AgriTech",
          "FinTech",
          "FinTech",
          "AgriTech",
          "HealthTech",
          "EdTech",
          "GreenTech",
          "GreenTech",
          "EdTech",
          "FinTech",
          "FinTech",
          "FinTech",
          "GreenTech",
          "FinTech",
          "FinTech",
          "EdTech",
          "GreenTech",
          "GreenTech",
          "GreenTech",
          "FinTech",
          "HealthTech",
          "FinTech",
          "FinTech",
          "EdTech",
          "GreenTech",
          "AgriTech",
          "AgriTech",
          "AgriTech",
          "GreenTech",
          "AgriTech",
          "HealthTech",
          "FinTech",
          "AgriTech",
          "GreenTech",
          "AgriTech",
          "AgriTech",
          "GreenTech",
          "HealthTech",
          "HealthTech",
          "EdTech",
          "GreenTech",
          "FinTech",
          "HealthTech",
          "FinTech",
          "AgriTech",
          "EdTech",
          "AgriTech",
          "HealthTech",
          "GreenTech",
          "FinTech",
          "AgriTech",
          "HealthTech",
          "AgriTech",
          "FinTech",
          "AgriTech",
          "FinTech",
          "GreenTech",
          "FinTech",
          "HealthTech",
          "FinTech",
          "AgriTech",
          "GreenTech",
          "AgriTech",
          "GreenTech",
          "AgriTech",
          "FinTech",
          "EdTech",
          "HealthTech",
          "FinTech",
          "AgriTech",
          "EdTech",
          "EdTech",
          "AgriTech",
          "EdTech",
          "AgriTech",
          "FinTech",
          "AgriTech",
          "AgriTech",
          "GreenTech",
          "HealthTech",
          "FinTech",
          "FinTech",
          "AgriTech",
          "AgriTech",
          "GreenTech",
          "GreenTech",
          "HealthTech",
          "HealthTech",
          "FinTech",
          "FinTech",
          "EdTech",
          "AgriTech",
          "HealthTech",
          "EdTech",
          "FinTech",
          "AgriTech",
          "HealthTech",
          "GreenTech",
          "AgriTech",
          "FinTech",
          "HealthTech",
          "FinTech",
          "GreenTech",
          "GreenTech",
          "HealthTech",
          "AgriTech",
          "EdTech",
          "AgriTech",
          "EdTech",
          "HealthTech",
          "EdTech",
          "HealthTech",
          "EdTech",
          "HealthTech",
          "HealthTech",
          "EdTech",
          "HealthTech",
          "HealthTech",
          "FinTech",
          "FinTech",
          "FinTech",
          "HealthTech",
          "AgriTech",
          "HealthTech",
          "HealthTech",
          "GreenTech",
          "AgriTech",
          "GreenTech",
          "AgriTech",
          "HealthTech",
          "EdTech",
          "AgriTech",
          "FinTech",
          "GreenTech",
          "HealthTech",
          "AgriTech",
          "EdTech",
          "FinTech",
          "FinTech",
          "EdTech",
          "GreenTech",
          "GreenTech",
          "EdTech",
          "EdTech",
          "FinTech",
          "AgriTech",
          "GreenTech",
          "EdTech",
          "HealthTech",
          "EdTech",
          "HealthTech",
          "FinTech",
          "AgriTech",
          "HealthTech",
          "GreenTech",
          "FinTech",
          "AgriTech",
          "GreenTech",
          "FinTech",
          "FinTech",
          "AgriTech",
          "AgriTech",
          "EdTech",
          "FinTech",
          "AgriTech",
          "AgriTech",
          "FinTech",
          "EdTech",
          "HealthTech",
          "EdTech",
          "GreenTech",
          "EdTech",
          "EdTech",
          "HealthTech",
          "GreenTech",
          "FinTech",
          "AgriTech",
          "HealthTech",
          "HealthTech",
          "GreenTech",
          "GreenTech",
          "EdTech",
          "AgriTech",
          "EdTech",
          "AgriTech",
          "EdTech",
          "GreenTech",
          "AgriTech",
          "FinTech",
          "GreenTech",
          "AgriTech",
          "AgriTech",
          "EdTech",
          "AgriTech",
          "GreenTech",
          "AgriTech",
          "GreenTech",
          "GreenTech",
          "HealthTech",
          "GreenTech",
          "GreenTech",
          "HealthTech",
          "EdTech",
          "HealthTech",
          "GreenTech",
          "FinTech",
          "HealthTech",
          "AgriTech",
          "HealthTech",
          "HealthTech",
          "EdTech",
          "GreenTech",
          "AgriTech",
          "HealthTech",
          "EdTech",
          "GreenTech",
          "AgriTech",
          "EdTech",
          "HealthTech",
          "AgriTech",
          "HealthTech",
          "FinTech",
          "HealthTech"
         ],
         "xaxis": "x",
         "yaxis": "y"
        }
       ],
       "layout": {
        "barmode": "group",
        "legend": {
         "title": {
          "text": "Startup Outcome (0 = Fail, 1 = Success)"
         },
         "tracegroupgap": 0
        },
        "template": {
         "data": {
          "bar": [
           {
            "error_x": {
             "color": "#2a3f5f"
            },
            "error_y": {
             "color": "#2a3f5f"
            },
            "marker": {
             "line": {
              "color": "#E5ECF6",
              "width": 0.5
             },
             "pattern": {
              "fillmode": "overlay",
              "size": 10,
              "solidity": 0.2
             }
            },
            "type": "bar"
           }
          ],
          "barpolar": [
           {
            "marker": {
             "line": {
              "color": "#E5ECF6",
              "width": 0.5
             },
             "pattern": {
              "fillmode": "overlay",
              "size": 10,
              "solidity": 0.2
             }
            },
            "type": "barpolar"
           }
          ],
          "carpet": [
           {
            "aaxis": {
             "endlinecolor": "#2a3f5f",
             "gridcolor": "white",
             "linecolor": "white",
             "minorgridcolor": "white",
             "startlinecolor": "#2a3f5f"
            },
            "baxis": {
             "endlinecolor": "#2a3f5f",
             "gridcolor": "white",
             "linecolor": "white",
             "minorgridcolor": "white",
             "startlinecolor": "#2a3f5f"
            },
            "type": "carpet"
           }
          ],
          "choropleth": [
           {
            "colorbar": {
             "outlinewidth": 0,
             "ticks": ""
            },
            "type": "choropleth"
           }
          ],
          "contour": [
           {
            "colorbar": {
             "outlinewidth": 0,
             "ticks": ""
            },
            "colorscale": [
             [
              0,
              "#0d0887"
             ],
             [
              0.1111111111111111,
              "#46039f"
             ],
             [
              0.2222222222222222,
              "#7201a8"
             ],
             [
              0.3333333333333333,
              "#9c179e"
             ],
             [
              0.4444444444444444,
              "#bd3786"
             ],
             [
              0.5555555555555556,
              "#d8576b"
             ],
             [
              0.6666666666666666,
              "#ed7953"
             ],
             [
              0.7777777777777778,
              "#fb9f3a"
             ],
             [
              0.8888888888888888,
              "#fdca26"
             ],
             [
              1,
              "#f0f921"
             ]
            ],
            "type": "contour"
           }
          ],
          "contourcarpet": [
           {
            "colorbar": {
             "outlinewidth": 0,
             "ticks": ""
            },
            "type": "contourcarpet"
           }
          ],
          "heatmap": [
           {
            "colorbar": {
             "outlinewidth": 0,
             "ticks": ""
            },
            "colorscale": [
             [
              0,
              "#0d0887"
             ],
             [
              0.1111111111111111,
              "#46039f"
             ],
             [
              0.2222222222222222,
              "#7201a8"
             ],
             [
              0.3333333333333333,
              "#9c179e"
             ],
             [
              0.4444444444444444,
              "#bd3786"
             ],
             [
              0.5555555555555556,
              "#d8576b"
             ],
             [
              0.6666666666666666,
              "#ed7953"
             ],
             [
              0.7777777777777778,
              "#fb9f3a"
             ],
             [
              0.8888888888888888,
              "#fdca26"
             ],
             [
              1,
              "#f0f921"
             ]
            ],
            "type": "heatmap"
           }
          ],
          "histogram": [
           {
            "marker": {
             "pattern": {
              "fillmode": "overlay",
              "size": 10,
              "solidity": 0.2
             }
            },
            "type": "histogram"
           }
          ],
          "histogram2d": [
           {
            "colorbar": {
             "outlinewidth": 0,
             "ticks": ""
            },
            "colorscale": [
             [
              0,
              "#0d0887"
             ],
             [
              0.1111111111111111,
              "#46039f"
             ],
             [
              0.2222222222222222,
              "#7201a8"
             ],
             [
              0.3333333333333333,
              "#9c179e"
             ],
             [
              0.4444444444444444,
              "#bd3786"
             ],
             [
              0.5555555555555556,
              "#d8576b"
             ],
             [
              0.6666666666666666,
              "#ed7953"
             ],
             [
              0.7777777777777778,
              "#fb9f3a"
             ],
             [
              0.8888888888888888,
              "#fdca26"
             ],
             [
              1,
              "#f0f921"
             ]
            ],
            "type": "histogram2d"
           }
          ],
          "histogram2dcontour": [
           {
            "colorbar": {
             "outlinewidth": 0,
             "ticks": ""
            },
            "colorscale": [
             [
              0,
              "#0d0887"
             ],
             [
              0.1111111111111111,
              "#46039f"
             ],
             [
              0.2222222222222222,
              "#7201a8"
             ],
             [
              0.3333333333333333,
              "#9c179e"
             ],
             [
              0.4444444444444444,
              "#bd3786"
             ],
             [
              0.5555555555555556,
              "#d8576b"
             ],
             [
              0.6666666666666666,
              "#ed7953"
             ],
             [
              0.7777777777777778,
              "#fb9f3a"
             ],
             [
              0.8888888888888888,
              "#fdca26"
             ],
             [
              1,
              "#f0f921"
             ]
            ],
            "type": "histogram2dcontour"
           }
          ],
          "mesh3d": [
           {
            "colorbar": {
             "outlinewidth": 0,
             "ticks": ""
            },
            "type": "mesh3d"
           }
          ],
          "parcoords": [
           {
            "line": {
             "colorbar": {
              "outlinewidth": 0,
              "ticks": ""
             }
            },
            "type": "parcoords"
           }
          ],
          "pie": [
           {
            "automargin": true,
            "type": "pie"
           }
          ],
          "scatter": [
           {
            "fillpattern": {
             "fillmode": "overlay",
             "size": 10,
             "solidity": 0.2
            },
            "type": "scatter"
           }
          ],
          "scatter3d": [
           {
            "line": {
             "colorbar": {
              "outlinewidth": 0,
              "ticks": ""
             }
            },
            "marker": {
             "colorbar": {
              "outlinewidth": 0,
              "ticks": ""
             }
            },
            "type": "scatter3d"
           }
          ],
          "scattercarpet": [
           {
            "marker": {
             "colorbar": {
              "outlinewidth": 0,
              "ticks": ""
             }
            },
            "type": "scattercarpet"
           }
          ],
          "scattergeo": [
           {
            "marker": {
             "colorbar": {
              "outlinewidth": 0,
              "ticks": ""
             }
            },
            "type": "scattergeo"
           }
          ],
          "scattergl": [
           {
            "marker": {
             "colorbar": {
              "outlinewidth": 0,
              "ticks": ""
             }
            },
            "type": "scattergl"
           }
          ],
          "scattermap": [
           {
            "marker": {
             "colorbar": {
              "outlinewidth": 0,
              "ticks": ""
             }
            },
            "type": "scattermap"
           }
          ],
          "scattermapbox": [
           {
            "marker": {
             "colorbar": {
              "outlinewidth": 0,
              "ticks": ""
             }
            },
            "type": "scattermapbox"
           }
          ],
          "scatterpolar": [
           {
            "marker": {
             "colorbar": {
              "outlinewidth": 0,
              "ticks": ""
             }
            },
            "type": "scatterpolar"
           }
          ],
          "scatterpolargl": [
           {
            "marker": {
             "colorbar": {
              "outlinewidth": 0,
              "ticks": ""
             }
            },
            "type": "scatterpolargl"
           }
          ],
          "scatterternary": [
           {
            "marker": {
             "colorbar": {
              "outlinewidth": 0,
              "ticks": ""
             }
            },
            "type": "scatterternary"
           }
          ],
          "surface": [
           {
            "colorbar": {
             "outlinewidth": 0,
             "ticks": ""
            },
            "colorscale": [
             [
              0,
              "#0d0887"
             ],
             [
              0.1111111111111111,
              "#46039f"
             ],
             [
              0.2222222222222222,
              "#7201a8"
             ],
             [
              0.3333333333333333,
              "#9c179e"
             ],
             [
              0.4444444444444444,
              "#bd3786"
             ],
             [
              0.5555555555555556,
              "#d8576b"
             ],
             [
              0.6666666666666666,
              "#ed7953"
             ],
             [
              0.7777777777777778,
              "#fb9f3a"
             ],
             [
              0.8888888888888888,
              "#fdca26"
             ],
             [
              1,
              "#f0f921"
             ]
            ],
            "type": "surface"
           }
          ],
          "table": [
           {
            "cells": {
             "fill": {
              "color": "#EBF0F8"
             },
             "line": {
              "color": "white"
             }
            },
            "header": {
             "fill": {
              "color": "#C8D4E3"
             },
             "line": {
              "color": "white"
             }
            },
            "type": "table"
           }
          ]
         },
         "layout": {
          "annotationdefaults": {
           "arrowcolor": "#2a3f5f",
           "arrowhead": 0,
           "arrowwidth": 1
          },
          "autotypenumbers": "strict",
          "coloraxis": {
           "colorbar": {
            "outlinewidth": 0,
            "ticks": ""
           }
          },
          "colorscale": {
           "diverging": [
            [
             0,
             "#8e0152"
            ],
            [
             0.1,
             "#c51b7d"
            ],
            [
             0.2,
             "#de77ae"
            ],
            [
             0.3,
             "#f1b6da"
            ],
            [
             0.4,
             "#fde0ef"
            ],
            [
             0.5,
             "#f7f7f7"
            ],
            [
             0.6,
             "#e6f5d0"
            ],
            [
             0.7,
             "#b8e186"
            ],
            [
             0.8,
             "#7fbc41"
            ],
            [
             0.9,
             "#4d9221"
            ],
            [
             1,
             "#276419"
            ]
           ],
           "sequential": [
            [
             0,
             "#0d0887"
            ],
            [
             0.1111111111111111,
             "#46039f"
            ],
            [
             0.2222222222222222,
             "#7201a8"
            ],
            [
             0.3333333333333333,
             "#9c179e"
            ],
            [
             0.4444444444444444,
             "#bd3786"
            ],
            [
             0.5555555555555556,
             "#d8576b"
            ],
            [
             0.6666666666666666,
             "#ed7953"
            ],
            [
             0.7777777777777778,
             "#fb9f3a"
            ],
            [
             0.8888888888888888,
             "#fdca26"
            ],
            [
             1,
             "#f0f921"
            ]
           ],
           "sequentialminus": [
            [
             0,
             "#0d0887"
            ],
            [
             0.1111111111111111,
             "#46039f"
            ],
            [
             0.2222222222222222,
             "#7201a8"
            ],
            [
             0.3333333333333333,
             "#9c179e"
            ],
            [
             0.4444444444444444,
             "#bd3786"
            ],
            [
             0.5555555555555556,
             "#d8576b"
            ],
            [
             0.6666666666666666,
             "#ed7953"
            ],
            [
             0.7777777777777778,
             "#fb9f3a"
            ],
            [
             0.8888888888888888,
             "#fdca26"
            ],
            [
             1,
             "#f0f921"
            ]
           ]
          },
          "colorway": [
           "#636efa",
           "#EF553B",
           "#00cc96",
           "#ab63fa",
           "#FFA15A",
           "#19d3f3",
           "#FF6692",
           "#B6E880",
           "#FF97FF",
           "#FECB52"
          ],
          "font": {
           "color": "#2a3f5f"
          },
          "geo": {
           "bgcolor": "white",
           "lakecolor": "white",
           "landcolor": "#E5ECF6",
           "showlakes": true,
           "showland": true,
           "subunitcolor": "white"
          },
          "hoverlabel": {
           "align": "left"
          },
          "hovermode": "closest",
          "mapbox": {
           "style": "light"
          },
          "paper_bgcolor": "white",
          "plot_bgcolor": "#E5ECF6",
          "polar": {
           "angularaxis": {
            "gridcolor": "white",
            "linecolor": "white",
            "ticks": ""
           },
           "bgcolor": "#E5ECF6",
           "radialaxis": {
            "gridcolor": "white",
            "linecolor": "white",
            "ticks": ""
           }
          },
          "scene": {
           "xaxis": {
            "backgroundcolor": "#E5ECF6",
            "gridcolor": "white",
            "gridwidth": 2,
            "linecolor": "white",
            "showbackground": true,
            "ticks": "",
            "zerolinecolor": "white"
           },
           "yaxis": {
            "backgroundcolor": "#E5ECF6",
            "gridcolor": "white",
            "gridwidth": 2,
            "linecolor": "white",
            "showbackground": true,
            "ticks": "",
            "zerolinecolor": "white"
           },
           "zaxis": {
            "backgroundcolor": "#E5ECF6",
            "gridcolor": "white",
            "gridwidth": 2,
            "linecolor": "white",
            "showbackground": true,
            "ticks": "",
            "zerolinecolor": "white"
           }
          },
          "shapedefaults": {
           "line": {
            "color": "#2a3f5f"
           }
          },
          "ternary": {
           "aaxis": {
            "gridcolor": "white",
            "linecolor": "white",
            "ticks": ""
           },
           "baxis": {
            "gridcolor": "white",
            "linecolor": "white",
            "ticks": ""
           },
           "bgcolor": "#E5ECF6",
           "caxis": {
            "gridcolor": "white",
            "linecolor": "white",
            "ticks": ""
           }
          },
          "title": {
           "x": 0.05
          },
          "xaxis": {
           "automargin": true,
           "gridcolor": "white",
           "linecolor": "white",
           "ticks": "",
           "title": {
            "standoff": 15
           },
           "zerolinecolor": "white",
           "zerolinewidth": 2
          },
          "yaxis": {
           "automargin": true,
           "gridcolor": "white",
           "linecolor": "white",
           "ticks": "",
           "title": {
            "standoff": 15
           },
           "zerolinecolor": "white",
           "zerolinewidth": 2
          }
         }
        },
        "title": {
         "text": "Success/Failure Distribution by Project Domain"
        },
        "xaxis": {
         "anchor": "y",
         "categoryarray": [
          "AgriTech",
          "FinTech",
          "GreenTech",
          "HealthTech",
          "EdTech"
         ],
         "categoryorder": "array",
         "domain": [
          0,
          1
         ],
         "tickmode": "array",
         "tickvals": [
          "AgriTech",
          "FinTech",
          "GreenTech",
          "HealthTech",
          "EdTech"
         ],
         "title": {
          "text": "Project Domain"
         }
        },
        "yaxis": {
         "anchor": "x",
         "domain": [
          0,
          1
         ],
         "title": {
          "text": "Number of Students"
         }
        }
       }
      },
      "image/png": "[encoded data removed]"
     },
     "metadata": {},
     "output_type": "display_data"
    }
   ],
   "source": [
    "sorted_project_domains = df['project_domain'].value_counts().index\n",
    "\n",
    "fig = px.histogram(df, \n",
    "                   x='project_domain', \n",
    "                   color='success_label',\n",
    "                   title='Success/Failure Distribution by Project Domain',\n",
    "                   labels={'project_domain': 'Project Domain', \n",
    "                           'success_label': 'Startup Outcome (0 = Fail, 1 = Success)', \n",
    "                           'count': 'Number of Students'},\n",
    "                   color_discrete_map={0: 'lightcoral', 1: '#49ab81'},\n",
    "                   barmode='group',\n",
    "                   category_orders={'project_domain': sorted_project_domains}) \n",
    "\n",
    "fig.update_layout(\n",
    "    xaxis_title=\"Project Domain\",\n",
    "    yaxis_title=\"Number of Students\",\n",
    "    xaxis=dict(tickmode='array', tickvals=sorted_project_domains)\n",
    ")\n",
    "\n",
    "fig.show()"
   ]
  },
  {
   "cell_type": "code",
   "execution_count": 17,
   "id": "ae834f67-7d75-4562-8d7e-9daa3cea8325",
   "metadata": {},
   "outputs": [
    {
     "data": {
      "text/plain": [
       "team_size                    6\n",
       "avg_team_experience        351\n",
       "innovation_score            71\n",
       "funding_amount_usd        2100\n",
       "mentorship_support           2\n",
       "incubation_support           2\n",
       "market_readiness_level       5\n",
       "competition_awards           5\n",
       "business_model_score        81\n",
       "technology_maturity          5\n",
       "year                         5\n",
       "success_label                2\n",
       "dtype: int64"
      ]
     },
     "execution_count": 17,
     "metadata": {},
     "output_type": "execute_result"
    }
   ],
   "source": [
    "df[numerical_vars].nunique()"
   ]
  },
  {
   "cell_type": "code",
   "execution_count": 18,
   "id": "cf89ff4c-f7d9-49c2-a3e2-a5bf8e91945b",
   "metadata": {},
   "outputs": [
    {
     "data": {
      "image/png": "[encoded data removed]",
      "text/plain": [
       "<Figure size 1500x1100 with 16 Axes>"
      ]
     },
     "metadata": {},
     "output_type": "display_data"
    }
   ],
   "source": [
    "## Proportion of count data on numerical columns\n",
    "numerical_vars_filtered = [col for col in numerical_vars if df[col].nunique() > 2]\n",
    "\n",
    "df[numerical_vars_filtered].plot(kind='density', subplots=True, layout=(4, 4), sharex=False, figsize=(15, 11))\n",
    "plt.suptitle(\"Density Plots of Numerical Variables\", fontsize=16)\n",
    "plt.show()"
   ]
  },
  {
   "cell_type": "code",
   "execution_count": 19,
   "id": "6d975fcb-847d-4a55-b470-baa2b91eb2e0",
   "metadata": {},
   "outputs": [
    {
     "data": {
      "application/vnd.plotly.v1+json": {
       "config": {
        "plotlyServerURL": "https://plot.ly"
       },
       "data": [
        {
         "alignmentgroup": "True",
         "hovertemplate": "Startup Outcome=%{x}<br>Funding Amount (USD)=%{y}<extra></extra>",
         "legendgroup": "1",
         "marker": {
          "color": "green"
         },
         "name": "1",
         "notched": false,
         "offsetgroup": "1",
         "orientation": "v",
         "showlegend": true,
         "type": "box",
         "x": {
          "bdata": "AQEBAQEBAQEBAQEBAQEBAQEBAQEBAQEBAQEBAQEBAQEBAQEBAQEBAQEBAQEBAQEBAQEBAQEBAQEBAQEBAQEBAQEBAQEBAQEBAQEBAQEBAQEBAQEBAQEBAQEBAQEBAQEBAQEBAQEBAQEBAQEBAQEBAQEBAQEBAQEBAQEBAQEBAQEBAQEBAQEBAQEBAQEBAQEBAQEBAQEBAQEBAQEBAQEBAQEBAQEBAQEBAQEBAQEBAQEBAQEBAQEBAQEBAQEBAQEBAQEBAQEBAQEBAQEBAQEBAQEBAQEBAQEBAQEBAQEBAQEBAQEBAQEBAQEBAQEBAQEBAQEBAQEBAQEBAQEBAQEBAQEBAQEBAQEBAQEBAQEBAQEBAQEBAQEBAQEBAQEBAQEBAQEBAQEBAQEBAQEBAQEBAQEBAQEBAQEBAQEBAQEBAQEBAQEBAQEBAQEBAQEBAQEBAQEBAQEBAQEBAQEBAQEBAQEBAQEBAQEBAQEBAQEBAQEBAQEBAQEBAQEBAQEBAQEBAQEBAQEBAQEBAQEBAQEBAQEBAQEBAQEBAQEBAQEBAQEBAQEBAQEBAQEBAQEBAQEBAQEBAQEBAQEBAQEBAQEBAQEBAQEBAQEBAQEBAQEBAQEBAQEBAQEBAQEBAQEBAQEBAQEBAQEBAQEBAQEBAQEBAQEBAQEBAQEBAQEBAQEBAQEBAQEBAQEBAQEBAQEBAQEBAQEBAQEBAQEBAQEBAQEBAQEBAQEBAQEBAQEBAQEBAQEBAQEBAQEBAQEBAQEBAQEBAQEBAQEBAQEBAQEBAQEBAQEBAQEBAQEBAQEBAQEBAQEBAQEBAQEBAQEBAQEBAQEBAQEBAQEBAQEBAQEBAQEBAQEBAQEBAQEBAQEBAQEBAQEBAQEBAQEBAQEBAQEBAQEBAQEBAQEBAQEBAQEBAQEBAQEBAQEBAQEBAQEBAQEBAQEBAQEBAQEBAQEBAQEBAQEBAQEBAQEBAQEBAQEBAQEBAQEBAQEBAQEBAQEBAQEBAQEBAQEBAQEBAQEBAQEBAQEBAQEBAQEBAQEBAQEBAQEBAQEBAQEBAQEBAQEBAQEBAQEBAQEBAQEBAQEBAQEBAQEBAQEBAQEBAQEBAQEBAQEBAQEBAQEBAQEBAQEBAQEBAQEBAQEBAQEBAQEBAQEBAQEBAQEBAQEBAQEBAQEBAQEBAQE=",
          "dtype": "i1"
         },
         "x0": " ",
         "xaxis": "x",
         "y": {
          "bdata": "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",
          "dtype": "f8"
         },
         "y0": " ",
         "yaxis": "y"
        },
        {
         "alignmentgroup": "True",
         "hovertemplate": "Startup Outcome=%{x}<br>Funding Amount (USD)=%{y}<extra></extra>",
         "legendgroup": "0",
         "marker": {
          "color": "red"
         },
         "name": "0",
         "notched": false,
         "offsetgroup": "0",
         "orientation": "v",
         "showlegend": true,
         "type": "box",
         "x": {
          "bdata": "AAAAAAAAAAAAAAAAAAAAAAAAAAAAAAAAAAAAAAAAAAAAAAAAAAAAAAAAAAAAAAAAAAAAAAAAAAAAAAAAAAAAAAAAAAAAAAAAAAAAAAAAAAAAAAAAAAAAAAAAAAAAAAAAAAAAAAAAAAAAAAAAAAAAAAAAAAAAAAAAAAAAAAAAAAAAAAAAAAAAAAAAAAAAAAAAAAAAAAAAAAAAAAAAAAAAAAAAAAAAAAAAAAAAAAAAAAAAAAAAAAAAAAAAAAAAAAAAAAAAAAAAAAAAAAAAAAAAAAAAAAAAAAAAAAAAAAAAAAAAAAAAAAAAAAAAAAAAAAAAAAAAAAAAAAAAAAAAAAAAAAAAAAAAAAAAAAAAAAAAAAAAAAAAAAAAAAAAAAAAAAAAAAAAAAAAAAAAAAAAAAAAAAAAAAAAAAAAAAAAAAAAAAAAAAAAAAAAAAAAAAAAAAAAAAAAAAAAAAAAAAAAAAAAAAAAAAAAAAAAAAAAAAAAAAAAAAAAAAAAAAAAAAAAAAAAAAAAAAAAAAAAAAAAAAAAAAAAAAAAAAAAAAAAAAAAAAAAAAAAAAAAAAAAAAAAAAAAAAAAAAAAAAAAAAAAAAAAAAAAAAAAAAAAAAAAAAAAAAAAAAAAAAAAAAAAAAAAAAAAAAAAAAAAAAAAAAAAAAAAAAAAAAAAAAAAAAAAAAAAAAAAAAAAAAAAAAAAAAAAAAAAAAAAAAAAAAAAAAAAAAAAAAAAAAAAAAAAAAAAAAAAAAAAAAAAAAAAAAAAAAAAAAAAAAAAAAAAAAAAAAAAAAAAAAAAAAAAAAAAAAAAAAAAAAAAAAAAAAAAAAAAAAAAAAAAAAAAAAAAAAAAAAAAAAAAAAAAAAAAAAAAAAAAAAAAAAAAAAAAAAAAAAAAAAAAAAAAAAAAAAAAAAAAAAAAAAAAAAAAAAAAAAAAAAAAAAAAAAAAAAAAAAAAAAAAAAAAAAAAAAAAAAAAAAAAAAAAAAAAAAAAAAAAAAAAAAAAAAAAAAAAAAAAAAAAAAAAAAAAAAAAAAAAAAAAAAAAAAAAAAAAAAAAAAAAAAAAAAAAAAAAAAAAAAAAAAAAAAAAAAAAAAAAAAAAAAAAAAAAAAAAAAAAAAAAAAAAAAAAAAAAAAAAAAAAAAAAAAAAAAAAAAAAAAAAAAAAAAAAAAAAAAAAAAAAAAAAAAAAAAAAAAAAAAAAAAAAAAAAAAAAAAAAAAAAAAAAAAAAAAAAAAAAAAAAAAAAAAAAAAAAAAAAAAAAAAAAAAAAAAAAAAAAAAAAAAAAAAAAAAAAAAAAAAAAAAAAAAAAAAAAAAAAAAAAAAAAAAAAAAAAAAAAAAAAAAAAAAAAAAAAAAAAAAAAAAAAAAAAAAAAAAAAAAAAAAAAAAAAAAAAAAAAAAAAAAAAAAAAAAAAAAAAAAAAAAAAAAAAAAAAAAAAAAAAAAAAAAAAAAAAAAAAAAAAAAAAAAAAAAAAAAAAAAAAAAAAAAAAAAAAAAAAAAAAAAAAAAAAAAAAAAAAAAAAAAAAAAAAAAAAAAAAAAAAAAAAAAAAAAAAAAAAAAAAAAAAAAAAAAAAAAAAAAAAAAAAAAAAAAAAAAAAAAAAAAAAAAAAAAAAAAAAAAAAAAAAAAAAAAAAAA==",
          "dtype": "i1"
         },
         "x0": " ",
         "xaxis": "x",
         "y": {
          "bdata": "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",
          "dtype": "f8"
         },
         "y0": " ",
         "yaxis": "y"
        }
       ],
       "layout": {
        "boxmode": "group",
        "legend": {
         "title": {
          "text": "Startup Outcome"
         },
         "tracegroupgap": 0
        },
        "template": {
         "data": {
          "bar": [
           {
            "error_x": {
             "color": "#2a3f5f"
            },
            "error_y": {
             "color": "#2a3f5f"
            },
            "marker": {
             "line": {
              "color": "#E5ECF6",
              "width": 0.5
             },
             "pattern": {
              "fillmode": "overlay",
              "size": 10,
              "solidity": 0.2
             }
            },
            "type": "bar"
           }
          ],
          "barpolar": [
           {
            "marker": {
             "line": {
              "color": "#E5ECF6",
              "width": 0.5
             },
             "pattern": {
              "fillmode": "overlay",
              "size": 10,
              "solidity": 0.2
             }
            },
            "type": "barpolar"
           }
          ],
          "carpet": [
           {
            "aaxis": {
             "endlinecolor": "#2a3f5f",
             "gridcolor": "white",
             "linecolor": "white",
             "minorgridcolor": "white",
             "startlinecolor": "#2a3f5f"
            },
            "baxis": {
             "endlinecolor": "#2a3f5f",
             "gridcolor": "white",
             "linecolor": "white",
             "minorgridcolor": "white",
             "startlinecolor": "#2a3f5f"
            },
            "type": "carpet"
           }
          ],
          "choropleth": [
           {
            "colorbar": {
             "outlinewidth": 0,
             "ticks": ""
            },
            "type": "choropleth"
           }
          ],
          "contour": [
           {
            "colorbar": {
             "outlinewidth": 0,
             "ticks": ""
            },
            "colorscale": [
             [
              0,
              "#0d0887"
             ],
             [
              0.1111111111111111,
              "#46039f"
             ],
             [
              0.2222222222222222,
              "#7201a8"
             ],
             [
              0.3333333333333333,
              "#9c179e"
             ],
             [
              0.4444444444444444,
              "#bd3786"
             ],
             [
              0.5555555555555556,
              "#d8576b"
             ],
             [
              0.6666666666666666,
              "#ed7953"
             ],
             [
              0.7777777777777778,
              "#fb9f3a"
             ],
             [
              0.8888888888888888,
              "#fdca26"
             ],
             [
              1,
              "#f0f921"
             ]
            ],
            "type": "contour"
           }
          ],
          "contourcarpet": [
           {
            "colorbar": {
             "outlinewidth": 0,
             "ticks": ""
            },
            "type": "contourcarpet"
           }
          ],
          "heatmap": [
           {
            "colorbar": {
             "outlinewidth": 0,
             "ticks": ""
            },
            "colorscale": [
             [
              0,
              "#0d0887"
             ],
             [
              0.1111111111111111,
              "#46039f"
             ],
             [
              0.2222222222222222,
              "#7201a8"
             ],
             [
              0.3333333333333333,
              "#9c179e"
             ],
             [
              0.4444444444444444,
              "#bd3786"
             ],
             [
              0.5555555555555556,
              "#d8576b"
             ],
             [
              0.6666666666666666,
              "#ed7953"
             ],
             [
              0.7777777777777778,
              "#fb9f3a"
             ],
             [
              0.8888888888888888,
              "#fdca26"
             ],
             [
              1,
              "#f0f921"
             ]
            ],
            "type": "heatmap"
           }
          ],
          "histogram": [
           {
            "marker": {
             "pattern": {
              "fillmode": "overlay",
              "size": 10,
              "solidity": 0.2
             }
            },
            "type": "histogram"
           }
          ],
          "histogram2d": [
           {
            "colorbar": {
             "outlinewidth": 0,
             "ticks": ""
            },
            "colorscale": [
             [
              0,
              "#0d0887"
             ],
             [
              0.1111111111111111,
              "#46039f"
             ],
             [
              0.2222222222222222,
              "#7201a8"
             ],
             [
              0.3333333333333333,
              "#9c179e"
             ],
             [
              0.4444444444444444,
              "#bd3786"
             ],
             [
              0.5555555555555556,
              "#d8576b"
             ],
             [
              0.6666666666666666,
              "#ed7953"
             ],
             [
              0.7777777777777778,
              "#fb9f3a"
             ],
             [
              0.8888888888888888,
              "#fdca26"
             ],
             [
              1,
              "#f0f921"
             ]
            ],
            "type": "histogram2d"
           }
          ],
          "histogram2dcontour": [
           {
            "colorbar": {
             "outlinewidth": 0,
             "ticks": ""
            },
            "colorscale": [
             [
              0,
              "#0d0887"
             ],
             [
              0.1111111111111111,
              "#46039f"
             ],
             [
              0.2222222222222222,
              "#7201a8"
             ],
             [
              0.3333333333333333,
              "#9c179e"
             ],
             [
              0.4444444444444444,
              "#bd3786"
             ],
             [
              0.5555555555555556,
              "#d8576b"
             ],
             [
              0.6666666666666666,
              "#ed7953"
             ],
             [
              0.7777777777777778,
              "#fb9f3a"
             ],
             [
              0.8888888888888888,
              "#fdca26"
             ],
             [
              1,
              "#f0f921"
             ]
            ],
            "type": "histogram2dcontour"
           }
          ],
          "mesh3d": [
           {
            "colorbar": {
             "outlinewidth": 0,
             "ticks": ""
            },
            "type": "mesh3d"
           }
          ],
          "parcoords": [
           {
            "line": {
             "colorbar": {
              "outlinewidth": 0,
              "ticks": ""
             }
            },
            "type": "parcoords"
           }
          ],
          "pie": [
           {
            "automargin": true,
            "type": "pie"
           }
          ],
          "scatter": [
           {
            "fillpattern": {
             "fillmode": "overlay",
             "size": 10,
             "solidity": 0.2
            },
            "type": "scatter"
           }
          ],
          "scatter3d": [
           {
            "line": {
             "colorbar": {
              "outlinewidth": 0,
              "ticks": ""
             }
            },
            "marker": {
             "colorbar": {
              "outlinewidth": 0,
              "ticks": ""
             }
            },
            "type": "scatter3d"
           }
          ],
          "scattercarpet": [
           {
            "marker": {
             "colorbar": {
              "outlinewidth": 0,
              "ticks": ""
             }
            },
            "type": "scattercarpet"
           }
          ],
          "scattergeo": [
           {
            "marker": {
             "colorbar": {
              "outlinewidth": 0,
              "ticks": ""
             }
            },
            "type": "scattergeo"
           }
          ],
          "scattergl": [
           {
            "marker": {
             "colorbar": {
              "outlinewidth": 0,
              "ticks": ""
             }
            },
            "type": "scattergl"
           }
          ],
          "scattermap": [
           {
            "marker": {
             "colorbar": {
              "outlinewidth": 0,
              "ticks": ""
             }
            },
            "type": "scattermap"
           }
          ],
          "scattermapbox": [
           {
            "marker": {
             "colorbar": {
              "outlinewidth": 0,
              "ticks": ""
             }
            },
            "type": "scattermapbox"
           }
          ],
          "scatterpolar": [
           {
            "marker": {
             "colorbar": {
              "outlinewidth": 0,
              "ticks": ""
             }
            },
            "type": "scatterpolar"
           }
          ],
          "scatterpolargl": [
           {
            "marker": {
             "colorbar": {
              "outlinewidth": 0,
              "ticks": ""
             }
            },
            "type": "scatterpolargl"
           }
          ],
          "scatterternary": [
           {
            "marker": {
             "colorbar": {
              "outlinewidth": 0,
              "ticks": ""
             }
            },
            "type": "scatterternary"
           }
          ],
          "surface": [
           {
            "colorbar": {
             "outlinewidth": 0,
             "ticks": ""
            },
            "colorscale": [
             [
              0,
              "#0d0887"
             ],
             [
              0.1111111111111111,
              "#46039f"
             ],
             [
              0.2222222222222222,
              "#7201a8"
             ],
             [
              0.3333333333333333,
              "#9c179e"
             ],
             [
              0.4444444444444444,
              "#bd3786"
             ],
             [
              0.5555555555555556,
              "#d8576b"
             ],
             [
              0.6666666666666666,
              "#ed7953"
             ],
             [
              0.7777777777777778,
              "#fb9f3a"
             ],
             [
              0.8888888888888888,
              "#fdca26"
             ],
             [
              1,
              "#f0f921"
             ]
            ],
            "type": "surface"
           }
          ],
          "table": [
           {
            "cells": {
             "fill": {
              "color": "#EBF0F8"
             },
             "line": {
              "color": "white"
             }
            },
            "header": {
             "fill": {
              "color": "#C8D4E3"
             },
             "line": {
              "color": "white"
             }
            },
            "type": "table"
           }
          ]
         },
         "layout": {
          "annotationdefaults": {
           "arrowcolor": "#2a3f5f",
           "arrowhead": 0,
           "arrowwidth": 1
          },
          "autotypenumbers": "strict",
          "coloraxis": {
           "colorbar": {
            "outlinewidth": 0,
            "ticks": ""
           }
          },
          "colorscale": {
           "diverging": [
            [
             0,
             "#8e0152"
            ],
            [
             0.1,
             "#c51b7d"
            ],
            [
             0.2,
             "#de77ae"
            ],
            [
             0.3,
             "#f1b6da"
            ],
            [
             0.4,
             "#fde0ef"
            ],
            [
             0.5,
             "#f7f7f7"
            ],
            [
             0.6,
             "#e6f5d0"
            ],
            [
             0.7,
             "#b8e186"
            ],
            [
             0.8,
             "#7fbc41"
            ],
            [
             0.9,
             "#4d9221"
            ],
            [
             1,
             "#276419"
            ]
           ],
           "sequential": [
            [
             0,
             "#0d0887"
            ],
            [
             0.1111111111111111,
             "#46039f"
            ],
            [
             0.2222222222222222,
             "#7201a8"
            ],
            [
             0.3333333333333333,
             "#9c179e"
            ],
            [
             0.4444444444444444,
             "#bd3786"
            ],
            [
             0.5555555555555556,
             "#d8576b"
            ],
            [
             0.6666666666666666,
             "#ed7953"
            ],
            [
             0.7777777777777778,
             "#fb9f3a"
            ],
            [
             0.8888888888888888,
             "#fdca26"
            ],
            [
             1,
             "#f0f921"
            ]
           ],
           "sequentialminus": [
            [
             0,
             "#0d0887"
            ],
            [
             0.1111111111111111,
             "#46039f"
            ],
            [
             0.2222222222222222,
             "#7201a8"
            ],
            [
             0.3333333333333333,
             "#9c179e"
            ],
            [
             0.4444444444444444,
             "#bd3786"
            ],
            [
             0.5555555555555556,
             "#d8576b"
            ],
            [
             0.6666666666666666,
             "#ed7953"
            ],
            [
             0.7777777777777778,
             "#fb9f3a"
            ],
            [
             0.8888888888888888,
             "#fdca26"
            ],
            [
             1,
             "#f0f921"
            ]
           ]
          },
          "colorway": [
           "#636efa",
           "#EF553B",
           "#00cc96",
           "#ab63fa",
           "#FFA15A",
           "#19d3f3",
           "#FF6692",
           "#B6E880",
           "#FF97FF",
           "#FECB52"
          ],
          "font": {
           "color": "#2a3f5f"
          },
          "geo": {
           "bgcolor": "white",
           "lakecolor": "white",
           "landcolor": "#E5ECF6",
           "showlakes": true,
           "showland": true,
           "subunitcolor": "white"
          },
          "hoverlabel": {
           "align": "left"
          },
          "hovermode": "closest",
          "mapbox": {
           "style": "light"
          },
          "paper_bgcolor": "white",
          "plot_bgcolor": "#E5ECF6",
          "polar": {
           "angularaxis": {
            "gridcolor": "white",
            "linecolor": "white",
            "ticks": ""
           },
           "bgcolor": "#E5ECF6",
           "radialaxis": {
            "gridcolor": "white",
            "linecolor": "white",
            "ticks": ""
           }
          },
          "scene": {
           "xaxis": {
            "backgroundcolor": "#E5ECF6",
            "gridcolor": "white",
            "gridwidth": 2,
            "linecolor": "white",
            "showbackground": true,
            "ticks": "",
            "zerolinecolor": "white"
           },
           "yaxis": {
            "backgroundcolor": "#E5ECF6",
            "gridcolor": "white",
            "gridwidth": 2,
            "linecolor": "white",
            "showbackground": true,
            "ticks": "",
            "zerolinecolor": "white"
           },
           "zaxis": {
            "backgroundcolor": "#E5ECF6",
            "gridcolor": "white",
            "gridwidth": 2,
            "linecolor": "white",
            "showbackground": true,
            "ticks": "",
            "zerolinecolor": "white"
           }
          },
          "shapedefaults": {
           "line": {
            "color": "#2a3f5f"
           }
          },
          "ternary": {
           "aaxis": {
            "gridcolor": "white",
            "linecolor": "white",
            "ticks": ""
           },
           "baxis": {
            "gridcolor": "white",
            "linecolor": "white",
            "ticks": ""
           },
           "bgcolor": "#E5ECF6",
           "caxis": {
            "gridcolor": "white",
            "linecolor": "white",
            "ticks": ""
           }
          },
          "title": {
           "x": 0.05
          },
          "xaxis": {
           "automargin": true,
           "gridcolor": "white",
           "linecolor": "white",
           "ticks": "",
           "title": {
            "standoff": 15
           },
           "zerolinecolor": "white",
           "zerolinewidth": 2
          },
          "yaxis": {
           "automargin": true,
           "gridcolor": "white",
           "linecolor": "white",
           "ticks": "",
           "title": {
            "standoff": 15
           },
           "zerolinecolor": "white",
           "zerolinewidth": 2
          }
         }
        },
        "title": {
         "text": "Funding Amount vs Startup Success"
        },
        "xaxis": {
         "anchor": "y",
         "categoryarray": [
          1,
          0
         ],
         "categoryorder": "array",
         "domain": [
          0,
          1
         ],
         "title": {
          "text": "Startup Outcome"
         }
        },
        "yaxis": {
         "anchor": "x",
         "domain": [
          0,
          1
         ],
         "title": {
          "text": "Funding Amount (USD)"
         }
        }
       }
      },
      "image/png": "[encoded data removed]"
     },
     "metadata": {},
     "output_type": "display_data"
    },
    {
     "data": {
      "application/vnd.plotly.v1+json": {
       "config": {
        "plotlyServerURL": "https://plot.ly"
       },
       "data": [
        {
         "alignmentgroup": "True",
         "hovertemplate": "Startup Outcome=%{x}<br>Innovation Score=%{y}<extra></extra>",
         "legendgroup": "1",
         "marker": {
          "color": "green"
         },
         "name": "1",
         "notched": false,
         "offsetgroup": "1",
         "orientation": "v",
         "showlegend": true,
         "type": "box",
         "x": {
          "bdata": "AQEBAQEBAQEBAQEBAQEBAQEBAQEBAQEBAQEBAQEBAQEBAQEBAQEBAQEBAQEBAQEBAQEBAQEBAQEBAQEBAQEBAQEBAQEBAQEBAQEBAQEBAQEBAQEBAQEBAQEBAQEBAQEBAQEBAQEBAQEBAQEBAQEBAQEBAQEBAQEBAQEBAQEBAQEBAQEBAQEBAQEBAQEBAQEBAQEBAQEBAQEBAQEBAQEBAQEBAQEBAQEBAQEBAQEBAQEBAQEBAQEBAQEBAQEBAQEBAQEBAQEBAQEBAQEBAQEBAQEBAQEBAQEBAQEBAQEBAQEBAQEBAQEBAQEBAQEBAQEBAQEBAQEBAQEBAQEBAQEBAQEBAQEBAQEBAQEBAQEBAQEBAQEBAQEBAQEBAQEBAQEBAQEBAQEBAQEBAQEBAQEBAQEBAQEBAQEBAQEBAQEBAQEBAQEBAQEBAQEBAQEBAQEBAQEBAQEBAQEBAQEBAQEBAQEBAQEBAQEBAQEBAQEBAQEBAQEBAQEBAQEBAQEBAQEBAQEBAQEBAQEBAQEBAQEBAQEBAQEBAQEBAQEBAQEBAQEBAQEBAQEBAQEBAQEBAQEBAQEBAQEBAQEBAQEBAQEBAQEBAQEBAQEBAQEBAQEBAQEBAQEBAQEBAQEBAQEBAQEBAQEBAQEBAQEBAQEBAQEBAQEBAQEBAQEBAQEBAQEBAQEBAQEBAQEBAQEBAQEBAQEBAQEBAQEBAQEBAQEBAQEBAQEBAQEBAQEBAQEBAQEBAQEBAQEBAQEBAQEBAQEBAQEBAQEBAQEBAQEBAQEBAQEBAQEBAQEBAQEBAQEBAQEBAQEBAQEBAQEBAQEBAQEBAQEBAQEBAQEBAQEBAQEBAQEBAQEBAQEBAQEBAQEBAQEBAQEBAQEBAQEBAQEBAQEBAQEBAQEBAQEBAQEBAQEBAQEBAQEBAQEBAQEBAQEBAQEBAQEBAQEBAQEBAQEBAQEBAQEBAQEBAQEBAQEBAQEBAQEBAQEBAQEBAQEBAQEBAQEBAQEBAQEBAQEBAQEBAQEBAQEBAQEBAQEBAQEBAQEBAQEBAQEBAQEBAQEBAQEBAQEBAQEBAQEBAQEBAQEBAQEBAQEBAQEBAQEBAQEBAQEBAQEBAQEBAQEBAQEBAQEBAQEBAQEBAQEBAQEBAQEBAQEBAQEBAQEBAQEBAQEBAQEBAQEBAQE=",
          "dtype": "i1"
         },
         "x0": " ",
         "xaxis": "x",
         "y": {
          "bdata": "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",
          "dtype": "f8"
         },
         "y0": " ",
         "yaxis": "y"
        },
        {
         "alignmentgroup": "True",
         "hovertemplate": "Startup Outcome=%{x}<br>Innovation Score=%{y}<extra></extra>",
         "legendgroup": "0",
         "marker": {
          "color": "red"
         },
         "name": "0",
         "notched": false,
         "offsetgroup": "0",
         "orientation": "v",
         "showlegend": true,
         "type": "box",
         "x": {
          "bdata": "AAAAAAAAAAAAAAAAAAAAAAAAAAAAAAAAAAAAAAAAAAAAAAAAAAAAAAAAAAAAAAAAAAAAAAAAAAAAAAAAAAAAAAAAAAAAAAAAAAAAAAAAAAAAAAAAAAAAAAAAAAAAAAAAAAAAAAAAAAAAAAAAAAAAAAAAAAAAAAAAAAAAAAAAAAAAAAAAAAAAAAAAAAAAAAAAAAAAAAAAAAAAAAAAAAAAAAAAAAAAAAAAAAAAAAAAAAAAAAAAAAAAAAAAAAAAAAAAAAAAAAAAAAAAAAAAAAAAAAAAAAAAAAAAAAAAAAAAAAAAAAAAAAAAAAAAAAAAAAAAAAAAAAAAAAAAAAAAAAAAAAAAAAAAAAAAAAAAAAAAAAAAAAAAAAAAAAAAAAAAAAAAAAAAAAAAAAAAAAAAAAAAAAAAAAAAAAAAAAAAAAAAAAAAAAAAAAAAAAAAAAAAAAAAAAAAAAAAAAAAAAAAAAAAAAAAAAAAAAAAAAAAAAAAAAAAAAAAAAAAAAAAAAAAAAAAAAAAAAAAAAAAAAAAAAAAAAAAAAAAAAAAAAAAAAAAAAAAAAAAAAAAAAAAAAAAAAAAAAAAAAAAAAAAAAAAAAAAAAAAAAAAAAAAAAAAAAAAAAAAAAAAAAAAAAAAAAAAAAAAAAAAAAAAAAAAAAAAAAAAAAAAAAAAAAAAAAAAAAAAAAAAAAAAAAAAAAAAAAAAAAAAAAAAAAAAAAAAAAAAAAAAAAAAAAAAAAAAAAAAAAAAAAAAAAAAAAAAAAAAAAAAAAAAAAAAAAAAAAAAAAAAAAAAAAAAAAAAAAAAAAAAAAAAAAAAAAAAAAAAAAAAAAAAAAAAAAAAAAAAAAAAAAAAAAAAAAAAAAAAAAAAAAAAAAAAAAAAAAAAAAAAAAAAAAAAAAAAAAAAAAAAAAAAAAAAAAAAAAAAAAAAAAAAAAAAAAAAAAAAAAAAAAAAAAAAAAAAAAAAAAAAAAAAAAAAAAAAAAAAAAAAAAAAAAAAAAAAAAAAAAAAAAAAAAAAAAAAAAAAAAAAAAAAAAAAAAAAAAAAAAAAAAAAAAAAAAAAAAAAAAAAAAAAAAAAAAAAAAAAAAAAAAAAAAAAAAAAAAAAAAAAAAAAAAAAAAAAAAAAAAAAAAAAAAAAAAAAAAAAAAAAAAAAAAAAAAAAAAAAAAAAAAAAAAAAAAAAAAAAAAAAAAAAAAAAAAAAAAAAAAAAAAAAAAAAAAAAAAAAAAAAAAAAAAAAAAAAAAAAAAAAAAAAAAAAAAAAAAAAAAAAAAAAAAAAAAAAAAAAAAAAAAAAAAAAAAAAAAAAAAAAAAAAAAAAAAAAAAAAAAAAAAAAAAAAAAAAAAAAAAAAAAAAAAAAAAAAAAAAAAAAAAAAAAAAAAAAAAAAAAAAAAAAAAAAAAAAAAAAAAAAAAAAAAAAAAAAAAAAAAAAAAAAAAAAAAAAAAAAAAAAAAAAAAAAAAAAAAAAAAAAAAAAAAAAAAAAAAAAAAAAAAAAAAAAAAAAAAAAAAAAAAAAAAAAAAAAAAAAAAAAAAAAAAAAAAAAAAAAAAAAAAAAAAAAAAAAAAAAAAAAAAAAAAAAAAAAAAAAAAAAAAAAAAAAAAAAAAAAAAAAAAAAAAAAAAAAAAAAAAAAAA==",
          "dtype": "i1"
         },
         "x0": " ",
         "xaxis": "x",
         "y": {
          "bdata": "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",
          "dtype": "f8"
         },
         "y0": " ",
         "yaxis": "y"
        }
       ],
       "layout": {
        "boxmode": "group",
        "legend": {
         "title": {
          "text": "Startup Outcome"
         },
         "tracegroupgap": 0
        },
        "template": {
         "data": {
          "bar": [
           {
            "error_x": {
             "color": "#2a3f5f"
            },
            "error_y": {
             "color": "#2a3f5f"
            },
            "marker": {
             "line": {
              "color": "#E5ECF6",
              "width": 0.5
             },
             "pattern": {
              "fillmode": "overlay",
              "size": 10,
              "solidity": 0.2
             }
            },
            "type": "bar"
           }
          ],
          "barpolar": [
           {
            "marker": {
             "line": {
              "color": "#E5ECF6",
              "width": 0.5
             },
             "pattern": {
              "fillmode": "overlay",
              "size": 10,
              "solidity": 0.2
             }
            },
            "type": "barpolar"
           }
          ],
          "carpet": [
           {
            "aaxis": {
             "endlinecolor": "#2a3f5f",
             "gridcolor": "white",
             "linecolor": "white",
             "minorgridcolor": "white",
             "startlinecolor": "#2a3f5f"
            },
            "baxis": {
             "endlinecolor": "#2a3f5f",
             "gridcolor": "white",
             "linecolor": "white",
             "minorgridcolor": "white",
             "startlinecolor": "#2a3f5f"
            },
            "type": "carpet"
           }
          ],
          "choropleth": [
           {
            "colorbar": {
             "outlinewidth": 0,
             "ticks": ""
            },
            "type": "choropleth"
           }
          ],
          "contour": [
           {
            "colorbar": {
             "outlinewidth": 0,
             "ticks": ""
            },
            "colorscale": [
             [
              0,
              "#0d0887"
             ],
             [
              0.1111111111111111,
              "#46039f"
             ],
             [
              0.2222222222222222,
              "#7201a8"
             ],
             [
              0.3333333333333333,
              "#9c179e"
             ],
             [
              0.4444444444444444,
              "#bd3786"
             ],
             [
              0.5555555555555556,
              "#d8576b"
             ],
             [
              0.6666666666666666,
              "#ed7953"
             ],
             [
              0.7777777777777778,
              "#fb9f3a"
             ],
             [
              0.8888888888888888,
              "#fdca26"
             ],
             [
              1,
              "#f0f921"
             ]
            ],
            "type": "contour"
           }
          ],
          "contourcarpet": [
           {
            "colorbar": {
             "outlinewidth": 0,
             "ticks": ""
            },
            "type": "contourcarpet"
           }
          ],
          "heatmap": [
           {
            "colorbar": {
             "outlinewidth": 0,
             "ticks": ""
            },
            "colorscale": [
             [
              0,
              "#0d0887"
             ],
             [
              0.1111111111111111,
              "#46039f"
             ],
             [
              0.2222222222222222,
              "#7201a8"
             ],
             [
              0.3333333333333333,
              "#9c179e"
             ],
             [
              0.4444444444444444,
              "#bd3786"
             ],
             [
              0.5555555555555556,
              "#d8576b"
             ],
             [
              0.6666666666666666,
              "#ed7953"
             ],
             [
              0.7777777777777778,
              "#fb9f3a"
             ],
             [
              0.8888888888888888,
              "#fdca26"
             ],
             [
              1,
              "#f0f921"
             ]
            ],
            "type": "heatmap"
           }
          ],
          "histogram": [
           {
            "marker": {
             "pattern": {
              "fillmode": "overlay",
              "size": 10,
              "solidity": 0.2
             }
            },
            "type": "histogram"
           }
          ],
          "histogram2d": [
           {
            "colorbar": {
             "outlinewidth": 0,
             "ticks": ""
            },
            "colorscale": [
             [
              0,
              "#0d0887"
             ],
             [
              0.1111111111111111,
              "#46039f"
             ],
             [
              0.2222222222222222,
              "#7201a8"
             ],
             [
              0.3333333333333333,
              "#9c179e"
             ],
             [
              0.4444444444444444,
              "#bd3786"
             ],
             [
              0.5555555555555556,
              "#d8576b"
             ],
             [
              0.6666666666666666,
              "#ed7953"
             ],
             [
              0.7777777777777778,
              "#fb9f3a"
             ],
             [
              0.8888888888888888,
              "#fdca26"
             ],
             [
              1,
              "#f0f921"
             ]
            ],
            "type": "histogram2d"
           }
          ],
          "histogram2dcontour": [
           {
            "colorbar": {
             "outlinewidth": 0,
             "ticks": ""
            },
            "colorscale": [
             [
              0,
              "#0d0887"
             ],
             [
              0.1111111111111111,
              "#46039f"
             ],
             [
              0.2222222222222222,
              "#7201a8"
             ],
             [
              0.3333333333333333,
              "#9c179e"
             ],
             [
              0.4444444444444444,
              "#bd3786"
             ],
             [
              0.5555555555555556,
              "#d8576b"
             ],
             [
              0.6666666666666666,
              "#ed7953"
             ],
             [
              0.7777777777777778,
              "#fb9f3a"
             ],
             [
              0.8888888888888888,
              "#fdca26"
             ],
             [
              1,
              "#f0f921"
             ]
            ],
            "type": "histogram2dcontour"
           }
          ],
          "mesh3d": [
           {
            "colorbar": {
             "outlinewidth": 0,
             "ticks": ""
            },
            "type": "mesh3d"
           }
          ],
          "parcoords": [
           {
            "line": {
             "colorbar": {
              "outlinewidth": 0,
              "ticks": ""
             }
            },
            "type": "parcoords"
           }
          ],
          "pie": [
           {
            "automargin": true,
            "type": "pie"
           }
          ],
          "scatter": [
           {
            "fillpattern": {
             "fillmode": "overlay",
             "size": 10,
             "solidity": 0.2
            },
            "type": "scatter"
           }
          ],
          "scatter3d": [
           {
            "line": {
             "colorbar": {
              "outlinewidth": 0,
              "ticks": ""
             }
            },
            "marker": {
             "colorbar": {
              "outlinewidth": 0,
              "ticks": ""
             }
            },
            "type": "scatter3d"
           }
          ],
          "scattercarpet": [
           {
            "marker": {
             "colorbar": {
              "outlinewidth": 0,
              "ticks": ""
             }
            },
            "type": "scattercarpet"
           }
          ],
          "scattergeo": [
           {
            "marker": {
             "colorbar": {
              "outlinewidth": 0,
              "ticks": ""
             }
            },
            "type": "scattergeo"
           }
          ],
          "scattergl": [
           {
            "marker": {
             "colorbar": {
              "outlinewidth": 0,
              "ticks": ""
             }
            },
            "type": "scattergl"
           }
          ],
          "scattermap": [
           {
            "marker": {
             "colorbar": {
              "outlinewidth": 0,
              "ticks": ""
             }
            },
            "type": "scattermap"
           }
          ],
          "scattermapbox": [
           {
            "marker": {
             "colorbar": {
              "outlinewidth": 0,
              "ticks": ""
             }
            },
            "type": "scattermapbox"
           }
          ],
          "scatterpolar": [
           {
            "marker": {
             "colorbar": {
              "outlinewidth": 0,
              "ticks": ""
             }
            },
            "type": "scatterpolar"
           }
          ],
          "scatterpolargl": [
           {
            "marker": {
             "colorbar": {
              "outlinewidth": 0,
              "ticks": ""
             }
            },
            "type": "scatterpolargl"
           }
          ],
          "scatterternary": [
           {
            "marker": {
             "colorbar": {
              "outlinewidth": 0,
              "ticks": ""
             }
            },
            "type": "scatterternary"
           }
          ],
          "surface": [
           {
            "colorbar": {
             "outlinewidth": 0,
             "ticks": ""
            },
            "colorscale": [
             [
              0,
              "#0d0887"
             ],
             [
              0.1111111111111111,
              "#46039f"
             ],
             [
              0.2222222222222222,
              "#7201a8"
             ],
             [
              0.3333333333333333,
              "#9c179e"
             ],
             [
              0.4444444444444444,
              "#bd3786"
             ],
             [
              0.5555555555555556,
              "#d8576b"
             ],
             [
              0.6666666666666666,
              "#ed7953"
             ],
             [
              0.7777777777777778,
              "#fb9f3a"
             ],
             [
              0.8888888888888888,
              "#fdca26"
             ],
             [
              1,
              "#f0f921"
             ]
            ],
            "type": "surface"
           }
          ],
          "table": [
           {
            "cells": {
             "fill": {
              "color": "#EBF0F8"
             },
             "line": {
              "color": "white"
             }
            },
            "header": {
             "fill": {
              "color": "#C8D4E3"
             },
             "line": {
              "color": "white"
             }
            },
            "type": "table"
           }
          ]
         },
         "layout": {
          "annotationdefaults": {
           "arrowcolor": "#2a3f5f",
           "arrowhead": 0,
           "arrowwidth": 1
          },
          "autotypenumbers": "strict",
          "coloraxis": {
           "colorbar": {
            "outlinewidth": 0,
            "ticks": ""
           }
          },
          "colorscale": {
           "diverging": [
            [
             0,
             "#8e0152"
            ],
            [
             0.1,
             "#c51b7d"
            ],
            [
             0.2,
             "#de77ae"
            ],
            [
             0.3,
             "#f1b6da"
            ],
            [
             0.4,
             "#fde0ef"
            ],
            [
             0.5,
             "#f7f7f7"
            ],
            [
             0.6,
             "#e6f5d0"
            ],
            [
             0.7,
             "#b8e186"
            ],
            [
             0.8,
             "#7fbc41"
            ],
            [
             0.9,
             "#4d9221"
            ],
            [
             1,
             "#276419"
            ]
           ],
           "sequential": [
            [
             0,
             "#0d0887"
            ],
            [
             0.1111111111111111,
             "#46039f"
            ],
            [
             0.2222222222222222,
             "#7201a8"
            ],
            [
             0.3333333333333333,
             "#9c179e"
            ],
            [
             0.4444444444444444,
             "#bd3786"
            ],
            [
             0.5555555555555556,
             "#d8576b"
            ],
            [
             0.6666666666666666,
             "#ed7953"
            ],
            [
             0.7777777777777778,
             "#fb9f3a"
            ],
            [
             0.8888888888888888,
             "#fdca26"
            ],
            [
             1,
             "#f0f921"
            ]
           ],
           "sequentialminus": [
            [
             0,
             "#0d0887"
            ],
            [
             0.1111111111111111,
             "#46039f"
            ],
            [
             0.2222222222222222,
             "#7201a8"
            ],
            [
             0.3333333333333333,
             "#9c179e"
            ],
            [
             0.4444444444444444,
             "#bd3786"
            ],
            [
             0.5555555555555556,
             "#d8576b"
            ],
            [
             0.6666666666666666,
             "#ed7953"
            ],
            [
             0.7777777777777778,
             "#fb9f3a"
            ],
            [
             0.8888888888888888,
             "#fdca26"
            ],
            [
             1,
             "#f0f921"
            ]
           ]
          },
          "colorway": [
           "#636efa",
           "#EF553B",
           "#00cc96",
           "#ab63fa",
           "#FFA15A",
           "#19d3f3",
           "#FF6692",
           "#B6E880",
           "#FF97FF",
           "#FECB52"
          ],
          "font": {
           "color": "#2a3f5f"
          },
          "geo": {
           "bgcolor": "white",
           "lakecolor": "white",
           "landcolor": "#E5ECF6",
           "showlakes": true,
           "showland": true,
           "subunitcolor": "white"
          },
          "hoverlabel": {
           "align": "left"
          },
          "hovermode": "closest",
          "mapbox": {
           "style": "light"
          },
          "paper_bgcolor": "white",
          "plot_bgcolor": "#E5ECF6",
          "polar": {
           "angularaxis": {
            "gridcolor": "white",
            "linecolor": "white",
            "ticks": ""
           },
           "bgcolor": "#E5ECF6",
           "radialaxis": {
            "gridcolor": "white",
            "linecolor": "white",
            "ticks": ""
           }
          },
          "scene": {
           "xaxis": {
            "backgroundcolor": "#E5ECF6",
            "gridcolor": "white",
            "gridwidth": 2,
            "linecolor": "white",
            "showbackground": true,
            "ticks": "",
            "zerolinecolor": "white"
           },
           "yaxis": {
            "backgroundcolor": "#E5ECF6",
            "gridcolor": "white",
            "gridwidth": 2,
            "linecolor": "white",
            "showbackground": true,
            "ticks": "",
            "zerolinecolor": "white"
           },
           "zaxis": {
            "backgroundcolor": "#E5ECF6",
            "gridcolor": "white",
            "gridwidth": 2,
            "linecolor": "white",
            "showbackground": true,
            "ticks": "",
            "zerolinecolor": "white"
           }
          },
          "shapedefaults": {
           "line": {
            "color": "#2a3f5f"
           }
          },
          "ternary": {
           "aaxis": {
            "gridcolor": "white",
            "linecolor": "white",
            "ticks": ""
           },
           "baxis": {
            "gridcolor": "white",
            "linecolor": "white",
            "ticks": ""
           },
           "bgcolor": "#E5ECF6",
           "caxis": {
            "gridcolor": "white",
            "linecolor": "white",
            "ticks": ""
           }
          },
          "title": {
           "x": 0.05
          },
          "xaxis": {
           "automargin": true,
           "gridcolor": "white",
           "linecolor": "white",
           "ticks": "",
           "title": {
            "standoff": 15
           },
           "zerolinecolor": "white",
           "zerolinewidth": 2
          },
          "yaxis": {
           "automargin": true,
           "gridcolor": "white",
           "linecolor": "white",
           "ticks": "",
           "title": {
            "standoff": 15
           },
           "zerolinecolor": "white",
           "zerolinewidth": 2
          }
         }
        },
        "title": {
         "text": "Innovation Score vs Startup Success"
        },
        "xaxis": {
         "anchor": "y",
         "categoryarray": [
          1,
          0
         ],
         "categoryorder": "array",
         "domain": [
          0,
          1
         ],
         "title": {
          "text": "Startup Outcome"
         }
        },
        "yaxis": {
         "anchor": "x",
         "domain": [
          0,
          1
         ],
         "title": {
          "text": "Innovation Score"
         }
        }
       }
      },
      "image/png": "[encoded data removed]"
     },
     "metadata": {},
     "output_type": "display_data"
    }
   ],
   "source": [
    "fig1 = px.box(df, x='success_label', y='funding_amount_usd',\n",
    "              title='Funding Amount vs Startup Success',\n",
    "              labels={'success_label': 'Startup Outcome', 'funding_amount_usd': 'Funding Amount (USD)'},\n",
    "              color='success_label', \n",
    "              color_discrete_map={0: 'red', 1: 'green'},\n",
    "              boxmode='group')  \n",
    "fig1.show()\n",
    "\n",
    "fig2 = px.box(df, x='success_label', y='innovation_score',\n",
    "              title='Innovation Score vs Startup Success',\n",
    "              labels={'success_label': 'Startup Outcome', 'innovation_score': 'Innovation Score'},\n",
    "              color='success_label',\n",
    "              color_discrete_map={0: 'red', 1: 'green'},\n",
    "              boxmode='group') \n",
    "fig2.show()"
   ]
  },
  {
   "cell_type": "code",
   "execution_count": 20,
   "id": "dfbd482c-1d70-495b-8f9c-e13cbbbe7a71",
   "metadata": {},
   "outputs": [
    {
     "data": {
      "application/vnd.plotly.v1+json": {
       "config": {
        "plotlyServerURL": "https://plot.ly"
       },
       "data": [
        {
         "histnorm": "density",
         "legendgroup": "Failure",
         "marker": {
          "color": "#e34234"
         },
         "name": "Failure",
         "nbinsx": 20,
         "opacity": 0.6,
         "type": "histogram",
         "x": {
          "bdata": "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",
          "dtype": "f8"
         }
        },
        {
         "histnorm": "density",
         "legendgroup": "Success",
         "marker": {
          "color": "green"
         },
         "name": "Success",
         "nbinsx": 20,
         "opacity": 0.6,
         "type": "histogram",
         "x": {
          "bdata": "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",
          "dtype": "f8"
         }
        }
       ],
       "layout": {
        "barmode": "overlay",
        "legend": {
         "title": {
          "text": "Startup Outcome"
         }
        },
        "template": {
         "data": {
          "bar": [
           {
            "error_x": {
             "color": "#2a3f5f"
            },
            "error_y": {
             "color": "#2a3f5f"
            },
            "marker": {
             "line": {
              "color": "white",
              "width": 0.5
             },
             "pattern": {
              "fillmode": "overlay",
              "size": 10,
              "solidity": 0.2
             }
            },
            "type": "bar"
           }
          ],
          "barpolar": [
           {
            "marker": {
             "line": {
              "color": "white",
              "width": 0.5
             },
             "pattern": {
              "fillmode": "overlay",
              "size": 10,
              "solidity": 0.2
             }
            },
            "type": "barpolar"
           }
          ],
          "carpet": [
           {
            "aaxis": {
             "endlinecolor": "#2a3f5f",
             "gridcolor": "#C8D4E3",
             "linecolor": "#C8D4E3",
             "minorgridcolor": "#C8D4E3",
             "startlinecolor": "#2a3f5f"
            },
            "baxis": {
             "endlinecolor": "#2a3f5f",
             "gridcolor": "#C8D4E3",
             "linecolor": "#C8D4E3",
             "minorgridcolor": "#C8D4E3",
             "startlinecolor": "#2a3f5f"
            },
            "type": "carpet"
           }
          ],
          "choropleth": [
           {
            "colorbar": {
             "outlinewidth": 0,
             "ticks": ""
            },
            "type": "choropleth"
           }
          ],
          "contour": [
           {
            "colorbar": {
             "outlinewidth": 0,
             "ticks": ""
            },
            "colorscale": [
             [
              0,
              "#0d0887"
             ],
             [
              0.1111111111111111,
              "#46039f"
             ],
             [
              0.2222222222222222,
              "#7201a8"
             ],
             [
              0.3333333333333333,
              "#9c179e"
             ],
             [
              0.4444444444444444,
              "#bd3786"
             ],
             [
              0.5555555555555556,
              "#d8576b"
             ],
             [
              0.6666666666666666,
              "#ed7953"
             ],
             [
              0.7777777777777778,
              "#fb9f3a"
             ],
             [
              0.8888888888888888,
              "#fdca26"
             ],
             [
              1,
              "#f0f921"
             ]
            ],
            "type": "contour"
           }
          ],
          "contourcarpet": [
           {
            "colorbar": {
             "outlinewidth": 0,
             "ticks": ""
            },
            "type": "contourcarpet"
           }
          ],
          "heatmap": [
           {
            "colorbar": {
             "outlinewidth": 0,
             "ticks": ""
            },
            "colorscale": [
             [
              0,
              "#0d0887"
             ],
             [
              0.1111111111111111,
              "#46039f"
             ],
             [
              0.2222222222222222,
              "#7201a8"
             ],
             [
              0.3333333333333333,
              "#9c179e"
             ],
             [
              0.4444444444444444,
              "#bd3786"
             ],
             [
              0.5555555555555556,
              "#d8576b"
             ],
             [
              0.6666666666666666,
              "#ed7953"
             ],
             [
              0.7777777777777778,
              "#fb9f3a"
             ],
             [
              0.8888888888888888,
              "#fdca26"
             ],
             [
              1,
              "#f0f921"
             ]
            ],
            "type": "heatmap"
           }
          ],
          "histogram": [
           {
            "marker": {
             "pattern": {
              "fillmode": "overlay",
              "size": 10,
              "solidity": 0.2
             }
            },
            "type": "histogram"
           }
          ],
          "histogram2d": [
           {
            "colorbar": {
             "outlinewidth": 0,
             "ticks": ""
            },
            "colorscale": [
             [
              0,
              "#0d0887"
             ],
             [
              0.1111111111111111,
              "#46039f"
             ],
             [
              0.2222222222222222,
              "#7201a8"
             ],
             [
              0.3333333333333333,
              "#9c179e"
             ],
             [
              0.4444444444444444,
              "#bd3786"
             ],
             [
              0.5555555555555556,
              "#d8576b"
             ],
             [
              0.6666666666666666,
              "#ed7953"
             ],
             [
              0.7777777777777778,
              "#fb9f3a"
             ],
             [
              0.8888888888888888,
              "#fdca26"
             ],
             [
              1,
              "#f0f921"
             ]
            ],
            "type": "histogram2d"
           }
          ],
          "histogram2dcontour": [
           {
            "colorbar": {
             "outlinewidth": 0,
             "ticks": ""
            },
            "colorscale": [
             [
              0,
              "#0d0887"
             ],
             [
              0.1111111111111111,
              "#46039f"
             ],
             [
              0.2222222222222222,
              "#7201a8"
             ],
             [
              0.3333333333333333,
              "#9c179e"
             ],
             [
              0.4444444444444444,
              "#bd3786"
             ],
             [
              0.5555555555555556,
              "#d8576b"
             ],
             [
              0.6666666666666666,
              "#ed7953"
             ],
             [
              0.7777777777777778,
              "#fb9f3a"
             ],
             [
              0.8888888888888888,
              "#fdca26"
             ],
             [
              1,
              "#f0f921"
             ]
            ],
            "type": "histogram2dcontour"
           }
          ],
          "mesh3d": [
           {
            "colorbar": {
             "outlinewidth": 0,
             "ticks": ""
            },
            "type": "mesh3d"
           }
          ],
          "parcoords": [
           {
            "line": {
             "colorbar": {
              "outlinewidth": 0,
              "ticks": ""
             }
            },
            "type": "parcoords"
           }
          ],
          "pie": [
           {
            "automargin": true,
            "type": "pie"
           }
          ],
          "scatter": [
           {
            "fillpattern": {
             "fillmode": "overlay",
             "size": 10,
             "solidity": 0.2
            },
            "type": "scatter"
           }
          ],
          "scatter3d": [
           {
            "line": {
             "colorbar": {
              "outlinewidth": 0,
              "ticks": ""
             }
            },
            "marker": {
             "colorbar": {
              "outlinewidth": 0,
              "ticks": ""
             }
            },
            "type": "scatter3d"
           }
          ],
          "scattercarpet": [
           {
            "marker": {
             "colorbar": {
              "outlinewidth": 0,
              "ticks": ""
             }
            },
            "type": "scattercarpet"
           }
          ],
          "scattergeo": [
           {
            "marker": {
             "colorbar": {
              "outlinewidth": 0,
              "ticks": ""
             }
            },
            "type": "scattergeo"
           }
          ],
          "scattergl": [
           {
            "marker": {
             "colorbar": {
              "outlinewidth": 0,
              "ticks": ""
             }
            },
            "type": "scattergl"
           }
          ],
          "scattermap": [
           {
            "marker": {
             "colorbar": {
              "outlinewidth": 0,
              "ticks": ""
             }
            },
            "type": "scattermap"
           }
          ],
          "scattermapbox": [
           {
            "marker": {
             "colorbar": {
              "outlinewidth": 0,
              "ticks": ""
             }
            },
            "type": "scattermapbox"
           }
          ],
          "scatterpolar": [
           {
            "marker": {
             "colorbar": {
              "outlinewidth": 0,
              "ticks": ""
             }
            },
            "type": "scatterpolar"
           }
          ],
          "scatterpolargl": [
           {
            "marker": {
             "colorbar": {
              "outlinewidth": 0,
              "ticks": ""
             }
            },
            "type": "scatterpolargl"
           }
          ],
          "scatterternary": [
           {
            "marker": {
             "colorbar": {
              "outlinewidth": 0,
              "ticks": ""
             }
            },
            "type": "scatterternary"
           }
          ],
          "surface": [
           {
            "colorbar": {
             "outlinewidth": 0,
             "ticks": ""
            },
            "colorscale": [
             [
              0,
              "#0d0887"
             ],
             [
              0.1111111111111111,
              "#46039f"
             ],
             [
              0.2222222222222222,
              "#7201a8"
             ],
             [
              0.3333333333333333,
              "#9c179e"
             ],
             [
              0.4444444444444444,
              "#bd3786"
             ],
             [
              0.5555555555555556,
              "#d8576b"
             ],
             [
              0.6666666666666666,
              "#ed7953"
             ],
             [
              0.7777777777777778,
              "#fb9f3a"
             ],
             [
              0.8888888888888888,
              "#fdca26"
             ],
             [
              1,
              "#f0f921"
             ]
            ],
            "type": "surface"
           }
          ],
          "table": [
           {
            "cells": {
             "fill": {
              "color": "#EBF0F8"
             },
             "line": {
              "color": "white"
             }
            },
            "header": {
             "fill": {
              "color": "#C8D4E3"
             },
             "line": {
              "color": "white"
             }
            },
            "type": "table"
           }
          ]
         },
         "layout": {
          "annotationdefaults": {
           "arrowcolor": "#2a3f5f",
           "arrowhead": 0,
           "arrowwidth": 1
          },
          "autotypenumbers": "strict",
          "coloraxis": {
           "colorbar": {
            "outlinewidth": 0,
            "ticks": ""
           }
          },
          "colorscale": {
           "diverging": [
            [
             0,
             "#8e0152"
            ],
            [
             0.1,
             "#c51b7d"
            ],
            [
             0.2,
             "#de77ae"
            ],
            [
             0.3,
             "#f1b6da"
            ],
            [
             0.4,
             "#fde0ef"
            ],
            [
             0.5,
             "#f7f7f7"
            ],
            [
             0.6,
             "#e6f5d0"
            ],
            [
             0.7,
             "#b8e186"
            ],
            [
             0.8,
             "#7fbc41"
            ],
            [
             0.9,
             "#4d9221"
            ],
            [
             1,
             "#276419"
            ]
           ],
           "sequential": [
            [
             0,
             "#0d0887"
            ],
            [
             0.1111111111111111,
             "#46039f"
            ],
            [
             0.2222222222222222,
             "#7201a8"
            ],
            [
             0.3333333333333333,
             "#9c179e"
            ],
            [
             0.4444444444444444,
             "#bd3786"
            ],
            [
             0.5555555555555556,
             "#d8576b"
            ],
            [
             0.6666666666666666,
             "#ed7953"
            ],
            [
             0.7777777777777778,
             "#fb9f3a"
            ],
            [
             0.8888888888888888,
             "#fdca26"
            ],
            [
             1,
             "#f0f921"
            ]
           ],
           "sequentialminus": [
            [
             0,
             "#0d0887"
            ],
            [
             0.1111111111111111,
             "#46039f"
            ],
            [
             0.2222222222222222,
             "#7201a8"
            ],
            [
             0.3333333333333333,
             "#9c179e"
            ],
            [
             0.4444444444444444,
             "#bd3786"
            ],
            [
             0.5555555555555556,
             "#d8576b"
            ],
            [
             0.6666666666666666,
             "#ed7953"
            ],
            [
             0.7777777777777778,
             "#fb9f3a"
            ],
            [
             0.8888888888888888,
             "#fdca26"
            ],
            [
             1,
             "#f0f921"
            ]
           ]
          },
          "colorway": [
           "#636efa",
           "#EF553B",
           "#00cc96",
           "#ab63fa",
           "#FFA15A",
           "#19d3f3",
           "#FF6692",
           "#B6E880",
           "#FF97FF",
           "#FECB52"
          ],
          "font": {
           "color": "#2a3f5f"
          },
          "geo": {
           "bgcolor": "white",
           "lakecolor": "white",
           "landcolor": "white",
           "showlakes": true,
           "showland": true,
           "subunitcolor": "#C8D4E3"
          },
          "hoverlabel": {
           "align": "left"
          },
          "hovermode": "closest",
          "mapbox": {
           "style": "light"
          },
          "paper_bgcolor": "white",
          "plot_bgcolor": "white",
          "polar": {
           "angularaxis": {
            "gridcolor": "#EBF0F8",
            "linecolor": "#EBF0F8",
            "ticks": ""
           },
           "bgcolor": "white",
           "radialaxis": {
            "gridcolor": "#EBF0F8",
            "linecolor": "#EBF0F8",
            "ticks": ""
           }
          },
          "scene": {
           "xaxis": {
            "backgroundcolor": "white",
            "gridcolor": "#DFE8F3",
            "gridwidth": 2,
            "linecolor": "#EBF0F8",
            "showbackground": true,
            "ticks": "",
            "zerolinecolor": "#EBF0F8"
           },
           "yaxis": {
            "backgroundcolor": "white",
            "gridcolor": "#DFE8F3",
            "gridwidth": 2,
            "linecolor": "#EBF0F8",
            "showbackground": true,
            "ticks": "",
            "zerolinecolor": "#EBF0F8"
           },
           "zaxis": {
            "backgroundcolor": "white",
            "gridcolor": "#DFE8F3",
            "gridwidth": 2,
            "linecolor": "#EBF0F8",
            "showbackground": true,
            "ticks": "",
            "zerolinecolor": "#EBF0F8"
           }
          },
          "shapedefaults": {
           "line": {
            "color": "#2a3f5f"
           }
          },
          "ternary": {
           "aaxis": {
            "gridcolor": "#DFE8F3",
            "linecolor": "#A2B1C6",
            "ticks": ""
           },
           "baxis": {
            "gridcolor": "#DFE8F3",
            "linecolor": "#A2B1C6",
            "ticks": ""
           },
           "bgcolor": "white",
           "caxis": {
            "gridcolor": "#DFE8F3",
            "linecolor": "#A2B1C6",
            "ticks": ""
           }
          },
          "title": {
           "x": 0.05
          },
          "xaxis": {
           "automargin": true,
           "gridcolor": "#EBF0F8",
           "linecolor": "#EBF0F8",
           "ticks": "",
           "title": {
            "standoff": 15
           },
           "zerolinecolor": "#EBF0F8",
           "zerolinewidth": 2
          },
          "yaxis": {
           "automargin": true,
           "gridcolor": "#EBF0F8",
           "linecolor": "#EBF0F8",
           "ticks": "",
           "title": {
            "standoff": 15
           },
           "zerolinecolor": "#EBF0F8",
           "zerolinewidth": 2
          }
         }
        },
        "title": {
         "text": "KDE Plot for Average Team Experience by Startup Success"
        },
        "xaxis": {
         "title": {
          "text": "Average Team Experience"
         }
        },
        "yaxis": {
         "title": {
          "text": "Density"
         }
        }
       }
      }
     },
     "metadata": {},
     "output_type": "display_data"
    }
   ],
   "source": [
    "fig1 = go.Figure()\n",
    "\n",
    "fig1.add_trace(go.Histogram(\n",
    "    x=df[df['success_label'] == 0]['avg_team_experience'], \n",
    "    histnorm='density',\n",
    "    name='Failure',\n",
    "    opacity=0.6, \n",
    "    nbinsx=20,  \n",
    "    marker_color='#e34234', \n",
    "    legendgroup='Failure'\n",
    "))\n",
    "\n",
    "fig1.add_trace(go.Histogram(\n",
    "    x=df[df['success_label'] == 1]['avg_team_experience'], \n",
    "    histnorm='density',\n",
    "    name='Success',\n",
    "    opacity=0.6,  \n",
    "    nbinsx=20,  \n",
    "    marker_color='green',  \n",
    "    legendgroup='Success'\n",
    "))\n",
    "\n",
    "fig1.update_layout(\n",
    "    title=\"KDE Plot for Average Team Experience by Startup Success\",\n",
    "    xaxis_title=\"Average Team Experience\",\n",
    "    yaxis_title=\"Density\",\n",
    "    barmode='overlay',\n",
    "    legend_title=\"Startup Outcome\",\n",
    "    template=\"plotly_white\"\n",
    ")\n",
    "\n",
    "fig1.show()"
   ]
  },
  {
   "cell_type": "code",
   "execution_count": 21,
   "id": "972c75af-c128-40a4-b7cd-293883a9182a",
   "metadata": {},
   "outputs": [
    {
     "data": {
      "text/plain": [
       "<Axes: xlabel='business_model_score', ylabel='Density'>"
      ]
     },
     "execution_count": 21,
     "metadata": {},
     "output_type": "execute_result"
    },
    {
     "data": {
      "image/png": "[encoded data removed]",
      "text/plain": [
       "<Figure size 640x480 with 1 Axes>"
      ]
     },
     "metadata": {},
     "output_type": "display_data"
    }
   ],
   "source": [
    "sns.kdeplot(data=df, x='business_model_score', hue='success_label', common_norm=False, fill=True, palette='Set2')\n"
   ]
  },
  {
   "cell_type": "code",
   "execution_count": 22,
   "id": "9fc685e9-0a78-4ad5-a750-7e92f25044db",
   "metadata": {},
   "outputs": [
    {
     "data": {
      "application/vnd.plotly.v1+json": {
       "config": {
        "plotlyServerURL": "https://plot.ly"
       },
       "data": [
        {
         "legendgroup": "Fail (0)",
         "line": {
          "color": "red"
         },
         "mode": "lines+markers",
         "name": "Fail (0)",
         "showlegend": true,
         "type": "scatter",
         "x": {
          "bdata": "4wfkB+UH5gfnBw==",
          "dtype": "i2"
         },
         "xaxis": "x",
         "y": {
          "bdata": "Atuh8XzqAUAGQFHVyXEBQN2C2kf25wFA+cWSXyz5AUCA42FflFgCQA==",
          "dtype": "f8"
         },
         "yaxis": "y"
        },
        {
         "legendgroup": "Success (1)",
         "line": {
          "color": "green"
         },
         "mode": "lines+markers",
         "name": "Success (1)",
         "showlegend": true,
         "type": "scatter",
         "x": {
          "bdata": "4wfkB+UH5gfnBw==",
          "dtype": "i2"
         },
         "xaxis": "x",
         "y": {
          "bdata": "9ZVpcKqXAkAD9nbbeKQCQJggqTG6QgNAZoQo5IbLAUA8RRGNz1YCQA==",
          "dtype": "f8"
         },
         "yaxis": "y"
        },
        {
         "legendgroup": "Fail (0)",
         "line": {
          "color": "red"
         },
         "mode": "lines+markers",
         "name": "Fail (0)",
         "showlegend": false,
         "type": "scatter",
         "x": {
          "bdata": "4wfkB+UH5gfnBw==",
          "dtype": "i2"
         },
         "xaxis": "x2",
         "y": {
          "bdata": "IzbGl8jJ4j/bfxgARVXjP3eaAjvk3+I/5KWbxCCw4j8VPgv17gHjPw==",
          "dtype": "f8"
         },
         "yaxis": "y2"
        },
        {
         "legendgroup": "Success (1)",
         "line": {
          "color": "green"
         },
         "mode": "lines+markers",
         "name": "Success (1)",
         "showlegend": false,
         "type": "scatter",
         "x": {
          "bdata": "4wfkB+UH5gfnBw==",
          "dtype": "i2"
         },
         "xaxis": "x2",
         "y": {
          "bdata": "conUUgTp5j91a35YpAzoP2Fyg5Sltuc/MCd8bebt5j/Z3HElgXnnPw==",
          "dtype": "f8"
         },
         "yaxis": "y2"
        },
        {
         "legendgroup": "Fail (0)",
         "line": {
          "color": "red"
         },
         "mode": "lines+markers",
         "name": "Fail (0)",
         "showlegend": false,
         "type": "scatter",
         "x": {
          "bdata": "4wfkB+UH5gfnBw==",
          "dtype": "i2"
         },
         "xaxis": "x3",
         "y": {
          "bdata": "JJcQBz8H1UBzK144iSXVQISCsG3YHNRAIfrIwMRm1EDWL7wkMWXSQA==",
          "dtype": "f8"
         },
         "yaxis": "y3"
        },
        {
         "legendgroup": "Success (1)",
         "line": {
          "color": "green"
         },
         "mode": "lines+markers",
         "name": "Success (1)",
         "showlegend": false,
         "type": "scatter",
         "x": {
          "bdata": "4wfkB+UH5gfnBw==",
          "dtype": "i2"
         },
         "xaxis": "x3",
         "y": {
          "bdata": "SljMpvvS3kAlfJoqUwrgQM9GvjVNF99AgeG2mKnI3kA1Hk+P00ffQA==",
          "dtype": "f8"
         },
         "yaxis": "y3"
        },
        {
         "legendgroup": "Fail (0)",
         "line": {
          "color": "red"
         },
         "mode": "lines+markers",
         "name": "Fail (0)",
         "showlegend": false,
         "type": "scatter",
         "x": {
          "bdata": "4wfkB+UH5gfnBw==",
          "dtype": "i2"
         },
         "xaxis": "x4",
         "y": {
          "bdata": "t6QtaUvaBkCv5eBmvxAHQIKGk7ovjwVAo5GAb15NBEDpoosuuugGQA==",
          "dtype": "f8"
         },
         "yaxis": "y4"
        },
        {
         "legendgroup": "Success (1)",
         "line": {
          "color": "green"
         },
         "mode": "lines+markers",
         "name": "Success (1)",
         "showlegend": false,
         "type": "scatter",
         "x": {
          "bdata": "4wfkB+UH5gfnBw==",
          "dtype": "i2"
         },
         "xaxis": "x4",
         "y": {
          "bdata": "x3Ecx3EcCUADT7fmh0UKQPmjTvmjTglAISh7XxOCCkDXHy+DUcAJQA==",
          "dtype": "f8"
         },
         "yaxis": "y4"
        },
        {
         "legendgroup": "Fail (0)",
         "line": {
          "color": "red"
         },
         "mode": "lines+markers",
         "name": "Fail (0)",
         "showlegend": false,
         "type": "scatter",
         "x": {
          "bdata": "4wfkB+UH5gfnBw==",
          "dtype": "i2"
         },
         "xaxis": "x5",
         "y": {
          "bdata": "rYVMnCeV4T9+FldGG9HhPz4fxLJ+4uE/cKfpAsDt4D9VhHi76t7hPw==",
          "dtype": "f8"
         },
         "yaxis": "y5"
        },
        {
         "legendgroup": "Success (1)",
         "line": {
          "color": "green"
         },
         "mode": "lines+markers",
         "name": "Success (1)",
         "showlegend": false,
         "type": "scatter",
         "x": {
          "bdata": "4wfkB+UH5gfnBw==",
          "dtype": "i2"
         },
         "xaxis": "x5",
         "y": {
          "bdata": "hOav33Vy5T/UX3p4r3TlP6VP+qRP+uQ/aIMaERun5T+G/vxaRrvkPw==",
          "dtype": "f8"
         },
         "yaxis": "y5"
        },
        {
         "legendgroup": "Fail (0)",
         "line": {
          "color": "red"
         },
         "mode": "lines+markers",
         "name": "Fail (0)",
         "showlegend": false,
         "type": "scatter",
         "x": {
          "bdata": "4wfkB+UH5gfnBw==",
          "dtype": "i2"
         },
         "xaxis": "x6",
         "y": {
          "bdata": "l7QlbUlbBkBu9guxojQGQPPYiqDhpAZAdbn9QYbKBkCDWVIOiAwHQA==",
          "dtype": "f8"
         },
         "yaxis": "y6"
        },
        {
         "legendgroup": "Success (1)",
         "line": {
          "color": "green"
         },
         "mode": "lines+markers",
         "name": "Success (1)",
         "showlegend": false,
         "type": "scatter",
         "x": {
          "bdata": "4wfkB+UH5gfnBw==",
          "dtype": "i2"
         },
         "xaxis": "x6",
         "y": {
          "bdata": "mpmZmZmZC0C35odFysALQAxhtgthtgtAcKc/YgF3CkDN5/rjZTAKQA==",
          "dtype": "f8"
         },
         "yaxis": "y6"
        }
       ],
       "layout": {
        "annotations": [
         {
          "font": {
           "size": 16
          },
          "showarrow": false,
          "text": "avg_team_experience",
          "x": 0.15,
          "xanchor": "center",
          "xref": "paper",
          "y": 1,
          "yanchor": "bottom",
          "yref": "paper"
         },
         {
          "font": {
           "size": 16
          },
          "showarrow": false,
          "text": "innovation_score",
          "x": 0.49999999999999994,
          "xanchor": "center",
          "xref": "paper",
          "y": 1,
          "yanchor": "bottom",
          "yref": "paper"
         },
         {
          "font": {
           "size": 16
          },
          "showarrow": false,
          "text": "funding_amount_usd",
          "x": 0.85,
          "xanchor": "center",
          "xref": "paper",
          "y": 1,
          "yanchor": "bottom",
          "yref": "paper"
         },
         {
          "font": {
           "size": 16
          },
          "showarrow": false,
          "text": "market_readiness_level",
          "x": 0.15,
          "xanchor": "center",
          "xref": "paper",
          "y": 0.425,
          "yanchor": "bottom",
          "yref": "paper"
         },
         {
          "font": {
           "size": 16
          },
          "showarrow": false,
          "text": "business_model_score",
          "x": 0.49999999999999994,
          "xanchor": "center",
          "xref": "paper",
          "y": 0.425,
          "yanchor": "bottom",
          "yref": "paper"
         },
         {
          "font": {
           "size": 16
          },
          "showarrow": false,
          "text": "technology_maturity",
          "x": 0.85,
          "xanchor": "center",
          "xref": "paper",
          "y": 0.425,
          "yanchor": "bottom",
          "yref": "paper"
         }
        ],
        "height": 800,
        "showlegend": true,
        "template": {
         "data": {
          "bar": [
           {
            "error_x": {
             "color": "#2a3f5f"
            },
            "error_y": {
             "color": "#2a3f5f"
            },
            "marker": {
             "line": {
              "color": "#E5ECF6",
              "width": 0.5
             },
             "pattern": {
              "fillmode": "overlay",
              "size": 10,
              "solidity": 0.2
             }
            },
            "type": "bar"
           }
          ],
          "barpolar": [
           {
            "marker": {
             "line": {
              "color": "#E5ECF6",
              "width": 0.5
             },
             "pattern": {
              "fillmode": "overlay",
              "size": 10,
              "solidity": 0.2
             }
            },
            "type": "barpolar"
           }
          ],
          "carpet": [
           {
            "aaxis": {
             "endlinecolor": "#2a3f5f",
             "gridcolor": "white",
             "linecolor": "white",
             "minorgridcolor": "white",
             "startlinecolor": "#2a3f5f"
            },
            "baxis": {
             "endlinecolor": "#2a3f5f",
             "gridcolor": "white",
             "linecolor": "white",
             "minorgridcolor": "white",
             "startlinecolor": "#2a3f5f"
            },
            "type": "carpet"
           }
          ],
          "choropleth": [
           {
            "colorbar": {
             "outlinewidth": 0,
             "ticks": ""
            },
            "type": "choropleth"
           }
          ],
          "contour": [
           {
            "colorbar": {
             "outlinewidth": 0,
             "ticks": ""
            },
            "colorscale": [
             [
              0,
              "#0d0887"
             ],
             [
              0.1111111111111111,
              "#46039f"
             ],
             [
              0.2222222222222222,
              "#7201a8"
             ],
             [
              0.3333333333333333,
              "#9c179e"
             ],
             [
              0.4444444444444444,
              "#bd3786"
             ],
             [
              0.5555555555555556,
              "#d8576b"
             ],
             [
              0.6666666666666666,
              "#ed7953"
             ],
             [
              0.7777777777777778,
              "#fb9f3a"
             ],
             [
              0.8888888888888888,
              "#fdca26"
             ],
             [
              1,
              "#f0f921"
             ]
            ],
            "type": "contour"
           }
          ],
          "contourcarpet": [
           {
            "colorbar": {
             "outlinewidth": 0,
             "ticks": ""
            },
            "type": "contourcarpet"
           }
          ],
          "heatmap": [
           {
            "colorbar": {
             "outlinewidth": 0,
             "ticks": ""
            },
            "colorscale": [
             [
              0,
              "#0d0887"
             ],
             [
              0.1111111111111111,
              "#46039f"
             ],
             [
              0.2222222222222222,
              "#7201a8"
             ],
             [
              0.3333333333333333,
              "#9c179e"
             ],
             [
              0.4444444444444444,
              "#bd3786"
             ],
             [
              0.5555555555555556,
              "#d8576b"
             ],
             [
              0.6666666666666666,
              "#ed7953"
             ],
             [
              0.7777777777777778,
              "#fb9f3a"
             ],
             [
              0.8888888888888888,
              "#fdca26"
             ],
             [
              1,
              "#f0f921"
             ]
            ],
            "type": "heatmap"
           }
          ],
          "histogram": [
           {
            "marker": {
             "pattern": {
              "fillmode": "overlay",
              "size": 10,
              "solidity": 0.2
             }
            },
            "type": "histogram"
           }
          ],
          "histogram2d": [
           {
            "colorbar": {
             "outlinewidth": 0,
             "ticks": ""
            },
            "colorscale": [
             [
              0,
              "#0d0887"
             ],
             [
              0.1111111111111111,
              "#46039f"
             ],
             [
              0.2222222222222222,
              "#7201a8"
             ],
             [
              0.3333333333333333,
              "#9c179e"
             ],
             [
              0.4444444444444444,
              "#bd3786"
             ],
             [
              0.5555555555555556,
              "#d8576b"
             ],
             [
              0.6666666666666666,
              "#ed7953"
             ],
             [
              0.7777777777777778,
              "#fb9f3a"
             ],
             [
              0.8888888888888888,
              "#fdca26"
             ],
             [
              1,
              "#f0f921"
             ]
            ],
            "type": "histogram2d"
           }
          ],
          "histogram2dcontour": [
           {
            "colorbar": {
             "outlinewidth": 0,
             "ticks": ""
            },
            "colorscale": [
             [
              0,
              "#0d0887"
             ],
             [
              0.1111111111111111,
              "#46039f"
             ],
             [
              0.2222222222222222,
              "#7201a8"
             ],
             [
              0.3333333333333333,
              "#9c179e"
             ],
             [
              0.4444444444444444,
              "#bd3786"
             ],
             [
              0.5555555555555556,
              "#d8576b"
             ],
             [
              0.6666666666666666,
              "#ed7953"
             ],
             [
              0.7777777777777778,
              "#fb9f3a"
             ],
             [
              0.8888888888888888,
              "#fdca26"
             ],
             [
              1,
              "#f0f921"
             ]
            ],
            "type": "histogram2dcontour"
           }
          ],
          "mesh3d": [
           {
            "colorbar": {
             "outlinewidth": 0,
             "ticks": ""
            },
            "type": "mesh3d"
           }
          ],
          "parcoords": [
           {
            "line": {
             "colorbar": {
              "outlinewidth": 0,
              "ticks": ""
             }
            },
            "type": "parcoords"
           }
          ],
          "pie": [
           {
            "automargin": true,
            "type": "pie"
           }
          ],
          "scatter": [
           {
            "fillpattern": {
             "fillmode": "overlay",
             "size": 10,
             "solidity": 0.2
            },
            "type": "scatter"
           }
          ],
          "scatter3d": [
           {
            "line": {
             "colorbar": {
              "outlinewidth": 0,
              "ticks": ""
             }
            },
            "marker": {
             "colorbar": {
              "outlinewidth": 0,
              "ticks": ""
             }
            },
            "type": "scatter3d"
           }
          ],
          "scattercarpet": [
           {
            "marker": {
             "colorbar": {
              "outlinewidth": 0,
              "ticks": ""
             }
            },
            "type": "scattercarpet"
           }
          ],
          "scattergeo": [
           {
            "marker": {
             "colorbar": {
              "outlinewidth": 0,
              "ticks": ""
             }
            },
            "type": "scattergeo"
           }
          ],
          "scattergl": [
           {
            "marker": {
             "colorbar": {
              "outlinewidth": 0,
              "ticks": ""
             }
            },
            "type": "scattergl"
           }
          ],
          "scattermap": [
           {
            "marker": {
             "colorbar": {
              "outlinewidth": 0,
              "ticks": ""
             }
            },
            "type": "scattermap"
           }
          ],
          "scattermapbox": [
           {
            "marker": {
             "colorbar": {
              "outlinewidth": 0,
              "ticks": ""
             }
            },
            "type": "scattermapbox"
           }
          ],
          "scatterpolar": [
           {
            "marker": {
             "colorbar": {
              "outlinewidth": 0,
              "ticks": ""
             }
            },
            "type": "scatterpolar"
           }
          ],
          "scatterpolargl": [
           {
            "marker": {
             "colorbar": {
              "outlinewidth": 0,
              "ticks": ""
             }
            },
            "type": "scatterpolargl"
           }
          ],
          "scatterternary": [
           {
            "marker": {
             "colorbar": {
              "outlinewidth": 0,
              "ticks": ""
             }
            },
            "type": "scatterternary"
           }
          ],
          "surface": [
           {
            "colorbar": {
             "outlinewidth": 0,
             "ticks": ""
            },
            "colorscale": [
             [
              0,
              "#0d0887"
             ],
             [
              0.1111111111111111,
              "#46039f"
             ],
             [
              0.2222222222222222,
              "#7201a8"
             ],
             [
              0.3333333333333333,
              "#9c179e"
             ],
             [
              0.4444444444444444,
              "#bd3786"
             ],
             [
              0.5555555555555556,
              "#d8576b"
             ],
             [
              0.6666666666666666,
              "#ed7953"
             ],
             [
              0.7777777777777778,
              "#fb9f3a"
             ],
             [
              0.8888888888888888,
              "#fdca26"
             ],
             [
              1,
              "#f0f921"
             ]
            ],
            "type": "surface"
           }
          ],
          "table": [
           {
            "cells": {
             "fill": {
              "color": "#EBF0F8"
             },
             "line": {
              "color": "white"
             }
            },
            "header": {
             "fill": {
              "color": "#C8D4E3"
             },
             "line": {
              "color": "white"
             }
            },
            "type": "table"
           }
          ]
         },
         "layout": {
          "annotationdefaults": {
           "arrowcolor": "#2a3f5f",
           "arrowhead": 0,
           "arrowwidth": 1
          },
          "autotypenumbers": "strict",
          "coloraxis": {
           "colorbar": {
            "outlinewidth": 0,
            "ticks": ""
           }
          },
          "colorscale": {
           "diverging": [
            [
             0,
             "#8e0152"
            ],
            [
             0.1,
             "#c51b7d"
            ],
            [
             0.2,
             "#de77ae"
            ],
            [
             0.3,
             "#f1b6da"
            ],
            [
             0.4,
             "#fde0ef"
            ],
            [
             0.5,
             "#f7f7f7"
            ],
            [
             0.6,
             "#e6f5d0"
            ],
            [
             0.7,
             "#b8e186"
            ],
            [
             0.8,
             "#7fbc41"
            ],
            [
             0.9,
             "#4d9221"
            ],
            [
             1,
             "#276419"
            ]
           ],
           "sequential": [
            [
             0,
             "#0d0887"
            ],
            [
             0.1111111111111111,
             "#46039f"
            ],
            [
             0.2222222222222222,
             "#7201a8"
            ],
            [
             0.3333333333333333,
             "#9c179e"
            ],
            [
             0.4444444444444444,
             "#bd3786"
            ],
            [
             0.5555555555555556,
             "#d8576b"
            ],
            [
             0.6666666666666666,
             "#ed7953"
            ],
            [
             0.7777777777777778,
             "#fb9f3a"
            ],
            [
             0.8888888888888888,
             "#fdca26"
            ],
            [
             1,
             "#f0f921"
            ]
           ],
           "sequentialminus": [
            [
             0,
             "#0d0887"
            ],
            [
             0.1111111111111111,
             "#46039f"
            ],
            [
             0.2222222222222222,
             "#7201a8"
            ],
            [
             0.3333333333333333,
             "#9c179e"
            ],
            [
             0.4444444444444444,
             "#bd3786"
            ],
            [
             0.5555555555555556,
             "#d8576b"
            ],
            [
             0.6666666666666666,
             "#ed7953"
            ],
            [
             0.7777777777777778,
             "#fb9f3a"
            ],
            [
             0.8888888888888888,
             "#fdca26"
            ],
            [
             1,
             "#f0f921"
            ]
           ]
          },
          "colorway": [
           "#636efa",
           "#EF553B",
           "#00cc96",
           "#ab63fa",
           "#FFA15A",
           "#19d3f3",
           "#FF6692",
           "#B6E880",
           "#FF97FF",
           "#FECB52"
          ],
          "font": {
           "color": "#2a3f5f"
          },
          "geo": {
           "bgcolor": "white",
           "lakecolor": "white",
           "landcolor": "#E5ECF6",
           "showlakes": true,
           "showland": true,
           "subunitcolor": "white"
          },
          "hoverlabel": {
           "align": "left"
          },
          "hovermode": "closest",
          "mapbox": {
           "style": "light"
          },
          "paper_bgcolor": "white",
          "plot_bgcolor": "#E5ECF6",
          "polar": {
           "angularaxis": {
            "gridcolor": "white",
            "linecolor": "white",
            "ticks": ""
           },
           "bgcolor": "#E5ECF6",
           "radialaxis": {
            "gridcolor": "white",
            "linecolor": "white",
            "ticks": ""
           }
          },
          "scene": {
           "xaxis": {
            "backgroundcolor": "#E5ECF6",
            "gridcolor": "white",
            "gridwidth": 2,
            "linecolor": "white",
            "showbackground": true,
            "ticks": "",
            "zerolinecolor": "white"
           },
           "yaxis": {
            "backgroundcolor": "#E5ECF6",
            "gridcolor": "white",
            "gridwidth": 2,
            "linecolor": "white",
            "showbackground": true,
            "ticks": "",
            "zerolinecolor": "white"
           },
           "zaxis": {
            "backgroundcolor": "#E5ECF6",
            "gridcolor": "white",
            "gridwidth": 2,
            "linecolor": "white",
            "showbackground": true,
            "ticks": "",
            "zerolinecolor": "white"
           }
          },
          "shapedefaults": {
           "line": {
            "color": "#2a3f5f"
           }
          },
          "ternary": {
           "aaxis": {
            "gridcolor": "white",
            "linecolor": "white",
            "ticks": ""
           },
           "baxis": {
            "gridcolor": "white",
            "linecolor": "white",
            "ticks": ""
           },
           "bgcolor": "#E5ECF6",
           "caxis": {
            "gridcolor": "white",
            "linecolor": "white",
            "ticks": ""
           }
          },
          "title": {
           "x": 0.05
          },
          "xaxis": {
           "automargin": true,
           "gridcolor": "white",
           "linecolor": "white",
           "ticks": "",
           "title": {
            "standoff": 15
           },
           "zerolinecolor": "white",
           "zerolinewidth": 2
          },
          "yaxis": {
           "automargin": true,
           "gridcolor": "white",
           "linecolor": "white",
           "ticks": "",
           "title": {
            "standoff": 15
           },
           "zerolinecolor": "white",
           "zerolinewidth": 2
          }
         }
        },
        "title": {
         "text": "Trends of Numeric Features Over Years by Project Success"
        },
        "width": 1050,
        "xaxis": {
         "anchor": "y",
         "domain": [
          0,
          0.3
         ]
        },
        "xaxis2": {
         "anchor": "y2",
         "domain": [
          0.35,
          0.6499999999999999
         ]
        },
        "xaxis3": {
         "anchor": "y3",
         "domain": [
          0.7,
          1
         ]
        },
        "xaxis4": {
         "anchor": "y4",
         "domain": [
          0,
          0.3
         ]
        },
        "xaxis5": {
         "anchor": "y5",
         "domain": [
          0.35,
          0.6499999999999999
         ]
        },
        "xaxis6": {
         "anchor": "y6",
         "domain": [
          0.7,
          1
         ]
        },
        "yaxis": {
         "anchor": "x",
         "domain": [
          0.575,
          1
         ],
         "title": {
          "text": "avg_team_experience"
         }
        },
        "yaxis2": {
         "anchor": "x2",
         "domain": [
          0.575,
          1
         ],
         "title": {
          "text": "innovation_score"
         }
        },
        "yaxis3": {
         "anchor": "x3",
         "domain": [
          0.575,
          1
         ],
         "title": {
          "text": "funding_amount_usd"
         }
        },
        "yaxis4": {
         "anchor": "x4",
         "domain": [
          0,
          0.425
         ],
         "title": {
          "text": "market_readiness_level"
         }
        },
        "yaxis5": {
         "anchor": "x5",
         "domain": [
          0,
          0.425
         ],
         "title": {
          "text": "business_model_score"
         }
        },
        "yaxis6": {
         "anchor": "x6",
         "domain": [
          0,
          0.425
         ],
         "title": {
          "text": "technology_maturity"
         }
        }
       }
      }
     },
     "metadata": {},
     "output_type": "display_data"
    }
   ],
   "source": [
    "numeric_vars = [ 'avg_team_experience', 'innovation_score', 'funding_amount_usd',\n",
    "                 'market_readiness_level','business_model_score','technology_maturity' ]\n",
    "\n",
    "cols_per_row = 3\n",
    "rows = (len(numeric_vars) + cols_per_row - 1) // cols_per_row  # Calculate rows\n",
    "\n",
    "fig = make_subplots(\n",
    "    rows=rows, cols=cols_per_row,\n",
    "    subplot_titles=numeric_vars,\n",
    "    horizontal_spacing=0.05, vertical_spacing=0.15\n",
    ")\n",
    "\n",
    "status_properties = {\n",
    "    0: {'name': 'Fail (0)', 'color': 'red'}, \n",
    "    1: {'name': 'Success (1)', 'color': 'green'}  \n",
    "}\n",
    "\n",
    "\n",
    "for i, col in enumerate(numeric_vars):\n",
    "    avg_df = df.groupby(['year', 'success_label'], as_index=False)[col].mean()\n",
    "\n",
    "    row = (i // cols_per_row) + 1  \n",
    "    col_pos = (i % cols_per_row) + 1\n",
    "\n",
    "    for success_label, properties in status_properties.items():\n",
    "        show_legend = (i == 0 and success_label == 0) or (i == 0 and success_label == 1)\n",
    "        \n",
    "        fig.add_trace(\n",
    "            go.Scatter(\n",
    "                x=avg_df[avg_df['success_label'] == success_label]['year'],\n",
    "                y=avg_df[avg_df['success_label'] == success_label][col],\n",
    "                mode='lines+markers',\n",
    "                name=properties['name'],\n",
    "                line=dict(color=properties['color']),\n",
    "                legendgroup=properties['name'],  \n",
    "                showlegend=show_legend  \n",
    "            ),\n",
    "            row=row, col=col_pos\n",
    "        )\n",
    "\n",
    "    fig.update_yaxes(title_text=col, row=row, col=col_pos)\n",
    "\n",
    "fig.update_layout(\n",
    "    height=400 * rows, \n",
    "    width=350 * cols_per_row, \n",
    "    title_text='Trends of Numeric Features Over Years by Project Success',\n",
    "    showlegend=True,  \n",
    ")\n",
    "\n",
    "fig.show()\n"
   ]
  },
  {
   "cell_type": "code",
   "execution_count": 23,
   "id": "82790f3c-58fb-4fd8-8fc7-fea3f7ec2349",
   "metadata": {},
   "outputs": [
    {
     "data": {
      "image/png": "[encoded data removed]",
      "text/plain": [
       "<Figure size 1000x800 with 2 Axes>"
      ]
     },
     "metadata": {},
     "output_type": "display_data"
    }
   ],
   "source": [
    "# Compute the correlation matrix\n",
    "correlation_matrix = df[numerical_vars].corr()\n",
    "\n",
    "# Create a heatmap\n",
    "plt.figure(figsize=(10, 8))\n",
    "sns.heatmap(correlation_matrix, annot=True, cmap='coolwarm', fmt=\".2f\")\n",
    "plt.title('Correlation Heatmap of Variables')\n",
    "plt.show()"
   ]
  },
  {
   "cell_type": "markdown",
   "id": "be37a274-8230-4be1-8c74-3894062f801a",
   "metadata": {},
   "source": [
    "### 4.3: Key Descriptive Insights : Factors Influencing Project Success"
   ]
  },
  {
   "cell_type": "markdown",
   "id": "1bf3ca24-c345-4500-ad98-73967d3c3899",
   "metadata": {},
   "source": [
    "#### 1. Descriptive Statistics for Failed Projects"
   ]
  },
  {
   "cell_type": "code",
   "execution_count": 24,
   "id": "704027f8-b5f5-4ed2-a3df-8b394669ea20",
   "metadata": {},
   "outputs": [
    {
     "data": {
      "text/html": [
       "<div>\n",
       "<style scoped>\n",
       "    .dataframe tbody tr th:only-of-type {\n",
       "        vertical-align: middle;\n",
       "    }\n",
       "\n",
       "    .dataframe tbody tr th {\n",
       "        vertical-align: top;\n",
       "    }\n",
       "\n",
       "    .dataframe thead th {\n",
       "        text-align: right;\n",
       "    }\n",
       "</style>\n",
       "<table border=\"1\" class=\"dataframe\">\n",
       "  <thead>\n",
       "    <tr style=\"text-align: right;\">\n",
       "      <th></th>\n",
       "      <th>team_size</th>\n",
       "      <th>avg_team_experience</th>\n",
       "      <th>innovation_score</th>\n",
       "      <th>funding_amount_usd</th>\n",
       "      <th>mentorship_support</th>\n",
       "      <th>incubation_support</th>\n",
       "      <th>market_readiness_level</th>\n",
       "      <th>competition_awards</th>\n",
       "      <th>business_model_score</th>\n",
       "      <th>technology_maturity</th>\n",
       "      <th>year</th>\n",
       "    </tr>\n",
       "  </thead>\n",
       "  <tbody>\n",
       "    <tr>\n",
       "      <th>count</th>\n",
       "      <td>1219.00</td>\n",
       "      <td>1219.00</td>\n",
       "      <td>1219.00</td>\n",
       "      <td>1219.00</td>\n",
       "      <td>1219.00</td>\n",
       "      <td>1219.00</td>\n",
       "      <td>1219.00</td>\n",
       "      <td>1219.00</td>\n",
       "      <td>1219.00</td>\n",
       "      <td>1219.00</td>\n",
       "      <td>1219.00</td>\n",
       "    </tr>\n",
       "    <tr>\n",
       "      <th>mean</th>\n",
       "      <td>4.56</td>\n",
       "      <td>2.24</td>\n",
       "      <td>0.59</td>\n",
       "      <td>20621.67</td>\n",
       "      <td>0.34</td>\n",
       "      <td>0.35</td>\n",
       "      <td>2.77</td>\n",
       "      <td>1.96</td>\n",
       "      <td>0.55</td>\n",
       "      <td>2.83</td>\n",
       "      <td>2021.05</td>\n",
       "    </tr>\n",
       "    <tr>\n",
       "      <th>std</th>\n",
       "      <td>1.70</td>\n",
       "      <td>1.00</td>\n",
       "      <td>0.20</td>\n",
       "      <td>13217.39</td>\n",
       "      <td>0.47</td>\n",
       "      <td>0.48</td>\n",
       "      <td>1.40</td>\n",
       "      <td>1.39</td>\n",
       "      <td>0.23</td>\n",
       "      <td>1.40</td>\n",
       "      <td>1.46</td>\n",
       "    </tr>\n",
       "    <tr>\n",
       "      <th>min</th>\n",
       "      <td>2.00</td>\n",
       "      <td>0.50</td>\n",
       "      <td>0.30</td>\n",
       "      <td>1050.09</td>\n",
       "      <td>0.00</td>\n",
       "      <td>0.00</td>\n",
       "      <td>1.00</td>\n",
       "      <td>0.00</td>\n",
       "      <td>0.20</td>\n",
       "      <td>1.00</td>\n",
       "      <td>2019.00</td>\n",
       "    </tr>\n",
       "    <tr>\n",
       "      <th>25%</th>\n",
       "      <td>3.00</td>\n",
       "      <td>1.42</td>\n",
       "      <td>0.42</td>\n",
       "      <td>9141.50</td>\n",
       "      <td>0.00</td>\n",
       "      <td>0.00</td>\n",
       "      <td>1.00</td>\n",
       "      <td>1.00</td>\n",
       "      <td>0.35</td>\n",
       "      <td>2.00</td>\n",
       "      <td>2020.00</td>\n",
       "    </tr>\n",
       "    <tr>\n",
       "      <th>50%</th>\n",
       "      <td>5.00</td>\n",
       "      <td>2.25</td>\n",
       "      <td>0.58</td>\n",
       "      <td>18456.40</td>\n",
       "      <td>0.00</td>\n",
       "      <td>0.00</td>\n",
       "      <td>3.00</td>\n",
       "      <td>2.00</td>\n",
       "      <td>0.52</td>\n",
       "      <td>3.00</td>\n",
       "      <td>2021.00</td>\n",
       "    </tr>\n",
       "    <tr>\n",
       "      <th>75%</th>\n",
       "      <td>6.00</td>\n",
       "      <td>3.08</td>\n",
       "      <td>0.75</td>\n",
       "      <td>31157.12</td>\n",
       "      <td>1.00</td>\n",
       "      <td>1.00</td>\n",
       "      <td>4.00</td>\n",
       "      <td>3.00</td>\n",
       "      <td>0.73</td>\n",
       "      <td>4.00</td>\n",
       "      <td>2022.00</td>\n",
       "    </tr>\n",
       "    <tr>\n",
       "      <th>max</th>\n",
       "      <td>7.00</td>\n",
       "      <td>4.00</td>\n",
       "      <td>1.00</td>\n",
       "      <td>49982.15</td>\n",
       "      <td>1.00</td>\n",
       "      <td>1.00</td>\n",
       "      <td>5.00</td>\n",
       "      <td>4.00</td>\n",
       "      <td>1.00</td>\n",
       "      <td>5.00</td>\n",
       "      <td>2023.00</td>\n",
       "    </tr>\n",
       "  </tbody>\n",
       "</table>\n",
       "</div>"
      ],
      "text/plain": [
       "       team_size  avg_team_experience  innovation_score  funding_amount_usd  \\\n",
       "count    1219.00              1219.00           1219.00             1219.00   \n",
       "mean        4.56                 2.24              0.59            20621.67   \n",
       "std         1.70                 1.00              0.20            13217.39   \n",
       "min         2.00                 0.50              0.30             1050.09   \n",
       "25%         3.00                 1.42              0.42             9141.50   \n",
       "50%         5.00                 2.25              0.58            18456.40   \n",
       "75%         6.00                 3.08              0.75            31157.12   \n",
       "max         7.00                 4.00              1.00            49982.15   \n",
       "\n",
       "       mentorship_support  incubation_support  market_readiness_level  \\\n",
       "count             1219.00             1219.00                 1219.00   \n",
       "mean                 0.34                0.35                    2.77   \n",
       "std                  0.47                0.48                    1.40   \n",
       "min                  0.00                0.00                    1.00   \n",
       "25%                  0.00                0.00                    1.00   \n",
       "50%                  0.00                0.00                    3.00   \n",
       "75%                  1.00                1.00                    4.00   \n",
       "max                  1.00                1.00                    5.00   \n",
       "\n",
       "       competition_awards  business_model_score  technology_maturity     year  \n",
       "count             1219.00               1219.00              1219.00  1219.00  \n",
       "mean                 1.96                  0.55                 2.83  2021.05  \n",
       "std                  1.39                  0.23                 1.40     1.46  \n",
       "min                  0.00                  0.20                 1.00  2019.00  \n",
       "25%                  1.00                  0.35                 2.00  2020.00  \n",
       "50%                  2.00                  0.52                 3.00  2021.00  \n",
       "75%                  3.00                  0.73                 4.00  2022.00  \n",
       "max                  4.00                  1.00                 5.00  2023.00  "
      ]
     },
     "execution_count": 24,
     "metadata": {},
     "output_type": "execute_result"
    }
   ],
   "source": [
    "df_fail = df[df['success_label'] == 0]\n",
    "\n",
    "desc_fail = df_fail.drop(columns=['success_label']).describe().round(2)\n",
    "desc_fail"
   ]
  },
  {
   "cell_type": "markdown",
   "id": "6a9de0dc-1c25-47a4-adc8-60982a7d765e",
   "metadata": {},
   "source": [
    ">  Most failed projects had a team size around 5, moderate innovation score (0.58), and average funding of 20,621 usd. Funding varies widely, with the highest-funded failed project receiving nearly $50,000. Failed projects are distributed across 2019–2023, with many receiving low mentorship and incubation support."
   ]
  },
  {
   "cell_type": "markdown",
   "id": "7eac77a6-4730-41ae-9661-2365efee550d",
   "metadata": {},
   "source": [
    "#### 2. Descriptive Statistics for Successful Projects"
   ]
  },
  {
   "cell_type": "code",
   "execution_count": 25,
   "id": "03195b19-d5cc-44c4-b4d1-4d1c0fee6213",
   "metadata": {},
   "outputs": [
    {
     "data": {
      "text/html": [
       "<div>\n",
       "<style scoped>\n",
       "    .dataframe tbody tr th:only-of-type {\n",
       "        vertical-align: middle;\n",
       "    }\n",
       "\n",
       "    .dataframe tbody tr th {\n",
       "        vertical-align: top;\n",
       "    }\n",
       "\n",
       "    .dataframe thead th {\n",
       "        text-align: right;\n",
       "    }\n",
       "</style>\n",
       "<table border=\"1\" class=\"dataframe\">\n",
       "  <thead>\n",
       "    <tr style=\"text-align: right;\">\n",
       "      <th></th>\n",
       "      <th>team_size</th>\n",
       "      <th>avg_team_experience</th>\n",
       "      <th>innovation_score</th>\n",
       "      <th>funding_amount_usd</th>\n",
       "      <th>mentorship_support</th>\n",
       "      <th>incubation_support</th>\n",
       "      <th>market_readiness_level</th>\n",
       "      <th>competition_awards</th>\n",
       "      <th>business_model_score</th>\n",
       "      <th>technology_maturity</th>\n",
       "      <th>year</th>\n",
       "    </tr>\n",
       "  </thead>\n",
       "  <tbody>\n",
       "    <tr>\n",
       "      <th>count</th>\n",
       "      <td>881.00</td>\n",
       "      <td>881.00</td>\n",
       "      <td>881.00</td>\n",
       "      <td>881.00</td>\n",
       "      <td>881.00</td>\n",
       "      <td>881.00</td>\n",
       "      <td>881.00</td>\n",
       "      <td>881.00</td>\n",
       "      <td>881.00</td>\n",
       "      <td>881.00</td>\n",
       "      <td>881.00</td>\n",
       "    </tr>\n",
       "    <tr>\n",
       "      <th>mean</th>\n",
       "      <td>4.36</td>\n",
       "      <td>2.31</td>\n",
       "      <td>0.73</td>\n",
       "      <td>31945.95</td>\n",
       "      <td>0.71</td>\n",
       "      <td>0.72</td>\n",
       "      <td>3.22</td>\n",
       "      <td>1.92</td>\n",
       "      <td>0.66</td>\n",
       "      <td>3.39</td>\n",
       "      <td>2021.07</td>\n",
       "    </tr>\n",
       "    <tr>\n",
       "      <th>std</th>\n",
       "      <td>1.72</td>\n",
       "      <td>1.01</td>\n",
       "      <td>0.18</td>\n",
       "      <td>12676.74</td>\n",
       "      <td>0.45</td>\n",
       "      <td>0.45</td>\n",
       "      <td>1.43</td>\n",
       "      <td>1.40</td>\n",
       "      <td>0.23</td>\n",
       "      <td>1.37</td>\n",
       "      <td>1.46</td>\n",
       "    </tr>\n",
       "    <tr>\n",
       "      <th>min</th>\n",
       "      <td>2.00</td>\n",
       "      <td>0.50</td>\n",
       "      <td>0.31</td>\n",
       "      <td>1507.82</td>\n",
       "      <td>0.00</td>\n",
       "      <td>0.00</td>\n",
       "      <td>1.00</td>\n",
       "      <td>0.00</td>\n",
       "      <td>0.20</td>\n",
       "      <td>1.00</td>\n",
       "      <td>2019.00</td>\n",
       "    </tr>\n",
       "    <tr>\n",
       "      <th>25%</th>\n",
       "      <td>3.00</td>\n",
       "      <td>1.45</td>\n",
       "      <td>0.59</td>\n",
       "      <td>22543.13</td>\n",
       "      <td>0.00</td>\n",
       "      <td>0.00</td>\n",
       "      <td>2.00</td>\n",
       "      <td>1.00</td>\n",
       "      <td>0.47</td>\n",
       "      <td>2.00</td>\n",
       "      <td>2020.00</td>\n",
       "    </tr>\n",
       "    <tr>\n",
       "      <th>50%</th>\n",
       "      <td>4.00</td>\n",
       "      <td>2.34</td>\n",
       "      <td>0.76</td>\n",
       "      <td>34327.00</td>\n",
       "      <td>1.00</td>\n",
       "      <td>1.00</td>\n",
       "      <td>3.00</td>\n",
       "      <td>2.00</td>\n",
       "      <td>0.70</td>\n",
       "      <td>4.00</td>\n",
       "      <td>2021.00</td>\n",
       "    </tr>\n",
       "    <tr>\n",
       "      <th>75%</th>\n",
       "      <td>6.00</td>\n",
       "      <td>3.17</td>\n",
       "      <td>0.88</td>\n",
       "      <td>42709.16</td>\n",
       "      <td>1.00</td>\n",
       "      <td>1.00</td>\n",
       "      <td>5.00</td>\n",
       "      <td>3.00</td>\n",
       "      <td>0.86</td>\n",
       "      <td>5.00</td>\n",
       "      <td>2022.00</td>\n",
       "    </tr>\n",
       "    <tr>\n",
       "      <th>max</th>\n",
       "      <td>7.00</td>\n",
       "      <td>4.00</td>\n",
       "      <td>1.00</td>\n",
       "      <td>49968.88</td>\n",
       "      <td>1.00</td>\n",
       "      <td>1.00</td>\n",
       "      <td>5.00</td>\n",
       "      <td>4.00</td>\n",
       "      <td>1.00</td>\n",
       "      <td>5.00</td>\n",
       "      <td>2023.00</td>\n",
       "    </tr>\n",
       "  </tbody>\n",
       "</table>\n",
       "</div>"
      ],
      "text/plain": [
       "       team_size  avg_team_experience  innovation_score  funding_amount_usd  \\\n",
       "count     881.00               881.00            881.00              881.00   \n",
       "mean        4.36                 2.31              0.73            31945.95   \n",
       "std         1.72                 1.01              0.18            12676.74   \n",
       "min         2.00                 0.50              0.31             1507.82   \n",
       "25%         3.00                 1.45              0.59            22543.13   \n",
       "50%         4.00                 2.34              0.76            34327.00   \n",
       "75%         6.00                 3.17              0.88            42709.16   \n",
       "max         7.00                 4.00              1.00            49968.88   \n",
       "\n",
       "       mentorship_support  incubation_support  market_readiness_level  \\\n",
       "count              881.00              881.00                  881.00   \n",
       "mean                 0.71                0.72                    3.22   \n",
       "std                  0.45                0.45                    1.43   \n",
       "min                  0.00                0.00                    1.00   \n",
       "25%                  0.00                0.00                    2.00   \n",
       "50%                  1.00                1.00                    3.00   \n",
       "75%                  1.00                1.00                    5.00   \n",
       "max                  1.00                1.00                    5.00   \n",
       "\n",
       "       competition_awards  business_model_score  technology_maturity     year  \n",
       "count              881.00                881.00               881.00   881.00  \n",
       "mean                 1.92                  0.66                 3.39  2021.07  \n",
       "std                  1.40                  0.23                 1.37     1.46  \n",
       "min                  0.00                  0.20                 1.00  2019.00  \n",
       "25%                  1.00                  0.47                 2.00  2020.00  \n",
       "50%                  2.00                  0.70                 4.00  2021.00  \n",
       "75%                  3.00                  0.86                 5.00  2022.00  \n",
       "max                  4.00                  1.00                 5.00  2023.00  "
      ]
     },
     "execution_count": 25,
     "metadata": {},
     "output_type": "execute_result"
    }
   ],
   "source": [
    "df_success = df[df['success_label'] == 1]\n",
    "\n",
    "# Describe successful projects\n",
    "desc_success = df_success.drop(columns=['success_label']).describe().round(2)\n",
    "desc_success"
   ]
  },
  {
   "cell_type": "markdown",
   "id": "bc9fa98e-77be-4329-9230-26d086c6678e",
   "metadata": {},
   "source": [
    "> Most successful projects had a team size around 4 and slightly higher average team experience (2.31) compared to failed projects. The average innovation score is 0.73, higher than failures, and average funding is $31,946, indicating that successful projects tend to receive more financial support. Mentorship and incubation support are considerably higher (averages ~0.71–0.72), suggesting strong guidance contributes to success. Market readiness level averages 3.22, higher than failed projects, showing successful projects are generally better prepared for the market. Projects are distributed across 2019–2023, with most falling near the median year 2021."
   ]
  },
  {
   "cell_type": "markdown",
   "id": "3ed4761a-a5ca-42ff-b487-cca57f102a40",
   "metadata": {},
   "source": [
    "#### 3. Aggregated Metrics for Successful Projects by Domain"
   ]
  },
  {
   "cell_type": "code",
   "execution_count": 26,
   "id": "5904e4c8-d84a-4650-b7da-0614f11e6637",
   "metadata": {},
   "outputs": [
    {
     "data": {
      "text/html": [
       "<div>\n",
       "<style scoped>\n",
       "    .dataframe tbody tr th:only-of-type {\n",
       "        vertical-align: middle;\n",
       "    }\n",
       "\n",
       "    .dataframe tbody tr th {\n",
       "        vertical-align: top;\n",
       "    }\n",
       "\n",
       "    .dataframe thead th {\n",
       "        text-align: right;\n",
       "    }\n",
       "</style>\n",
       "<table border=\"1\" class=\"dataframe\">\n",
       "  <thead>\n",
       "    <tr style=\"text-align: right;\">\n",
       "      <th></th>\n",
       "      <th>project_domain</th>\n",
       "      <th>team_size</th>\n",
       "      <th>innovation_score</th>\n",
       "      <th>funding_amount_usd</th>\n",
       "      <th>avg_team_experience</th>\n",
       "    </tr>\n",
       "  </thead>\n",
       "  <tbody>\n",
       "    <tr>\n",
       "      <th>0</th>\n",
       "      <td>AgriTech</td>\n",
       "      <td>4.0</td>\n",
       "      <td>0.73</td>\n",
       "      <td>33175.26</td>\n",
       "      <td>2.35</td>\n",
       "    </tr>\n",
       "    <tr>\n",
       "      <th>1</th>\n",
       "      <td>EdTech</td>\n",
       "      <td>4.0</td>\n",
       "      <td>0.75</td>\n",
       "      <td>31801.39</td>\n",
       "      <td>2.30</td>\n",
       "    </tr>\n",
       "    <tr>\n",
       "      <th>2</th>\n",
       "      <td>FinTech</td>\n",
       "      <td>4.0</td>\n",
       "      <td>0.72</td>\n",
       "      <td>31668.31</td>\n",
       "      <td>2.27</td>\n",
       "    </tr>\n",
       "    <tr>\n",
       "      <th>3</th>\n",
       "      <td>GreenTech</td>\n",
       "      <td>4.0</td>\n",
       "      <td>0.74</td>\n",
       "      <td>31234.39</td>\n",
       "      <td>2.25</td>\n",
       "    </tr>\n",
       "    <tr>\n",
       "      <th>4</th>\n",
       "      <td>HealthTech</td>\n",
       "      <td>4.0</td>\n",
       "      <td>0.71</td>\n",
       "      <td>31883.56</td>\n",
       "      <td>2.39</td>\n",
       "    </tr>\n",
       "  </tbody>\n",
       "</table>\n",
       "</div>"
      ],
      "text/plain": [
       "  project_domain  team_size  innovation_score  funding_amount_usd  \\\n",
       "0       AgriTech        4.0              0.73            33175.26   \n",
       "1         EdTech        4.0              0.75            31801.39   \n",
       "2        FinTech        4.0              0.72            31668.31   \n",
       "3      GreenTech        4.0              0.74            31234.39   \n",
       "4     HealthTech        4.0              0.71            31883.56   \n",
       "\n",
       "   avg_team_experience  \n",
       "0                 2.35  \n",
       "1                 2.30  \n",
       "2                 2.27  \n",
       "3                 2.25  \n",
       "4                 2.39  "
      ]
     },
     "execution_count": 26,
     "metadata": {},
     "output_type": "execute_result"
    }
   ],
   "source": [
    "df_success = df[df['success_label'] == 1]\n",
    "\n",
    "# Group by project_domain and calculate aggregated stats\n",
    "domain_success_stats = df_success.groupby('project_domain').agg({\n",
    "    'team_size': 'median',\n",
    "    'innovation_score': 'mean',\n",
    "    'funding_amount_usd': 'mean',\n",
    "    'avg_team_experience': 'mean',\n",
    "}).reset_index()\n",
    "\n",
    "# Optional: round for readability\n",
    "domain_success_stats = domain_success_stats.round(2)\n",
    "\n",
    "domain_success_stats"
   ]
  },
  {
   "cell_type": "markdown",
   "id": "ecb8c747-0984-4446-9419-d020178468ce",
   "metadata": {},
   "source": [
    "> 1. Team Size: Median is 4 across all domains, moderately sized teams are common.\n",
    "> 2. Innovation Score: 0.71–0.75, all domains show relatively high innovation.\n",
    "> 3.  Funding: `$31k–$33k`, typical successful projects receive substantial funding.\n",
    "> 4.  Team Experience: 2.25–2.39, moderately experienced teams are typical.\n",
    "\n",
    "> Overall: Success is associated with balanced team size & experience, strong innovation, and decent funding, consistent across domains."
   ]
  },
  {
   "cell_type": "markdown",
   "id": "15495477-f4d1-41cf-8eb9-481aa92a98fc",
   "metadata": {},
   "source": [
    "#### 4. Aggregated Metrics for Successful Projects by Institution Type"
   ]
  },
  {
   "cell_type": "code",
   "execution_count": 27,
   "id": "461a3c95-0dcc-4428-9f9c-ae618613bd13",
   "metadata": {},
   "outputs": [
    {
     "data": {
      "text/html": [
       "<div>\n",
       "<style scoped>\n",
       "    .dataframe tbody tr th:only-of-type {\n",
       "        vertical-align: middle;\n",
       "    }\n",
       "\n",
       "    .dataframe tbody tr th {\n",
       "        vertical-align: top;\n",
       "    }\n",
       "\n",
       "    .dataframe thead th {\n",
       "        text-align: right;\n",
       "    }\n",
       "</style>\n",
       "<table border=\"1\" class=\"dataframe\">\n",
       "  <thead>\n",
       "    <tr style=\"text-align: right;\">\n",
       "      <th></th>\n",
       "      <th>institution_type</th>\n",
       "      <th>team_size</th>\n",
       "      <th>innovation_score</th>\n",
       "      <th>funding_amount_usd</th>\n",
       "      <th>avg_team_experience</th>\n",
       "    </tr>\n",
       "  </thead>\n",
       "  <tbody>\n",
       "    <tr>\n",
       "      <th>0</th>\n",
       "      <td>Non-technical</td>\n",
       "      <td>4.0</td>\n",
       "      <td>0.739438</td>\n",
       "      <td>32511.487952</td>\n",
       "      <td>2.249920</td>\n",
       "    </tr>\n",
       "    <tr>\n",
       "      <th>1</th>\n",
       "      <td>Private</td>\n",
       "      <td>4.0</td>\n",
       "      <td>0.722591</td>\n",
       "      <td>32582.296891</td>\n",
       "      <td>2.338601</td>\n",
       "    </tr>\n",
       "    <tr>\n",
       "      <th>2</th>\n",
       "      <td>Public</td>\n",
       "      <td>4.0</td>\n",
       "      <td>0.740837</td>\n",
       "      <td>31362.536476</td>\n",
       "      <td>2.395066</td>\n",
       "    </tr>\n",
       "    <tr>\n",
       "      <th>3</th>\n",
       "      <td>Technical</td>\n",
       "      <td>4.0</td>\n",
       "      <td>0.718208</td>\n",
       "      <td>31327.077689</td>\n",
       "      <td>2.269906</td>\n",
       "    </tr>\n",
       "  </tbody>\n",
       "</table>\n",
       "</div>"
      ],
      "text/plain": [
       "  institution_type  team_size  innovation_score  funding_amount_usd  \\\n",
       "0    Non-technical        4.0          0.739438        32511.487952   \n",
       "1          Private        4.0          0.722591        32582.296891   \n",
       "2           Public        4.0          0.740837        31362.536476   \n",
       "3        Technical        4.0          0.718208        31327.077689   \n",
       "\n",
       "   avg_team_experience  \n",
       "0             2.249920  \n",
       "1             2.338601  \n",
       "2             2.395066  \n",
       "3             2.269906  "
      ]
     },
     "execution_count": 27,
     "metadata": {},
     "output_type": "execute_result"
    }
   ],
   "source": [
    "df_success.groupby(['institution_type']).agg({\n",
    "    'team_size': 'median',\n",
    "    'innovation_score': 'mean',\n",
    "    'funding_amount_usd': 'mean',\n",
    "    'avg_team_experience': 'mean',\n",
    "}).reset_index()"
   ]
  },
  {
   "cell_type": "markdown",
   "id": "a1d44335-8d48-4147-9aeb-f2686d2bc0a2",
   "metadata": {},
   "source": [
    "> 1. Team Size: Median is 4 across all institution types → moderately sized teams are common.\n",
    "> 2. Innovation Score: 0.72–0.74 → Public and Non-technical institutions show slightly higher innovation.\n",
    "> 3. Funding: `$31k–$32.5k` → typical successful projects receive similar funding across institutions.\n",
    "> 4.  Team Experience: 2.25–2.40 → moderately experienced teams are typical, with Public institutions slightly higher.\n",
    "\n",
    "> Overall: Success is generally associated with balanced team size, strong innovation, and moderate funding, with Public and Non-technical institutions slightly stronger in innovation and experience."
   ]
  },
  {
   "cell_type": "markdown",
   "id": "85ec5b56-fa8c-47f3-a807-aa9770579000",
   "metadata": {},
   "source": [
    "#### 5. Project Success and Failure Counts by Institution Type"
   ]
  },
  {
   "cell_type": "code",
   "execution_count": 28,
   "id": "666ff5ad-5632-4449-ba77-72d8a39d9588",
   "metadata": {},
   "outputs": [
    {
     "data": {
      "text/html": [
       "<div>\n",
       "<style scoped>\n",
       "    .dataframe tbody tr th:only-of-type {\n",
       "        vertical-align: middle;\n",
       "    }\n",
       "\n",
       "    .dataframe tbody tr th {\n",
       "        vertical-align: top;\n",
       "    }\n",
       "\n",
       "    .dataframe thead th {\n",
       "        text-align: right;\n",
       "    }\n",
       "</style>\n",
       "<table border=\"1\" class=\"dataframe\">\n",
       "  <thead>\n",
       "    <tr style=\"text-align: right;\">\n",
       "      <th>success_label</th>\n",
       "      <th>0</th>\n",
       "      <th>1</th>\n",
       "    </tr>\n",
       "    <tr>\n",
       "      <th>institution_type</th>\n",
       "      <th></th>\n",
       "      <th></th>\n",
       "    </tr>\n",
       "  </thead>\n",
       "  <tbody>\n",
       "    <tr>\n",
       "      <th>Non-technical</th>\n",
       "      <td>300</td>\n",
       "      <td>249</td>\n",
       "    </tr>\n",
       "    <tr>\n",
       "      <th>Public</th>\n",
       "      <td>319</td>\n",
       "      <td>227</td>\n",
       "    </tr>\n",
       "    <tr>\n",
       "      <th>Technical</th>\n",
       "      <td>296</td>\n",
       "      <td>212</td>\n",
       "    </tr>\n",
       "    <tr>\n",
       "      <th>Private</th>\n",
       "      <td>304</td>\n",
       "      <td>193</td>\n",
       "    </tr>\n",
       "  </tbody>\n",
       "</table>\n",
       "</div>"
      ],
      "text/plain": [
       "success_label       0    1\n",
       "institution_type          \n",
       "Non-technical     300  249\n",
       "Public            319  227\n",
       "Technical         296  212\n",
       "Private           304  193"
      ]
     },
     "execution_count": 28,
     "metadata": {},
     "output_type": "execute_result"
    }
   ],
   "source": [
    "success_failure_counts = df.groupby(['institution_type', 'success_label'])['project_id'].count().unstack(fill_value=0)\n",
    "success_failure_counts = success_failure_counts.sort_values(by=1, ascending=False)\n",
    "success_failure_counts"
   ]
  },
  {
   "cell_type": "markdown",
   "id": "0c121956-7fda-43b2-beeb-d4d12fa11eea",
   "metadata": {},
   "source": [
    "> 1. Non-technical institutions lead in project success with a success rate of ≈45%, indicating slightly better performance. \n",
    "> 2. Public and Technical institutions show moderate, similar success rates of ≈42%,\n",
    "> 3. While Private institutions lag behind at ≈39% despite running a substantial number of projects.\n",
    "> 4. This suggests that institution type may influence project outcomes, with Non-technical institutions performing slightly better."
   ]
  },
  {
   "cell_type": "markdown",
   "id": "aa609a8e-3cd0-4a95-ba60-db837ed670cf",
   "metadata": {},
   "source": [
    "### Next steps:\n",
    "\n",
    "> 1. Proceeding to Model Training using both original and engineered features.\n",
    "> 2. Splitting the dataset into training and test sets (80/20) for unbiased evaluation.\n",
    "> 3. Appling and compare multiple machine-learning models such as Logistic Regression, Random Forest, and XGBoost.\n",
    "> 4. To use key metrics — Accuracy, Precision, Recall, F1-Score, and ROC-AUC — to assess model performance.\n",
    "> 5. Perform feature importance analysis to identify which factors most strongly drive startup success.\n",
    "\n",
    "> Once the best-performing model is selected, develop an interactive Streamlit web app that allows users to input startup attributes and receive real-time success predictions."
   ]
  },
  {
   "cell_type": "code",
   "execution_count": null,
   "id": "6fffcb03-418a-4e37-a485-d4c54a088c7c",
   "metadata": {},
   "outputs": [],
   "source": []
  }
 ],
 "metadata": {
  "kernelspec": {
   "display_name": "Python 3 (ipykernel)",
   "language": "python",
   "name": "python3"
  },
  "language_info": {
   "codemirror_mode": {
    "name": "ipython",
    "version": 3
   },
   "file_extension": ".py",
   "mimetype": "text/x-python",
   "name": "python",
   "nbconvert_exporter": "python",
   "pygments_lexer": "ipython3",
   "version": "3.13.7"
  }
 },
 "nbformat": 4,
 "nbformat_minor": 5
}
